{
 "cells": [
  {
   "cell_type": "code",
   "execution_count": 1,
   "source": [
    "import pandas as pd\r\n",
    "# change made in VS code to check GIT sync - 02.09.2021 12.54PM"
   ],
   "outputs": [],
   "metadata": {}
  },
  {
   "cell_type": "code",
   "execution_count": 2,
   "source": [
    "import numpy as np\r\n",
    "# change made in VS code to check GIT sync - 02.09.2021 01.04PM"
   ],
   "outputs": [],
   "metadata": {}
  },
  {
   "cell_type": "code",
   "execution_count": 3,
   "source": [
    "from datetime import datetime"
   ],
   "outputs": [],
   "metadata": {}
  },
  {
   "cell_type": "code",
   "execution_count": 4,
   "source": [
    "import matplotlib.pyplot as plt\r\n",
    "plt.rcParams[\"figure.figsize\"] = [15, 5]"
   ],
   "outputs": [],
   "metadata": {}
  },
  {
   "cell_type": "code",
   "execution_count": 5,
   "source": [
    "raw_data = pd.read_excel(\"H://Python_Projects_001//Test_PV//2021 06 24 0000 (Float).xlsx\")\r\n",
    "raw_data[12:32]"
   ],
   "outputs": [
    {
     "output_type": "execute_result",
     "data": {
      "text/plain": [
       "        ;Date      Time  Millitm  \\\n",
       "12 2021-06-24  00:00:00      860   \n",
       "13 2021-06-24  00:00:00      860   \n",
       "14 2021-06-24  00:00:00      860   \n",
       "15 2021-06-24  00:00:00      860   \n",
       "16 2021-06-24  00:00:00      860   \n",
       "17 2021-06-24  00:00:00      860   \n",
       "18 2021-06-24  00:00:00      860   \n",
       "19 2021-06-24  00:00:00      860   \n",
       "20 2021-06-24  00:00:00      860   \n",
       "21 2021-06-24  00:00:00      860   \n",
       "22 2021-06-24  00:00:00      860   \n",
       "23 2021-06-24  00:00:00      860   \n",
       "24 2021-06-24  00:00:00      860   \n",
       "25 2021-06-24  00:00:00      860   \n",
       "26 2021-06-24  00:00:00      860   \n",
       "27 2021-06-24  00:00:00      860   \n",
       "28 2021-06-24  00:00:00      860   \n",
       "29 2021-06-24  00:00:00      860   \n",
       "30 2021-06-24  00:00:00      860   \n",
       "31 2021-06-24  00:02:04      651   \n",
       "\n",
       "                                              Tagname       Value Status  \\\n",
       "12  LOG\\INVERTER_2_DC_POWER                       ...    0.000000          \n",
       "13  LOG\\INVERTER_3_DC_POWER                       ...    0.000000          \n",
       "14  LOG\\INVERTER_4_AC_POWER                       ...    0.000000          \n",
       "15  LOG\\INVERTER_4_DC_POWER                       ...    0.000000          \n",
       "16  LOG\\INVERTER_5_AC_POWER                       ...    0.000000          \n",
       "17  LOG\\INVERTER_5_DC_POWER                       ...    0.000000          \n",
       "18  LOG\\PRODUCTTRANSFERTRIP                       ...    0.000000          \n",
       "19  LOG\\PV_MODULE_TEMPERATURE                     ...   31.900000          \n",
       "20  LOG\\SOC_BATTERY_CLUSTER_1                     ...   92.000000          \n",
       "21  LOG\\SOC_BATTERY_CLUSTER_2                     ...   92.000000          \n",
       "22  LOG\\SOC_BATTERY_MAIN_CLUSTER                  ...   93.000000          \n",
       "23  LOG\\SOLAR_IRRADIATION                         ...    0.000000          \n",
       "24  LOG\\TOTAL_POWER                               ...    0.000000          \n",
       "25  LOG\\VOLTAGE_OF_GRID_PHASE_1                   ...  232.599014          \n",
       "26  LOG\\VOLTAGE_OF_GRID_PHASE_2                   ...  232.443878          \n",
       "27  LOG\\VOLTAGE_OF_GRID_PHASE_3                   ...  231.685425          \n",
       "28  LOG\\WIND_SPEED                                ...    0.000000          \n",
       "29  LOG\\INVERTER_3_AC_POWER                       ...   55.009560          \n",
       "30  LOG\\ENERGY_GENERATED                          ...  705.393860          \n",
       "31  LOG\\AMBIENT_TEMPRATURE                        ...   34.500000          \n",
       "\n",
       "   Marker  Internal  \n",
       "12      B        -1  \n",
       "13      B        -1  \n",
       "14      B        -1  \n",
       "15      B        -1  \n",
       "16      B        -1  \n",
       "17      B        -1  \n",
       "18      B        -1  \n",
       "19      B        -1  \n",
       "20      B        -1  \n",
       "21      B        -1  \n",
       "22      B        -1  \n",
       "23      B        -1  \n",
       "24      B        -1  \n",
       "25      B        -1  \n",
       "26      B        -1  \n",
       "27      B        -1  \n",
       "28      B        -1  \n",
       "29      B        -1  \n",
       "30      B        -1  \n",
       "31                0  "
      ],
      "text/html": [
       "<div>\n",
       "<style scoped>\n",
       "    .dataframe tbody tr th:only-of-type {\n",
       "        vertical-align: middle;\n",
       "    }\n",
       "\n",
       "    .dataframe tbody tr th {\n",
       "        vertical-align: top;\n",
       "    }\n",
       "\n",
       "    .dataframe thead th {\n",
       "        text-align: right;\n",
       "    }\n",
       "</style>\n",
       "<table border=\"1\" class=\"dataframe\">\n",
       "  <thead>\n",
       "    <tr style=\"text-align: right;\">\n",
       "      <th></th>\n",
       "      <th>;Date</th>\n",
       "      <th>Time</th>\n",
       "      <th>Millitm</th>\n",
       "      <th>Tagname</th>\n",
       "      <th>Value</th>\n",
       "      <th>Status</th>\n",
       "      <th>Marker</th>\n",
       "      <th>Internal</th>\n",
       "    </tr>\n",
       "  </thead>\n",
       "  <tbody>\n",
       "    <tr>\n",
       "      <th>12</th>\n",
       "      <td>2021-06-24</td>\n",
       "      <td>00:00:00</td>\n",
       "      <td>860</td>\n",
       "      <td>LOG\\INVERTER_2_DC_POWER                       ...</td>\n",
       "      <td>0.000000</td>\n",
       "      <td></td>\n",
       "      <td>B</td>\n",
       "      <td>-1</td>\n",
       "    </tr>\n",
       "    <tr>\n",
       "      <th>13</th>\n",
       "      <td>2021-06-24</td>\n",
       "      <td>00:00:00</td>\n",
       "      <td>860</td>\n",
       "      <td>LOG\\INVERTER_3_DC_POWER                       ...</td>\n",
       "      <td>0.000000</td>\n",
       "      <td></td>\n",
       "      <td>B</td>\n",
       "      <td>-1</td>\n",
       "    </tr>\n",
       "    <tr>\n",
       "      <th>14</th>\n",
       "      <td>2021-06-24</td>\n",
       "      <td>00:00:00</td>\n",
       "      <td>860</td>\n",
       "      <td>LOG\\INVERTER_4_AC_POWER                       ...</td>\n",
       "      <td>0.000000</td>\n",
       "      <td></td>\n",
       "      <td>B</td>\n",
       "      <td>-1</td>\n",
       "    </tr>\n",
       "    <tr>\n",
       "      <th>15</th>\n",
       "      <td>2021-06-24</td>\n",
       "      <td>00:00:00</td>\n",
       "      <td>860</td>\n",
       "      <td>LOG\\INVERTER_4_DC_POWER                       ...</td>\n",
       "      <td>0.000000</td>\n",
       "      <td></td>\n",
       "      <td>B</td>\n",
       "      <td>-1</td>\n",
       "    </tr>\n",
       "    <tr>\n",
       "      <th>16</th>\n",
       "      <td>2021-06-24</td>\n",
       "      <td>00:00:00</td>\n",
       "      <td>860</td>\n",
       "      <td>LOG\\INVERTER_5_AC_POWER                       ...</td>\n",
       "      <td>0.000000</td>\n",
       "      <td></td>\n",
       "      <td>B</td>\n",
       "      <td>-1</td>\n",
       "    </tr>\n",
       "    <tr>\n",
       "      <th>17</th>\n",
       "      <td>2021-06-24</td>\n",
       "      <td>00:00:00</td>\n",
       "      <td>860</td>\n",
       "      <td>LOG\\INVERTER_5_DC_POWER                       ...</td>\n",
       "      <td>0.000000</td>\n",
       "      <td></td>\n",
       "      <td>B</td>\n",
       "      <td>-1</td>\n",
       "    </tr>\n",
       "    <tr>\n",
       "      <th>18</th>\n",
       "      <td>2021-06-24</td>\n",
       "      <td>00:00:00</td>\n",
       "      <td>860</td>\n",
       "      <td>LOG\\PRODUCTTRANSFERTRIP                       ...</td>\n",
       "      <td>0.000000</td>\n",
       "      <td></td>\n",
       "      <td>B</td>\n",
       "      <td>-1</td>\n",
       "    </tr>\n",
       "    <tr>\n",
       "      <th>19</th>\n",
       "      <td>2021-06-24</td>\n",
       "      <td>00:00:00</td>\n",
       "      <td>860</td>\n",
       "      <td>LOG\\PV_MODULE_TEMPERATURE                     ...</td>\n",
       "      <td>31.900000</td>\n",
       "      <td></td>\n",
       "      <td>B</td>\n",
       "      <td>-1</td>\n",
       "    </tr>\n",
       "    <tr>\n",
       "      <th>20</th>\n",
       "      <td>2021-06-24</td>\n",
       "      <td>00:00:00</td>\n",
       "      <td>860</td>\n",
       "      <td>LOG\\SOC_BATTERY_CLUSTER_1                     ...</td>\n",
       "      <td>92.000000</td>\n",
       "      <td></td>\n",
       "      <td>B</td>\n",
       "      <td>-1</td>\n",
       "    </tr>\n",
       "    <tr>\n",
       "      <th>21</th>\n",
       "      <td>2021-06-24</td>\n",
       "      <td>00:00:00</td>\n",
       "      <td>860</td>\n",
       "      <td>LOG\\SOC_BATTERY_CLUSTER_2                     ...</td>\n",
       "      <td>92.000000</td>\n",
       "      <td></td>\n",
       "      <td>B</td>\n",
       "      <td>-1</td>\n",
       "    </tr>\n",
       "    <tr>\n",
       "      <th>22</th>\n",
       "      <td>2021-06-24</td>\n",
       "      <td>00:00:00</td>\n",
       "      <td>860</td>\n",
       "      <td>LOG\\SOC_BATTERY_MAIN_CLUSTER                  ...</td>\n",
       "      <td>93.000000</td>\n",
       "      <td></td>\n",
       "      <td>B</td>\n",
       "      <td>-1</td>\n",
       "    </tr>\n",
       "    <tr>\n",
       "      <th>23</th>\n",
       "      <td>2021-06-24</td>\n",
       "      <td>00:00:00</td>\n",
       "      <td>860</td>\n",
       "      <td>LOG\\SOLAR_IRRADIATION                         ...</td>\n",
       "      <td>0.000000</td>\n",
       "      <td></td>\n",
       "      <td>B</td>\n",
       "      <td>-1</td>\n",
       "    </tr>\n",
       "    <tr>\n",
       "      <th>24</th>\n",
       "      <td>2021-06-24</td>\n",
       "      <td>00:00:00</td>\n",
       "      <td>860</td>\n",
       "      <td>LOG\\TOTAL_POWER                               ...</td>\n",
       "      <td>0.000000</td>\n",
       "      <td></td>\n",
       "      <td>B</td>\n",
       "      <td>-1</td>\n",
       "    </tr>\n",
       "    <tr>\n",
       "      <th>25</th>\n",
       "      <td>2021-06-24</td>\n",
       "      <td>00:00:00</td>\n",
       "      <td>860</td>\n",
       "      <td>LOG\\VOLTAGE_OF_GRID_PHASE_1                   ...</td>\n",
       "      <td>232.599014</td>\n",
       "      <td></td>\n",
       "      <td>B</td>\n",
       "      <td>-1</td>\n",
       "    </tr>\n",
       "    <tr>\n",
       "      <th>26</th>\n",
       "      <td>2021-06-24</td>\n",
       "      <td>00:00:00</td>\n",
       "      <td>860</td>\n",
       "      <td>LOG\\VOLTAGE_OF_GRID_PHASE_2                   ...</td>\n",
       "      <td>232.443878</td>\n",
       "      <td></td>\n",
       "      <td>B</td>\n",
       "      <td>-1</td>\n",
       "    </tr>\n",
       "    <tr>\n",
       "      <th>27</th>\n",
       "      <td>2021-06-24</td>\n",
       "      <td>00:00:00</td>\n",
       "      <td>860</td>\n",
       "      <td>LOG\\VOLTAGE_OF_GRID_PHASE_3                   ...</td>\n",
       "      <td>231.685425</td>\n",
       "      <td></td>\n",
       "      <td>B</td>\n",
       "      <td>-1</td>\n",
       "    </tr>\n",
       "    <tr>\n",
       "      <th>28</th>\n",
       "      <td>2021-06-24</td>\n",
       "      <td>00:00:00</td>\n",
       "      <td>860</td>\n",
       "      <td>LOG\\WIND_SPEED                                ...</td>\n",
       "      <td>0.000000</td>\n",
       "      <td></td>\n",
       "      <td>B</td>\n",
       "      <td>-1</td>\n",
       "    </tr>\n",
       "    <tr>\n",
       "      <th>29</th>\n",
       "      <td>2021-06-24</td>\n",
       "      <td>00:00:00</td>\n",
       "      <td>860</td>\n",
       "      <td>LOG\\INVERTER_3_AC_POWER                       ...</td>\n",
       "      <td>55.009560</td>\n",
       "      <td></td>\n",
       "      <td>B</td>\n",
       "      <td>-1</td>\n",
       "    </tr>\n",
       "    <tr>\n",
       "      <th>30</th>\n",
       "      <td>2021-06-24</td>\n",
       "      <td>00:00:00</td>\n",
       "      <td>860</td>\n",
       "      <td>LOG\\ENERGY_GENERATED                          ...</td>\n",
       "      <td>705.393860</td>\n",
       "      <td></td>\n",
       "      <td>B</td>\n",
       "      <td>-1</td>\n",
       "    </tr>\n",
       "    <tr>\n",
       "      <th>31</th>\n",
       "      <td>2021-06-24</td>\n",
       "      <td>00:02:04</td>\n",
       "      <td>651</td>\n",
       "      <td>LOG\\AMBIENT_TEMPRATURE                        ...</td>\n",
       "      <td>34.500000</td>\n",
       "      <td></td>\n",
       "      <td></td>\n",
       "      <td>0</td>\n",
       "    </tr>\n",
       "  </tbody>\n",
       "</table>\n",
       "</div>"
      ]
     },
     "metadata": {},
     "execution_count": 5
    }
   ],
   "metadata": {
    "scrolled": false
   }
  },
  {
   "cell_type": "code",
   "execution_count": 6,
   "source": [
    "# Important ----Remove whitspace befor and after string --- here Tagname----\r\n",
    "raw_data['Tagname'] = raw_data['Tagname'].str.strip()"
   ],
   "outputs": [],
   "metadata": {}
  },
  {
   "cell_type": "code",
   "execution_count": 7,
   "source": [
    "# Time column is in datetime formate to extract one hour time, Time column to be converted to string\r\n",
    "raw_data['Time'][1]"
   ],
   "outputs": [
    {
     "output_type": "execute_result",
     "data": {
      "text/plain": [
       "datetime.time(0, 0)"
      ]
     },
     "metadata": {},
     "execution_count": 7
    }
   ],
   "metadata": {}
  },
  {
   "cell_type": "code",
   "execution_count": 8,
   "source": [
    "# Converting datetime to string, use strftime('%H:%M:%S')\r\n",
    "# ff - In datetime format\r\n",
    "# ff1 - Converted to String format\r\n",
    "ff = raw_data['Time'][425]\r\n",
    "ff1 = ff.strftime('%H:%M:%S')\r\n",
    "ff1"
   ],
   "outputs": [
    {
     "output_type": "execute_result",
     "data": {
      "text/plain": [
       "'01:02:04'"
      ]
     },
     "metadata": {},
     "execution_count": 8
    }
   ],
   "metadata": {}
  },
  {
   "cell_type": "code",
   "execution_count": 9,
   "source": [
    "ff3 = raw_data['Time']\r\n",
    "ff3"
   ],
   "outputs": [
    {
     "output_type": "execute_result",
     "data": {
      "text/plain": [
       "0       00:00:00\n",
       "1       00:00:00\n",
       "2       00:00:00\n",
       "3       00:00:00\n",
       "4       00:00:00\n",
       "          ...   \n",
       "8985    00:00:01\n",
       "8986    00:00:01\n",
       "8987    00:00:01\n",
       "8988    00:00:01\n",
       "8989    00:00:01\n",
       "Name: Time, Length: 8990, dtype: object"
      ]
     },
     "metadata": {},
     "execution_count": 9
    }
   ],
   "metadata": {}
  },
  {
   "cell_type": "code",
   "execution_count": 10,
   "source": [
    "ff4 = pd.to_datetime(ff3,format= '%H:%M:%S')\r\n",
    "ff4"
   ],
   "outputs": [
    {
     "output_type": "execute_result",
     "data": {
      "text/plain": [
       "0      1900-01-01 00:00:00\n",
       "1      1900-01-01 00:00:00\n",
       "2      1900-01-01 00:00:00\n",
       "3      1900-01-01 00:00:00\n",
       "4      1900-01-01 00:00:00\n",
       "               ...        \n",
       "8985   1900-01-01 00:00:01\n",
       "8986   1900-01-01 00:00:01\n",
       "8987   1900-01-01 00:00:01\n",
       "8988   1900-01-01 00:00:01\n",
       "8989   1900-01-01 00:00:01\n",
       "Name: Time, Length: 8990, dtype: datetime64[ns]"
      ]
     },
     "metadata": {},
     "execution_count": 10
    }
   ],
   "metadata": {}
  },
  {
   "cell_type": "code",
   "execution_count": 11,
   "source": [
    "Time_hr = ff4.dt.time\r\n",
    "Time_hr"
   ],
   "outputs": [
    {
     "output_type": "execute_result",
     "data": {
      "text/plain": [
       "0       00:00:00\n",
       "1       00:00:00\n",
       "2       00:00:00\n",
       "3       00:00:00\n",
       "4       00:00:00\n",
       "          ...   \n",
       "8985    00:00:01\n",
       "8986    00:00:01\n",
       "8987    00:00:01\n",
       "8988    00:00:01\n",
       "8989    00:00:01\n",
       "Name: Time, Length: 8990, dtype: object"
      ]
     },
     "metadata": {},
     "execution_count": 11
    }
   ],
   "metadata": {}
  },
  {
   "cell_type": "code",
   "execution_count": 12,
   "source": [
    "Time_hr_str = ff4.dt.strftime('%H:%M:%S')\n",
    "Time_hr_str"
   ],
   "outputs": [
    {
     "output_type": "execute_result",
     "data": {
      "text/plain": [
       "0       00:00:00\n",
       "1       00:00:00\n",
       "2       00:00:00\n",
       "3       00:00:00\n",
       "4       00:00:00\n",
       "          ...   \n",
       "8985    00:00:01\n",
       "8986    00:00:01\n",
       "8987    00:00:01\n",
       "8988    00:00:01\n",
       "8989    00:00:01\n",
       "Name: Time, Length: 8990, dtype: object"
      ]
     },
     "metadata": {},
     "execution_count": 12
    }
   ],
   "metadata": {}
  },
  {
   "cell_type": "code",
   "execution_count": 13,
   "source": [
    "rd_df = raw_data.copy()"
   ],
   "outputs": [],
   "metadata": {}
  },
  {
   "cell_type": "code",
   "execution_count": 14,
   "source": [
    "rd_df"
   ],
   "outputs": [
    {
     "output_type": "execute_result",
     "data": {
      "text/plain": [
       "          ;Date      Time  Millitm                      Tagname         Value  \\\n",
       "0    2021-06-24  00:00:00      860       LOG\\AMBIENT_TEMPRATURE     34.500000   \n",
       "1    2021-06-24  00:00:00      860  LOG\\ENERGY_CONSUMED_BY_LOAD    119.419891   \n",
       "2    2021-06-24  00:00:00      860   LOG\\EVENT_FAULT_INVERTER_1  10863.000000   \n",
       "3    2021-06-24  00:00:00      860   LOG\\EVENT_FAULT_INVERTER_2      0.000000   \n",
       "4    2021-06-24  00:00:00      860   LOG\\EVENT_FAULT_INVERTER_3  13007.000000   \n",
       "...         ...       ...      ...                          ...           ...   \n",
       "8985 2021-06-25  00:00:01       16  LOG\\VOLTAGE_OF_GRID_PHASE_2    231.048645   \n",
       "8986 2021-06-25  00:00:01       16  LOG\\VOLTAGE_OF_GRID_PHASE_3    230.607361   \n",
       "8987 2021-06-25  00:00:01       16               LOG\\WIND_SPEED      0.000000   \n",
       "8988 2021-06-25  00:00:01       16      LOG\\INVERTER_3_AC_POWER     55.606205   \n",
       "8989 2021-06-25  00:00:01       16         LOG\\ENERGY_GENERATED    705.888916   \n",
       "\n",
       "     Status Marker  Internal  \n",
       "0                B        -1  \n",
       "1                B        -1  \n",
       "2                B        -1  \n",
       "3                B        -1  \n",
       "4                B        -1  \n",
       "...     ...    ...       ...  \n",
       "8985             E      8954  \n",
       "8986             E      8955  \n",
       "8987             E      8956  \n",
       "8988             E      8957  \n",
       "8989             E      8958  \n",
       "\n",
       "[8990 rows x 8 columns]"
      ],
      "text/html": [
       "<div>\n",
       "<style scoped>\n",
       "    .dataframe tbody tr th:only-of-type {\n",
       "        vertical-align: middle;\n",
       "    }\n",
       "\n",
       "    .dataframe tbody tr th {\n",
       "        vertical-align: top;\n",
       "    }\n",
       "\n",
       "    .dataframe thead th {\n",
       "        text-align: right;\n",
       "    }\n",
       "</style>\n",
       "<table border=\"1\" class=\"dataframe\">\n",
       "  <thead>\n",
       "    <tr style=\"text-align: right;\">\n",
       "      <th></th>\n",
       "      <th>;Date</th>\n",
       "      <th>Time</th>\n",
       "      <th>Millitm</th>\n",
       "      <th>Tagname</th>\n",
       "      <th>Value</th>\n",
       "      <th>Status</th>\n",
       "      <th>Marker</th>\n",
       "      <th>Internal</th>\n",
       "    </tr>\n",
       "  </thead>\n",
       "  <tbody>\n",
       "    <tr>\n",
       "      <th>0</th>\n",
       "      <td>2021-06-24</td>\n",
       "      <td>00:00:00</td>\n",
       "      <td>860</td>\n",
       "      <td>LOG\\AMBIENT_TEMPRATURE</td>\n",
       "      <td>34.500000</td>\n",
       "      <td></td>\n",
       "      <td>B</td>\n",
       "      <td>-1</td>\n",
       "    </tr>\n",
       "    <tr>\n",
       "      <th>1</th>\n",
       "      <td>2021-06-24</td>\n",
       "      <td>00:00:00</td>\n",
       "      <td>860</td>\n",
       "      <td>LOG\\ENERGY_CONSUMED_BY_LOAD</td>\n",
       "      <td>119.419891</td>\n",
       "      <td></td>\n",
       "      <td>B</td>\n",
       "      <td>-1</td>\n",
       "    </tr>\n",
       "    <tr>\n",
       "      <th>2</th>\n",
       "      <td>2021-06-24</td>\n",
       "      <td>00:00:00</td>\n",
       "      <td>860</td>\n",
       "      <td>LOG\\EVENT_FAULT_INVERTER_1</td>\n",
       "      <td>10863.000000</td>\n",
       "      <td></td>\n",
       "      <td>B</td>\n",
       "      <td>-1</td>\n",
       "    </tr>\n",
       "    <tr>\n",
       "      <th>3</th>\n",
       "      <td>2021-06-24</td>\n",
       "      <td>00:00:00</td>\n",
       "      <td>860</td>\n",
       "      <td>LOG\\EVENT_FAULT_INVERTER_2</td>\n",
       "      <td>0.000000</td>\n",
       "      <td></td>\n",
       "      <td>B</td>\n",
       "      <td>-1</td>\n",
       "    </tr>\n",
       "    <tr>\n",
       "      <th>4</th>\n",
       "      <td>2021-06-24</td>\n",
       "      <td>00:00:00</td>\n",
       "      <td>860</td>\n",
       "      <td>LOG\\EVENT_FAULT_INVERTER_3</td>\n",
       "      <td>13007.000000</td>\n",
       "      <td></td>\n",
       "      <td>B</td>\n",
       "      <td>-1</td>\n",
       "    </tr>\n",
       "    <tr>\n",
       "      <th>...</th>\n",
       "      <td>...</td>\n",
       "      <td>...</td>\n",
       "      <td>...</td>\n",
       "      <td>...</td>\n",
       "      <td>...</td>\n",
       "      <td>...</td>\n",
       "      <td>...</td>\n",
       "      <td>...</td>\n",
       "    </tr>\n",
       "    <tr>\n",
       "      <th>8985</th>\n",
       "      <td>2021-06-25</td>\n",
       "      <td>00:00:01</td>\n",
       "      <td>16</td>\n",
       "      <td>LOG\\VOLTAGE_OF_GRID_PHASE_2</td>\n",
       "      <td>231.048645</td>\n",
       "      <td></td>\n",
       "      <td>E</td>\n",
       "      <td>8954</td>\n",
       "    </tr>\n",
       "    <tr>\n",
       "      <th>8986</th>\n",
       "      <td>2021-06-25</td>\n",
       "      <td>00:00:01</td>\n",
       "      <td>16</td>\n",
       "      <td>LOG\\VOLTAGE_OF_GRID_PHASE_3</td>\n",
       "      <td>230.607361</td>\n",
       "      <td></td>\n",
       "      <td>E</td>\n",
       "      <td>8955</td>\n",
       "    </tr>\n",
       "    <tr>\n",
       "      <th>8987</th>\n",
       "      <td>2021-06-25</td>\n",
       "      <td>00:00:01</td>\n",
       "      <td>16</td>\n",
       "      <td>LOG\\WIND_SPEED</td>\n",
       "      <td>0.000000</td>\n",
       "      <td></td>\n",
       "      <td>E</td>\n",
       "      <td>8956</td>\n",
       "    </tr>\n",
       "    <tr>\n",
       "      <th>8988</th>\n",
       "      <td>2021-06-25</td>\n",
       "      <td>00:00:01</td>\n",
       "      <td>16</td>\n",
       "      <td>LOG\\INVERTER_3_AC_POWER</td>\n",
       "      <td>55.606205</td>\n",
       "      <td></td>\n",
       "      <td>E</td>\n",
       "      <td>8957</td>\n",
       "    </tr>\n",
       "    <tr>\n",
       "      <th>8989</th>\n",
       "      <td>2021-06-25</td>\n",
       "      <td>00:00:01</td>\n",
       "      <td>16</td>\n",
       "      <td>LOG\\ENERGY_GENERATED</td>\n",
       "      <td>705.888916</td>\n",
       "      <td></td>\n",
       "      <td>E</td>\n",
       "      <td>8958</td>\n",
       "    </tr>\n",
       "  </tbody>\n",
       "</table>\n",
       "<p>8990 rows × 8 columns</p>\n",
       "</div>"
      ]
     },
     "metadata": {},
     "execution_count": 14
    }
   ],
   "metadata": {}
  },
  {
   "cell_type": "code",
   "execution_count": 15,
   "source": [
    "rd_df.insert(2, \"Time_srt\",Time_hr_str )"
   ],
   "outputs": [],
   "metadata": {}
  },
  {
   "cell_type": "code",
   "execution_count": 16,
   "source": [
    "rd_df"
   ],
   "outputs": [
    {
     "output_type": "execute_result",
     "data": {
      "text/plain": [
       "          ;Date      Time  Time_srt  Millitm                      Tagname  \\\n",
       "0    2021-06-24  00:00:00  00:00:00      860       LOG\\AMBIENT_TEMPRATURE   \n",
       "1    2021-06-24  00:00:00  00:00:00      860  LOG\\ENERGY_CONSUMED_BY_LOAD   \n",
       "2    2021-06-24  00:00:00  00:00:00      860   LOG\\EVENT_FAULT_INVERTER_1   \n",
       "3    2021-06-24  00:00:00  00:00:00      860   LOG\\EVENT_FAULT_INVERTER_2   \n",
       "4    2021-06-24  00:00:00  00:00:00      860   LOG\\EVENT_FAULT_INVERTER_3   \n",
       "...         ...       ...       ...      ...                          ...   \n",
       "8985 2021-06-25  00:00:01  00:00:01       16  LOG\\VOLTAGE_OF_GRID_PHASE_2   \n",
       "8986 2021-06-25  00:00:01  00:00:01       16  LOG\\VOLTAGE_OF_GRID_PHASE_3   \n",
       "8987 2021-06-25  00:00:01  00:00:01       16               LOG\\WIND_SPEED   \n",
       "8988 2021-06-25  00:00:01  00:00:01       16      LOG\\INVERTER_3_AC_POWER   \n",
       "8989 2021-06-25  00:00:01  00:00:01       16         LOG\\ENERGY_GENERATED   \n",
       "\n",
       "             Value Status Marker  Internal  \n",
       "0        34.500000             B        -1  \n",
       "1       119.419891             B        -1  \n",
       "2     10863.000000             B        -1  \n",
       "3         0.000000             B        -1  \n",
       "4     13007.000000             B        -1  \n",
       "...            ...    ...    ...       ...  \n",
       "8985    231.048645             E      8954  \n",
       "8986    230.607361             E      8955  \n",
       "8987      0.000000             E      8956  \n",
       "8988     55.606205             E      8957  \n",
       "8989    705.888916             E      8958  \n",
       "\n",
       "[8990 rows x 9 columns]"
      ],
      "text/html": [
       "<div>\n",
       "<style scoped>\n",
       "    .dataframe tbody tr th:only-of-type {\n",
       "        vertical-align: middle;\n",
       "    }\n",
       "\n",
       "    .dataframe tbody tr th {\n",
       "        vertical-align: top;\n",
       "    }\n",
       "\n",
       "    .dataframe thead th {\n",
       "        text-align: right;\n",
       "    }\n",
       "</style>\n",
       "<table border=\"1\" class=\"dataframe\">\n",
       "  <thead>\n",
       "    <tr style=\"text-align: right;\">\n",
       "      <th></th>\n",
       "      <th>;Date</th>\n",
       "      <th>Time</th>\n",
       "      <th>Time_srt</th>\n",
       "      <th>Millitm</th>\n",
       "      <th>Tagname</th>\n",
       "      <th>Value</th>\n",
       "      <th>Status</th>\n",
       "      <th>Marker</th>\n",
       "      <th>Internal</th>\n",
       "    </tr>\n",
       "  </thead>\n",
       "  <tbody>\n",
       "    <tr>\n",
       "      <th>0</th>\n",
       "      <td>2021-06-24</td>\n",
       "      <td>00:00:00</td>\n",
       "      <td>00:00:00</td>\n",
       "      <td>860</td>\n",
       "      <td>LOG\\AMBIENT_TEMPRATURE</td>\n",
       "      <td>34.500000</td>\n",
       "      <td></td>\n",
       "      <td>B</td>\n",
       "      <td>-1</td>\n",
       "    </tr>\n",
       "    <tr>\n",
       "      <th>1</th>\n",
       "      <td>2021-06-24</td>\n",
       "      <td>00:00:00</td>\n",
       "      <td>00:00:00</td>\n",
       "      <td>860</td>\n",
       "      <td>LOG\\ENERGY_CONSUMED_BY_LOAD</td>\n",
       "      <td>119.419891</td>\n",
       "      <td></td>\n",
       "      <td>B</td>\n",
       "      <td>-1</td>\n",
       "    </tr>\n",
       "    <tr>\n",
       "      <th>2</th>\n",
       "      <td>2021-06-24</td>\n",
       "      <td>00:00:00</td>\n",
       "      <td>00:00:00</td>\n",
       "      <td>860</td>\n",
       "      <td>LOG\\EVENT_FAULT_INVERTER_1</td>\n",
       "      <td>10863.000000</td>\n",
       "      <td></td>\n",
       "      <td>B</td>\n",
       "      <td>-1</td>\n",
       "    </tr>\n",
       "    <tr>\n",
       "      <th>3</th>\n",
       "      <td>2021-06-24</td>\n",
       "      <td>00:00:00</td>\n",
       "      <td>00:00:00</td>\n",
       "      <td>860</td>\n",
       "      <td>LOG\\EVENT_FAULT_INVERTER_2</td>\n",
       "      <td>0.000000</td>\n",
       "      <td></td>\n",
       "      <td>B</td>\n",
       "      <td>-1</td>\n",
       "    </tr>\n",
       "    <tr>\n",
       "      <th>4</th>\n",
       "      <td>2021-06-24</td>\n",
       "      <td>00:00:00</td>\n",
       "      <td>00:00:00</td>\n",
       "      <td>860</td>\n",
       "      <td>LOG\\EVENT_FAULT_INVERTER_3</td>\n",
       "      <td>13007.000000</td>\n",
       "      <td></td>\n",
       "      <td>B</td>\n",
       "      <td>-1</td>\n",
       "    </tr>\n",
       "    <tr>\n",
       "      <th>...</th>\n",
       "      <td>...</td>\n",
       "      <td>...</td>\n",
       "      <td>...</td>\n",
       "      <td>...</td>\n",
       "      <td>...</td>\n",
       "      <td>...</td>\n",
       "      <td>...</td>\n",
       "      <td>...</td>\n",
       "      <td>...</td>\n",
       "    </tr>\n",
       "    <tr>\n",
       "      <th>8985</th>\n",
       "      <td>2021-06-25</td>\n",
       "      <td>00:00:01</td>\n",
       "      <td>00:00:01</td>\n",
       "      <td>16</td>\n",
       "      <td>LOG\\VOLTAGE_OF_GRID_PHASE_2</td>\n",
       "      <td>231.048645</td>\n",
       "      <td></td>\n",
       "      <td>E</td>\n",
       "      <td>8954</td>\n",
       "    </tr>\n",
       "    <tr>\n",
       "      <th>8986</th>\n",
       "      <td>2021-06-25</td>\n",
       "      <td>00:00:01</td>\n",
       "      <td>00:00:01</td>\n",
       "      <td>16</td>\n",
       "      <td>LOG\\VOLTAGE_OF_GRID_PHASE_3</td>\n",
       "      <td>230.607361</td>\n",
       "      <td></td>\n",
       "      <td>E</td>\n",
       "      <td>8955</td>\n",
       "    </tr>\n",
       "    <tr>\n",
       "      <th>8987</th>\n",
       "      <td>2021-06-25</td>\n",
       "      <td>00:00:01</td>\n",
       "      <td>00:00:01</td>\n",
       "      <td>16</td>\n",
       "      <td>LOG\\WIND_SPEED</td>\n",
       "      <td>0.000000</td>\n",
       "      <td></td>\n",
       "      <td>E</td>\n",
       "      <td>8956</td>\n",
       "    </tr>\n",
       "    <tr>\n",
       "      <th>8988</th>\n",
       "      <td>2021-06-25</td>\n",
       "      <td>00:00:01</td>\n",
       "      <td>00:00:01</td>\n",
       "      <td>16</td>\n",
       "      <td>LOG\\INVERTER_3_AC_POWER</td>\n",
       "      <td>55.606205</td>\n",
       "      <td></td>\n",
       "      <td>E</td>\n",
       "      <td>8957</td>\n",
       "    </tr>\n",
       "    <tr>\n",
       "      <th>8989</th>\n",
       "      <td>2021-06-25</td>\n",
       "      <td>00:00:01</td>\n",
       "      <td>00:00:01</td>\n",
       "      <td>16</td>\n",
       "      <td>LOG\\ENERGY_GENERATED</td>\n",
       "      <td>705.888916</td>\n",
       "      <td></td>\n",
       "      <td>E</td>\n",
       "      <td>8958</td>\n",
       "    </tr>\n",
       "  </tbody>\n",
       "</table>\n",
       "<p>8990 rows × 9 columns</p>\n",
       "</div>"
      ]
     },
     "metadata": {},
     "execution_count": 16
    }
   ],
   "metadata": {}
  },
  {
   "cell_type": "code",
   "execution_count": 17,
   "source": [
    "# Time_hr_str[]"
   ],
   "outputs": [],
   "metadata": {}
  },
  {
   "cell_type": "code",
   "execution_count": 18,
   "source": [
    "# raw_data.shape"
   ],
   "outputs": [],
   "metadata": {}
  },
  {
   "cell_type": "code",
   "execution_count": 19,
   "source": [
    "# raw_data.index"
   ],
   "outputs": [],
   "metadata": {}
  },
  {
   "cell_type": "code",
   "execution_count": 20,
   "source": [
    "# raw_data['Tagname'] == 'LOG\\ENERGY_GENERATED'"
   ],
   "outputs": [],
   "metadata": {}
  },
  {
   "cell_type": "code",
   "execution_count": 21,
   "source": [
    "# raw_data[raw_data['Tagname'] == 'LOG\\ENERGY_GENERATED']"
   ],
   "outputs": [],
   "metadata": {}
  },
  {
   "cell_type": "code",
   "execution_count": 22,
   "source": [
    "# raw_data.tail(5)"
   ],
   "outputs": [],
   "metadata": {}
  },
  {
   "cell_type": "code",
   "execution_count": 23,
   "source": [
    "# raw_data['Value']"
   ],
   "outputs": [],
   "metadata": {
    "scrolled": true
   }
  },
  {
   "cell_type": "code",
   "execution_count": 24,
   "source": [
    "# filtData = raw_data[raw_data[\"Tagname\"] == 'LOG\\ENERGY_GENERATED']  "
   ],
   "outputs": [],
   "metadata": {}
  },
  {
   "cell_type": "code",
   "execution_count": 25,
   "source": [
    "# filtData"
   ],
   "outputs": [],
   "metadata": {}
  },
  {
   "cell_type": "code",
   "execution_count": 26,
   "source": [
    "#  filtData.reset_index(drop=True, inplace=True)"
   ],
   "outputs": [],
   "metadata": {}
  },
  {
   "cell_type": "code",
   "execution_count": 27,
   "source": [
    "# filtData"
   ],
   "outputs": [],
   "metadata": {}
  },
  {
   "cell_type": "code",
   "execution_count": 28,
   "source": [
    "# time_ts = pd.to_datetime(filtData[\"Time\"].iloc[3], format='%H:%M:%S')"
   ],
   "outputs": [],
   "metadata": {}
  },
  {
   "cell_type": "code",
   "execution_count": 29,
   "source": [
    "# time_ts"
   ],
   "outputs": [],
   "metadata": {}
  },
  {
   "cell_type": "code",
   "execution_count": 30,
   "source": [
    "\n",
    "# onehr_ts = pd.date_range(time_ts, periods=24, freq='1h')\n",
    "# onehr1 = onehr_ts.strftime('%H:%M:%S')"
   ],
   "outputs": [],
   "metadata": {}
  },
  {
   "cell_type": "code",
   "execution_count": null,
   "source": [],
   "outputs": [],
   "metadata": {}
  },
  {
   "cell_type": "code",
   "execution_count": 31,
   "source": [
    "# rd_df[rd_df['Time_srt'] == onehr1[1]]"
   ],
   "outputs": [],
   "metadata": {}
  },
  {
   "cell_type": "code",
   "execution_count": 32,
   "source": [
    "# raw_data['Time'][1]."
   ],
   "outputs": [],
   "metadata": {
    "scrolled": true
   }
  },
  {
   "cell_type": "code",
   "execution_count": 33,
   "source": [
    "# ff = raw_data['Time'][425]\n",
    "# ff1 = ff.strftime('%H:%M:%S')"
   ],
   "outputs": [],
   "metadata": {}
  },
  {
   "cell_type": "code",
   "execution_count": 34,
   "source": [
    "# ff1"
   ],
   "outputs": [],
   "metadata": {}
  },
  {
   "cell_type": "code",
   "execution_count": 35,
   "source": [
    "# onehr1[1]"
   ],
   "outputs": [],
   "metadata": {}
  },
  {
   "cell_type": "code",
   "execution_count": 36,
   "source": [
    "# ff1 == onehr1[1]"
   ],
   "outputs": [],
   "metadata": {}
  },
  {
   "cell_type": "code",
   "execution_count": 37,
   "source": [
    "class Extracting_Para ():\n",
    "\n",
    "    def __init__(self, Tagname):\n",
    "        self.Tagname = Tagname\n",
    "        \n",
    "    def individual_df(self):\n",
    "        ind_df = pd.DataFrame()\n",
    "        filtData = rd_df[rd_df[\"Tagname\"] == self.Tagname]\n",
    "        filtData.reset_index(drop=True, inplace=True)\n",
    "        time_ts = pd.to_datetime(filtData[\"Time\"].iloc[1], format='%H:%M:%S')\n",
    "        onehr_ts = pd.date_range(time_ts, periods=24, freq='1h')\n",
    "        onehr1 = onehr_ts.strftime('%H:%M:%S')\n",
    "        for x in range(0, len(filtData)):\n",
    "            for y in onehr1:\n",
    "                if(filtData[\"Time_srt\"].iloc[x] == y):\n",
    "                    c1 = filtData[\"Time_srt\"] == y\n",
    "                    Extract = filtData.loc[c1, [';Date', 'Time_srt', 'Tagname', 'Value']]\n",
    "                    ind_df = ind_df.append(Extract)\n",
    "        ind_df.reset_index(drop=True, inplace=True)\n",
    "        ind_df1 = ind_df.copy()\n",
    "        self.ind_df1 = ind_df1\n",
    "        return ind_df\n",
    "\n",
    "#     def onehr_df(self):\n",
    "#         val = self.ind_df1\n",
    "#         val1 = val[\"Value\"]\n",
    "#         onehr_val = np.diff(val1)*1000\n",
    "#         onehr_val=np.insert(onehr_val,0,0)\n",
    "#         val.insert(4, \"KW/hr\",  onehr_val)\n",
    "#         return val\n",
    "\n",
    "    def onehr_df(self):\n",
    "        val = self.ind_df1\n",
    "        val1 = val[\"Value\"]\n",
    "        onehr_val = np.diff(val1)*1000\n",
    "        cpVal = onehr_val[1]\n",
    "        onehr_val=np.insert(onehr_val,0,cpVal)\n",
    "        val.insert(4, \"KW/hr\",  onehr_val)\n",
    "        return val\n",
    "    \n",
    "    def total(self):\n",
    "        onedf = self.ind_df1\n",
    "        totalEg = (onedf.iloc[-1]['Value'] - onedf.iloc[0]['Value'])*1000\n",
    "        totalVal = f'TOTAL_{self.Tagname[4:]} = {\"{:.2f}\".format(totalEg)} KW ' \n",
    "        return totalVal\n",
    "#     def stri(self):\n",
    "#         return self.Tagname[4:]\n",
    "#     >>> print(\"{:.2f}\".format(a))"
   ],
   "outputs": [],
   "metadata": {}
  },
  {
   "cell_type": "code",
   "execution_count": 38,
   "source": [
    "energy_gen = Extracting_Para(\"LOG\\ENERGY_GENERATED\")\n",
    "df_energy_gen = energy_gen.individual_df()\n",
    "eng_gen_onehr = energy_gen.onehr_df()\n",
    "Total_gen = energy_gen.total()\n",
    "# sss = energy_gen.stri()"
   ],
   "outputs": [],
   "metadata": {}
  },
  {
   "cell_type": "code",
   "execution_count": 39,
   "source": [
    "Total_gen"
   ],
   "outputs": [
    {
     "output_type": "execute_result",
     "data": {
      "text/plain": [
       "'TOTAL_ENERGY_GENERATED = 495.06 KW '"
      ]
     },
     "metadata": {},
     "execution_count": 39
    }
   ],
   "metadata": {}
  },
  {
   "cell_type": "code",
   "execution_count": 40,
   "source": [
    "df_energy_gen"
   ],
   "outputs": [
    {
     "output_type": "execute_result",
     "data": {
      "text/plain": [
       "        ;Date  Time_srt               Tagname       Value\n",
       "0  2021-06-24  00:02:04  LOG\\ENERGY_GENERATED  705.393860\n",
       "1  2021-06-24  01:02:04  LOG\\ENERGY_GENERATED  705.393860\n",
       "2  2021-06-24  02:02:04  LOG\\ENERGY_GENERATED  705.393860\n",
       "3  2021-06-24  03:02:04  LOG\\ENERGY_GENERATED  705.393860\n",
       "4  2021-06-24  04:02:04  LOG\\ENERGY_GENERATED  705.393860\n",
       "5  2021-06-24  05:02:04  LOG\\ENERGY_GENERATED  705.393860\n",
       "6  2021-06-24  06:02:04  LOG\\ENERGY_GENERATED  705.393860\n",
       "7  2021-06-24  07:02:04  LOG\\ENERGY_GENERATED  705.397339\n",
       "8  2021-06-24  08:02:04  LOG\\ENERGY_GENERATED  705.410645\n",
       "9  2021-06-24  09:02:04  LOG\\ENERGY_GENERATED  705.439697\n",
       "10 2021-06-24  10:02:04  LOG\\ENERGY_GENERATED  705.488892\n",
       "11 2021-06-24  11:02:04  LOG\\ENERGY_GENERATED  705.546509\n",
       "12 2021-06-24  12:02:04  LOG\\ENERGY_GENERATED  705.610229\n",
       "13 2021-06-24  13:02:04  LOG\\ENERGY_GENERATED  705.675659\n",
       "14 2021-06-24  14:02:04  LOG\\ENERGY_GENERATED  705.738098\n",
       "15 2021-06-24  15:02:04  LOG\\ENERGY_GENERATED  705.789978\n",
       "16 2021-06-24  16:02:04  LOG\\ENERGY_GENERATED  705.834106\n",
       "17 2021-06-24  17:02:04  LOG\\ENERGY_GENERATED  705.867493\n",
       "18 2021-06-24  18:02:04  LOG\\ENERGY_GENERATED  705.883667\n",
       "19 2021-06-24  19:02:04  LOG\\ENERGY_GENERATED  705.888611\n",
       "20 2021-06-24  20:02:04  LOG\\ENERGY_GENERATED  705.888916\n",
       "21 2021-06-24  21:02:04  LOG\\ENERGY_GENERATED  705.888916\n",
       "22 2021-06-24  22:02:04  LOG\\ENERGY_GENERATED  705.888916\n",
       "23 2021-06-24  23:02:04  LOG\\ENERGY_GENERATED  705.888916"
      ],
      "text/html": [
       "<div>\n",
       "<style scoped>\n",
       "    .dataframe tbody tr th:only-of-type {\n",
       "        vertical-align: middle;\n",
       "    }\n",
       "\n",
       "    .dataframe tbody tr th {\n",
       "        vertical-align: top;\n",
       "    }\n",
       "\n",
       "    .dataframe thead th {\n",
       "        text-align: right;\n",
       "    }\n",
       "</style>\n",
       "<table border=\"1\" class=\"dataframe\">\n",
       "  <thead>\n",
       "    <tr style=\"text-align: right;\">\n",
       "      <th></th>\n",
       "      <th>;Date</th>\n",
       "      <th>Time_srt</th>\n",
       "      <th>Tagname</th>\n",
       "      <th>Value</th>\n",
       "    </tr>\n",
       "  </thead>\n",
       "  <tbody>\n",
       "    <tr>\n",
       "      <th>0</th>\n",
       "      <td>2021-06-24</td>\n",
       "      <td>00:02:04</td>\n",
       "      <td>LOG\\ENERGY_GENERATED</td>\n",
       "      <td>705.393860</td>\n",
       "    </tr>\n",
       "    <tr>\n",
       "      <th>1</th>\n",
       "      <td>2021-06-24</td>\n",
       "      <td>01:02:04</td>\n",
       "      <td>LOG\\ENERGY_GENERATED</td>\n",
       "      <td>705.393860</td>\n",
       "    </tr>\n",
       "    <tr>\n",
       "      <th>2</th>\n",
       "      <td>2021-06-24</td>\n",
       "      <td>02:02:04</td>\n",
       "      <td>LOG\\ENERGY_GENERATED</td>\n",
       "      <td>705.393860</td>\n",
       "    </tr>\n",
       "    <tr>\n",
       "      <th>3</th>\n",
       "      <td>2021-06-24</td>\n",
       "      <td>03:02:04</td>\n",
       "      <td>LOG\\ENERGY_GENERATED</td>\n",
       "      <td>705.393860</td>\n",
       "    </tr>\n",
       "    <tr>\n",
       "      <th>4</th>\n",
       "      <td>2021-06-24</td>\n",
       "      <td>04:02:04</td>\n",
       "      <td>LOG\\ENERGY_GENERATED</td>\n",
       "      <td>705.393860</td>\n",
       "    </tr>\n",
       "    <tr>\n",
       "      <th>5</th>\n",
       "      <td>2021-06-24</td>\n",
       "      <td>05:02:04</td>\n",
       "      <td>LOG\\ENERGY_GENERATED</td>\n",
       "      <td>705.393860</td>\n",
       "    </tr>\n",
       "    <tr>\n",
       "      <th>6</th>\n",
       "      <td>2021-06-24</td>\n",
       "      <td>06:02:04</td>\n",
       "      <td>LOG\\ENERGY_GENERATED</td>\n",
       "      <td>705.393860</td>\n",
       "    </tr>\n",
       "    <tr>\n",
       "      <th>7</th>\n",
       "      <td>2021-06-24</td>\n",
       "      <td>07:02:04</td>\n",
       "      <td>LOG\\ENERGY_GENERATED</td>\n",
       "      <td>705.397339</td>\n",
       "    </tr>\n",
       "    <tr>\n",
       "      <th>8</th>\n",
       "      <td>2021-06-24</td>\n",
       "      <td>08:02:04</td>\n",
       "      <td>LOG\\ENERGY_GENERATED</td>\n",
       "      <td>705.410645</td>\n",
       "    </tr>\n",
       "    <tr>\n",
       "      <th>9</th>\n",
       "      <td>2021-06-24</td>\n",
       "      <td>09:02:04</td>\n",
       "      <td>LOG\\ENERGY_GENERATED</td>\n",
       "      <td>705.439697</td>\n",
       "    </tr>\n",
       "    <tr>\n",
       "      <th>10</th>\n",
       "      <td>2021-06-24</td>\n",
       "      <td>10:02:04</td>\n",
       "      <td>LOG\\ENERGY_GENERATED</td>\n",
       "      <td>705.488892</td>\n",
       "    </tr>\n",
       "    <tr>\n",
       "      <th>11</th>\n",
       "      <td>2021-06-24</td>\n",
       "      <td>11:02:04</td>\n",
       "      <td>LOG\\ENERGY_GENERATED</td>\n",
       "      <td>705.546509</td>\n",
       "    </tr>\n",
       "    <tr>\n",
       "      <th>12</th>\n",
       "      <td>2021-06-24</td>\n",
       "      <td>12:02:04</td>\n",
       "      <td>LOG\\ENERGY_GENERATED</td>\n",
       "      <td>705.610229</td>\n",
       "    </tr>\n",
       "    <tr>\n",
       "      <th>13</th>\n",
       "      <td>2021-06-24</td>\n",
       "      <td>13:02:04</td>\n",
       "      <td>LOG\\ENERGY_GENERATED</td>\n",
       "      <td>705.675659</td>\n",
       "    </tr>\n",
       "    <tr>\n",
       "      <th>14</th>\n",
       "      <td>2021-06-24</td>\n",
       "      <td>14:02:04</td>\n",
       "      <td>LOG\\ENERGY_GENERATED</td>\n",
       "      <td>705.738098</td>\n",
       "    </tr>\n",
       "    <tr>\n",
       "      <th>15</th>\n",
       "      <td>2021-06-24</td>\n",
       "      <td>15:02:04</td>\n",
       "      <td>LOG\\ENERGY_GENERATED</td>\n",
       "      <td>705.789978</td>\n",
       "    </tr>\n",
       "    <tr>\n",
       "      <th>16</th>\n",
       "      <td>2021-06-24</td>\n",
       "      <td>16:02:04</td>\n",
       "      <td>LOG\\ENERGY_GENERATED</td>\n",
       "      <td>705.834106</td>\n",
       "    </tr>\n",
       "    <tr>\n",
       "      <th>17</th>\n",
       "      <td>2021-06-24</td>\n",
       "      <td>17:02:04</td>\n",
       "      <td>LOG\\ENERGY_GENERATED</td>\n",
       "      <td>705.867493</td>\n",
       "    </tr>\n",
       "    <tr>\n",
       "      <th>18</th>\n",
       "      <td>2021-06-24</td>\n",
       "      <td>18:02:04</td>\n",
       "      <td>LOG\\ENERGY_GENERATED</td>\n",
       "      <td>705.883667</td>\n",
       "    </tr>\n",
       "    <tr>\n",
       "      <th>19</th>\n",
       "      <td>2021-06-24</td>\n",
       "      <td>19:02:04</td>\n",
       "      <td>LOG\\ENERGY_GENERATED</td>\n",
       "      <td>705.888611</td>\n",
       "    </tr>\n",
       "    <tr>\n",
       "      <th>20</th>\n",
       "      <td>2021-06-24</td>\n",
       "      <td>20:02:04</td>\n",
       "      <td>LOG\\ENERGY_GENERATED</td>\n",
       "      <td>705.888916</td>\n",
       "    </tr>\n",
       "    <tr>\n",
       "      <th>21</th>\n",
       "      <td>2021-06-24</td>\n",
       "      <td>21:02:04</td>\n",
       "      <td>LOG\\ENERGY_GENERATED</td>\n",
       "      <td>705.888916</td>\n",
       "    </tr>\n",
       "    <tr>\n",
       "      <th>22</th>\n",
       "      <td>2021-06-24</td>\n",
       "      <td>22:02:04</td>\n",
       "      <td>LOG\\ENERGY_GENERATED</td>\n",
       "      <td>705.888916</td>\n",
       "    </tr>\n",
       "    <tr>\n",
       "      <th>23</th>\n",
       "      <td>2021-06-24</td>\n",
       "      <td>23:02:04</td>\n",
       "      <td>LOG\\ENERGY_GENERATED</td>\n",
       "      <td>705.888916</td>\n",
       "    </tr>\n",
       "  </tbody>\n",
       "</table>\n",
       "</div>"
      ]
     },
     "metadata": {},
     "execution_count": 40
    }
   ],
   "metadata": {
    "scrolled": false
   }
  },
  {
   "cell_type": "code",
   "execution_count": 41,
   "source": [
    "eng_gen_onehr.head()"
   ],
   "outputs": [
    {
     "output_type": "execute_result",
     "data": {
      "text/plain": [
       "       ;Date  Time_srt               Tagname      Value  KW/hr\n",
       "0 2021-06-24  00:02:04  LOG\\ENERGY_GENERATED  705.39386    0.0\n",
       "1 2021-06-24  01:02:04  LOG\\ENERGY_GENERATED  705.39386    0.0\n",
       "2 2021-06-24  02:02:04  LOG\\ENERGY_GENERATED  705.39386    0.0\n",
       "3 2021-06-24  03:02:04  LOG\\ENERGY_GENERATED  705.39386    0.0\n",
       "4 2021-06-24  04:02:04  LOG\\ENERGY_GENERATED  705.39386    0.0"
      ],
      "text/html": [
       "<div>\n",
       "<style scoped>\n",
       "    .dataframe tbody tr th:only-of-type {\n",
       "        vertical-align: middle;\n",
       "    }\n",
       "\n",
       "    .dataframe tbody tr th {\n",
       "        vertical-align: top;\n",
       "    }\n",
       "\n",
       "    .dataframe thead th {\n",
       "        text-align: right;\n",
       "    }\n",
       "</style>\n",
       "<table border=\"1\" class=\"dataframe\">\n",
       "  <thead>\n",
       "    <tr style=\"text-align: right;\">\n",
       "      <th></th>\n",
       "      <th>;Date</th>\n",
       "      <th>Time_srt</th>\n",
       "      <th>Tagname</th>\n",
       "      <th>Value</th>\n",
       "      <th>KW/hr</th>\n",
       "    </tr>\n",
       "  </thead>\n",
       "  <tbody>\n",
       "    <tr>\n",
       "      <th>0</th>\n",
       "      <td>2021-06-24</td>\n",
       "      <td>00:02:04</td>\n",
       "      <td>LOG\\ENERGY_GENERATED</td>\n",
       "      <td>705.39386</td>\n",
       "      <td>0.0</td>\n",
       "    </tr>\n",
       "    <tr>\n",
       "      <th>1</th>\n",
       "      <td>2021-06-24</td>\n",
       "      <td>01:02:04</td>\n",
       "      <td>LOG\\ENERGY_GENERATED</td>\n",
       "      <td>705.39386</td>\n",
       "      <td>0.0</td>\n",
       "    </tr>\n",
       "    <tr>\n",
       "      <th>2</th>\n",
       "      <td>2021-06-24</td>\n",
       "      <td>02:02:04</td>\n",
       "      <td>LOG\\ENERGY_GENERATED</td>\n",
       "      <td>705.39386</td>\n",
       "      <td>0.0</td>\n",
       "    </tr>\n",
       "    <tr>\n",
       "      <th>3</th>\n",
       "      <td>2021-06-24</td>\n",
       "      <td>03:02:04</td>\n",
       "      <td>LOG\\ENERGY_GENERATED</td>\n",
       "      <td>705.39386</td>\n",
       "      <td>0.0</td>\n",
       "    </tr>\n",
       "    <tr>\n",
       "      <th>4</th>\n",
       "      <td>2021-06-24</td>\n",
       "      <td>04:02:04</td>\n",
       "      <td>LOG\\ENERGY_GENERATED</td>\n",
       "      <td>705.39386</td>\n",
       "      <td>0.0</td>\n",
       "    </tr>\n",
       "  </tbody>\n",
       "</table>\n",
       "</div>"
      ]
     },
     "metadata": {},
     "execution_count": 41
    }
   ],
   "metadata": {}
  },
  {
   "cell_type": "code",
   "execution_count": 42,
   "source": [
    "(eng_gen_onehr.iloc[-1]['Value'] - eng_gen_onehr.iloc[-0]['Value'])*1000"
   ],
   "outputs": [
    {
     "output_type": "execute_result",
     "data": {
      "text/plain": [
       "495.0561599999901"
      ]
     },
     "metadata": {},
     "execution_count": 42
    }
   ],
   "metadata": {}
  },
  {
   "cell_type": "code",
   "execution_count": 43,
   "source": [
    "sum(eng_gen_onehr[\"KW/hr\"])"
   ],
   "outputs": [
    {
     "output_type": "execute_result",
     "data": {
      "text/plain": [
       "495.0561599999901"
      ]
     },
     "metadata": {},
     "execution_count": 43
    }
   ],
   "metadata": {}
  },
  {
   "cell_type": "code",
   "execution_count": 44,
   "source": [
    "len(eng_gen_onehr)"
   ],
   "outputs": [
    {
     "output_type": "execute_result",
     "data": {
      "text/plain": [
       "24"
      ]
     },
     "metadata": {},
     "execution_count": 44
    }
   ],
   "metadata": {}
  },
  {
   "cell_type": "code",
   "execution_count": 45,
   "source": [
    "energy_exp = Extracting_Para(\"LOG\\EXPORTED_ENERGY_TO_GRID\")\n",
    "df_energy_exp = energy_exp.individual_df()\n",
    "eng_exp_onehr = energy_exp.onehr_df()\n",
    "Total_exp = energy_exp.total()"
   ],
   "outputs": [],
   "metadata": {}
  },
  {
   "cell_type": "code",
   "execution_count": 46,
   "source": [
    "eng_exp_onehr.head()"
   ],
   "outputs": [
    {
     "output_type": "execute_result",
     "data": {
      "text/plain": [
       "       ;Date  Time_srt                      Tagname       Value  KW/hr\n",
       "0 2021-06-24  00:02:04  LOG\\EXPORTED_ENERGY_TO_GRID  525.862976    0.0\n",
       "1 2021-06-24  01:02:04  LOG\\EXPORTED_ENERGY_TO_GRID  525.862976    0.0\n",
       "2 2021-06-24  02:02:04  LOG\\EXPORTED_ENERGY_TO_GRID  525.862976    0.0\n",
       "3 2021-06-24  03:02:04  LOG\\EXPORTED_ENERGY_TO_GRID  525.862976    0.0\n",
       "4 2021-06-24  04:02:04  LOG\\EXPORTED_ENERGY_TO_GRID  525.862976    0.0"
      ],
      "text/html": [
       "<div>\n",
       "<style scoped>\n",
       "    .dataframe tbody tr th:only-of-type {\n",
       "        vertical-align: middle;\n",
       "    }\n",
       "\n",
       "    .dataframe tbody tr th {\n",
       "        vertical-align: top;\n",
       "    }\n",
       "\n",
       "    .dataframe thead th {\n",
       "        text-align: right;\n",
       "    }\n",
       "</style>\n",
       "<table border=\"1\" class=\"dataframe\">\n",
       "  <thead>\n",
       "    <tr style=\"text-align: right;\">\n",
       "      <th></th>\n",
       "      <th>;Date</th>\n",
       "      <th>Time_srt</th>\n",
       "      <th>Tagname</th>\n",
       "      <th>Value</th>\n",
       "      <th>KW/hr</th>\n",
       "    </tr>\n",
       "  </thead>\n",
       "  <tbody>\n",
       "    <tr>\n",
       "      <th>0</th>\n",
       "      <td>2021-06-24</td>\n",
       "      <td>00:02:04</td>\n",
       "      <td>LOG\\EXPORTED_ENERGY_TO_GRID</td>\n",
       "      <td>525.862976</td>\n",
       "      <td>0.0</td>\n",
       "    </tr>\n",
       "    <tr>\n",
       "      <th>1</th>\n",
       "      <td>2021-06-24</td>\n",
       "      <td>01:02:04</td>\n",
       "      <td>LOG\\EXPORTED_ENERGY_TO_GRID</td>\n",
       "      <td>525.862976</td>\n",
       "      <td>0.0</td>\n",
       "    </tr>\n",
       "    <tr>\n",
       "      <th>2</th>\n",
       "      <td>2021-06-24</td>\n",
       "      <td>02:02:04</td>\n",
       "      <td>LOG\\EXPORTED_ENERGY_TO_GRID</td>\n",
       "      <td>525.862976</td>\n",
       "      <td>0.0</td>\n",
       "    </tr>\n",
       "    <tr>\n",
       "      <th>3</th>\n",
       "      <td>2021-06-24</td>\n",
       "      <td>03:02:04</td>\n",
       "      <td>LOG\\EXPORTED_ENERGY_TO_GRID</td>\n",
       "      <td>525.862976</td>\n",
       "      <td>0.0</td>\n",
       "    </tr>\n",
       "    <tr>\n",
       "      <th>4</th>\n",
       "      <td>2021-06-24</td>\n",
       "      <td>04:02:04</td>\n",
       "      <td>LOG\\EXPORTED_ENERGY_TO_GRID</td>\n",
       "      <td>525.862976</td>\n",
       "      <td>0.0</td>\n",
       "    </tr>\n",
       "  </tbody>\n",
       "</table>\n",
       "</div>"
      ]
     },
     "metadata": {},
     "execution_count": 46
    }
   ],
   "metadata": {}
  },
  {
   "cell_type": "code",
   "execution_count": 47,
   "source": [
    "Total_exp"
   ],
   "outputs": [
    {
     "output_type": "execute_result",
     "data": {
      "text/plain": [
       "'TOTAL_EXPORTED_ENERGY_TO_GRID = 279.05 KW '"
      ]
     },
     "metadata": {},
     "execution_count": 47
    }
   ],
   "metadata": {}
  },
  {
   "cell_type": "code",
   "execution_count": 48,
   "source": [
    "energy_imp = Extracting_Para(\"LOG\\IMPORTED_ENERGY_TO_GRID\")\n",
    "df_energy_imp = energy_imp.individual_df()\n",
    "energy_imp_onehr = energy_imp.onehr_df()\n",
    "Total_imp = energy_imp.total()"
   ],
   "outputs": [],
   "metadata": {}
  },
  {
   "cell_type": "code",
   "execution_count": 49,
   "source": [
    "energy_imp_onehr.head()"
   ],
   "outputs": [
    {
     "output_type": "execute_result",
     "data": {
      "text/plain": [
       "       ;Date  Time_srt                      Tagname     Value    KW/hr\n",
       "0 2021-06-24  00:02:04  LOG\\IMPORTED_ENERGY_TO_GRID  7.228177  0.06866\n",
       "1 2021-06-24  01:02:04  LOG\\IMPORTED_ENERGY_TO_GRID  7.228246  0.06915\n",
       "2 2021-06-24  02:02:04  LOG\\IMPORTED_ENERGY_TO_GRID  7.228314  0.06866\n",
       "3 2021-06-24  03:02:04  LOG\\IMPORTED_ENERGY_TO_GRID  7.228380  0.06533\n",
       "4 2021-06-24  04:02:04  LOG\\IMPORTED_ENERGY_TO_GRID  7.228443  0.06342"
      ],
      "text/html": [
       "<div>\n",
       "<style scoped>\n",
       "    .dataframe tbody tr th:only-of-type {\n",
       "        vertical-align: middle;\n",
       "    }\n",
       "\n",
       "    .dataframe tbody tr th {\n",
       "        vertical-align: top;\n",
       "    }\n",
       "\n",
       "    .dataframe thead th {\n",
       "        text-align: right;\n",
       "    }\n",
       "</style>\n",
       "<table border=\"1\" class=\"dataframe\">\n",
       "  <thead>\n",
       "    <tr style=\"text-align: right;\">\n",
       "      <th></th>\n",
       "      <th>;Date</th>\n",
       "      <th>Time_srt</th>\n",
       "      <th>Tagname</th>\n",
       "      <th>Value</th>\n",
       "      <th>KW/hr</th>\n",
       "    </tr>\n",
       "  </thead>\n",
       "  <tbody>\n",
       "    <tr>\n",
       "      <th>0</th>\n",
       "      <td>2021-06-24</td>\n",
       "      <td>00:02:04</td>\n",
       "      <td>LOG\\IMPORTED_ENERGY_TO_GRID</td>\n",
       "      <td>7.228177</td>\n",
       "      <td>0.06866</td>\n",
       "    </tr>\n",
       "    <tr>\n",
       "      <th>1</th>\n",
       "      <td>2021-06-24</td>\n",
       "      <td>01:02:04</td>\n",
       "      <td>LOG\\IMPORTED_ENERGY_TO_GRID</td>\n",
       "      <td>7.228246</td>\n",
       "      <td>0.06915</td>\n",
       "    </tr>\n",
       "    <tr>\n",
       "      <th>2</th>\n",
       "      <td>2021-06-24</td>\n",
       "      <td>02:02:04</td>\n",
       "      <td>LOG\\IMPORTED_ENERGY_TO_GRID</td>\n",
       "      <td>7.228314</td>\n",
       "      <td>0.06866</td>\n",
       "    </tr>\n",
       "    <tr>\n",
       "      <th>3</th>\n",
       "      <td>2021-06-24</td>\n",
       "      <td>03:02:04</td>\n",
       "      <td>LOG\\IMPORTED_ENERGY_TO_GRID</td>\n",
       "      <td>7.228380</td>\n",
       "      <td>0.06533</td>\n",
       "    </tr>\n",
       "    <tr>\n",
       "      <th>4</th>\n",
       "      <td>2021-06-24</td>\n",
       "      <td>04:02:04</td>\n",
       "      <td>LOG\\IMPORTED_ENERGY_TO_GRID</td>\n",
       "      <td>7.228443</td>\n",
       "      <td>0.06342</td>\n",
       "    </tr>\n",
       "  </tbody>\n",
       "</table>\n",
       "</div>"
      ]
     },
     "metadata": {},
     "execution_count": 49
    }
   ],
   "metadata": {}
  },
  {
   "cell_type": "code",
   "execution_count": 50,
   "source": [
    "Total_imp"
   ],
   "outputs": [
    {
     "output_type": "execute_result",
     "data": {
      "text/plain": [
       "'TOTAL_IMPORTED_ENERGY_TO_GRID = 1.53 KW '"
      ]
     },
     "metadata": {},
     "execution_count": 50
    }
   ],
   "metadata": {}
  },
  {
   "cell_type": "code",
   "execution_count": 51,
   "source": [
    "energy_con = Extracting_Para(\"LOG\\ENERGY_CONSUMED_BY_LOAD\")\n",
    "df_energy_con = energy_con.individual_df()\n",
    "energy_con_onehr = energy_con.onehr_df()\n",
    "Total_con = energy_con.total()"
   ],
   "outputs": [],
   "metadata": {}
  },
  {
   "cell_type": "code",
   "execution_count": 52,
   "source": [
    "energy_con_onehr.head()"
   ],
   "outputs": [
    {
     "output_type": "execute_result",
     "data": {
      "text/plain": [
       "       ;Date  Time_srt                      Tagname       Value    KW/hr\n",
       "0 2021-06-24  00:02:04  LOG\\ENERGY_CONSUMED_BY_LOAD  119.419891  7.46918\n",
       "1 2021-06-24  01:02:04  LOG\\ENERGY_CONSUMED_BY_LOAD  119.427361  7.46917\n",
       "2 2021-06-24  02:02:04  LOG\\ENERGY_CONSUMED_BY_LOAD  119.434830  7.46918\n",
       "3 2021-06-24  03:02:04  LOG\\ENERGY_CONSUMED_BY_LOAD  119.442284  7.45392\n",
       "4 2021-06-24  04:02:04  LOG\\ENERGY_CONSUMED_BY_LOAD  119.449730  7.44629"
      ],
      "text/html": [
       "<div>\n",
       "<style scoped>\n",
       "    .dataframe tbody tr th:only-of-type {\n",
       "        vertical-align: middle;\n",
       "    }\n",
       "\n",
       "    .dataframe tbody tr th {\n",
       "        vertical-align: top;\n",
       "    }\n",
       "\n",
       "    .dataframe thead th {\n",
       "        text-align: right;\n",
       "    }\n",
       "</style>\n",
       "<table border=\"1\" class=\"dataframe\">\n",
       "  <thead>\n",
       "    <tr style=\"text-align: right;\">\n",
       "      <th></th>\n",
       "      <th>;Date</th>\n",
       "      <th>Time_srt</th>\n",
       "      <th>Tagname</th>\n",
       "      <th>Value</th>\n",
       "      <th>KW/hr</th>\n",
       "    </tr>\n",
       "  </thead>\n",
       "  <tbody>\n",
       "    <tr>\n",
       "      <th>0</th>\n",
       "      <td>2021-06-24</td>\n",
       "      <td>00:02:04</td>\n",
       "      <td>LOG\\ENERGY_CONSUMED_BY_LOAD</td>\n",
       "      <td>119.419891</td>\n",
       "      <td>7.46918</td>\n",
       "    </tr>\n",
       "    <tr>\n",
       "      <th>1</th>\n",
       "      <td>2021-06-24</td>\n",
       "      <td>01:02:04</td>\n",
       "      <td>LOG\\ENERGY_CONSUMED_BY_LOAD</td>\n",
       "      <td>119.427361</td>\n",
       "      <td>7.46917</td>\n",
       "    </tr>\n",
       "    <tr>\n",
       "      <th>2</th>\n",
       "      <td>2021-06-24</td>\n",
       "      <td>02:02:04</td>\n",
       "      <td>LOG\\ENERGY_CONSUMED_BY_LOAD</td>\n",
       "      <td>119.434830</td>\n",
       "      <td>7.46918</td>\n",
       "    </tr>\n",
       "    <tr>\n",
       "      <th>3</th>\n",
       "      <td>2021-06-24</td>\n",
       "      <td>03:02:04</td>\n",
       "      <td>LOG\\ENERGY_CONSUMED_BY_LOAD</td>\n",
       "      <td>119.442284</td>\n",
       "      <td>7.45392</td>\n",
       "    </tr>\n",
       "    <tr>\n",
       "      <th>4</th>\n",
       "      <td>2021-06-24</td>\n",
       "      <td>04:02:04</td>\n",
       "      <td>LOG\\ENERGY_CONSUMED_BY_LOAD</td>\n",
       "      <td>119.449730</td>\n",
       "      <td>7.44629</td>\n",
       "    </tr>\n",
       "  </tbody>\n",
       "</table>\n",
       "</div>"
      ]
     },
     "metadata": {},
     "execution_count": 52
    }
   ],
   "metadata": {}
  },
  {
   "cell_type": "code",
   "execution_count": 53,
   "source": [
    "Total_con"
   ],
   "outputs": [
    {
     "output_type": "execute_result",
     "data": {
      "text/plain": [
       "'TOTAL_ENERGY_CONSUMED_BY_LOAD = 172.83 KW '"
      ]
     },
     "metadata": {},
     "execution_count": 53
    }
   ],
   "metadata": {}
  },
  {
   "cell_type": "code",
   "execution_count": 54,
   "source": [
    "energy_con_onehr['Time_srt'].head()"
   ],
   "outputs": [
    {
     "output_type": "execute_result",
     "data": {
      "text/plain": [
       "0    00:02:04\n",
       "1    01:02:04\n",
       "2    02:02:04\n",
       "3    03:02:04\n",
       "4    04:02:04\n",
       "Name: Time_srt, dtype: object"
      ]
     },
     "metadata": {},
     "execution_count": 54
    }
   ],
   "metadata": {}
  },
  {
   "cell_type": "code",
   "execution_count": 55,
   "source": [
    "amp_temp = Extracting_Para(\"LOG\\AMBIENT_TEMPRATURE\")\n",
    "at = amp_temp.individual_df()\n",
    "# energy_con_onehr = energy_con.onehr_df()"
   ],
   "outputs": [],
   "metadata": {}
  },
  {
   "cell_type": "code",
   "execution_count": 56,
   "source": [
    "at"
   ],
   "outputs": [
    {
     "output_type": "execute_result",
     "data": {
      "text/plain": [
       "        ;Date  Time_srt                 Tagname      Value\n",
       "0  2021-06-24  00:02:04  LOG\\AMBIENT_TEMPRATURE  34.500000\n",
       "1  2021-06-24  01:02:04  LOG\\AMBIENT_TEMPRATURE  32.900002\n",
       "2  2021-06-24  02:02:04  LOG\\AMBIENT_TEMPRATURE  32.099998\n",
       "3  2021-06-24  03:02:04  LOG\\AMBIENT_TEMPRATURE  31.299999\n",
       "4  2021-06-24  04:02:04  LOG\\AMBIENT_TEMPRATURE  30.500000\n",
       "5  2021-06-24  05:02:04  LOG\\AMBIENT_TEMPRATURE  30.700001\n",
       "6  2021-06-24  06:02:04  LOG\\AMBIENT_TEMPRATURE  31.500000\n",
       "7  2021-06-24  07:02:04  LOG\\AMBIENT_TEMPRATURE  34.599998\n",
       "8  2021-06-24  08:02:04  LOG\\AMBIENT_TEMPRATURE  37.400002\n",
       "9  2021-06-24  09:02:04  LOG\\AMBIENT_TEMPRATURE  39.500000\n",
       "10 2021-06-24  10:02:04  LOG\\AMBIENT_TEMPRATURE  41.000000\n",
       "11 2021-06-24  11:02:04  LOG\\AMBIENT_TEMPRATURE  42.599998\n",
       "12 2021-06-24  12:02:04  LOG\\AMBIENT_TEMPRATURE  46.000000\n",
       "13 2021-06-24  13:02:04  LOG\\AMBIENT_TEMPRATURE  48.200001\n",
       "14 2021-06-24  14:02:04  LOG\\AMBIENT_TEMPRATURE  45.500000\n",
       "15 2021-06-24  15:02:04  LOG\\AMBIENT_TEMPRATURE  47.400002\n",
       "16 2021-06-24  16:02:04  LOG\\AMBIENT_TEMPRATURE  44.000000\n",
       "17 2021-06-24  17:02:04  LOG\\AMBIENT_TEMPRATURE  42.500000\n",
       "18 2021-06-24  18:02:04  LOG\\AMBIENT_TEMPRATURE  39.799999\n",
       "19 2021-06-24  19:02:04  LOG\\AMBIENT_TEMPRATURE  37.700001\n",
       "20 2021-06-24  20:02:04  LOG\\AMBIENT_TEMPRATURE  37.400002\n",
       "21 2021-06-24  21:02:04  LOG\\AMBIENT_TEMPRATURE  36.599998\n",
       "22 2021-06-24  22:02:04  LOG\\AMBIENT_TEMPRATURE  34.400002\n",
       "23 2021-06-24  23:02:04  LOG\\AMBIENT_TEMPRATURE  33.599998"
      ],
      "text/html": [
       "<div>\n",
       "<style scoped>\n",
       "    .dataframe tbody tr th:only-of-type {\n",
       "        vertical-align: middle;\n",
       "    }\n",
       "\n",
       "    .dataframe tbody tr th {\n",
       "        vertical-align: top;\n",
       "    }\n",
       "\n",
       "    .dataframe thead th {\n",
       "        text-align: right;\n",
       "    }\n",
       "</style>\n",
       "<table border=\"1\" class=\"dataframe\">\n",
       "  <thead>\n",
       "    <tr style=\"text-align: right;\">\n",
       "      <th></th>\n",
       "      <th>;Date</th>\n",
       "      <th>Time_srt</th>\n",
       "      <th>Tagname</th>\n",
       "      <th>Value</th>\n",
       "    </tr>\n",
       "  </thead>\n",
       "  <tbody>\n",
       "    <tr>\n",
       "      <th>0</th>\n",
       "      <td>2021-06-24</td>\n",
       "      <td>00:02:04</td>\n",
       "      <td>LOG\\AMBIENT_TEMPRATURE</td>\n",
       "      <td>34.500000</td>\n",
       "    </tr>\n",
       "    <tr>\n",
       "      <th>1</th>\n",
       "      <td>2021-06-24</td>\n",
       "      <td>01:02:04</td>\n",
       "      <td>LOG\\AMBIENT_TEMPRATURE</td>\n",
       "      <td>32.900002</td>\n",
       "    </tr>\n",
       "    <tr>\n",
       "      <th>2</th>\n",
       "      <td>2021-06-24</td>\n",
       "      <td>02:02:04</td>\n",
       "      <td>LOG\\AMBIENT_TEMPRATURE</td>\n",
       "      <td>32.099998</td>\n",
       "    </tr>\n",
       "    <tr>\n",
       "      <th>3</th>\n",
       "      <td>2021-06-24</td>\n",
       "      <td>03:02:04</td>\n",
       "      <td>LOG\\AMBIENT_TEMPRATURE</td>\n",
       "      <td>31.299999</td>\n",
       "    </tr>\n",
       "    <tr>\n",
       "      <th>4</th>\n",
       "      <td>2021-06-24</td>\n",
       "      <td>04:02:04</td>\n",
       "      <td>LOG\\AMBIENT_TEMPRATURE</td>\n",
       "      <td>30.500000</td>\n",
       "    </tr>\n",
       "    <tr>\n",
       "      <th>5</th>\n",
       "      <td>2021-06-24</td>\n",
       "      <td>05:02:04</td>\n",
       "      <td>LOG\\AMBIENT_TEMPRATURE</td>\n",
       "      <td>30.700001</td>\n",
       "    </tr>\n",
       "    <tr>\n",
       "      <th>6</th>\n",
       "      <td>2021-06-24</td>\n",
       "      <td>06:02:04</td>\n",
       "      <td>LOG\\AMBIENT_TEMPRATURE</td>\n",
       "      <td>31.500000</td>\n",
       "    </tr>\n",
       "    <tr>\n",
       "      <th>7</th>\n",
       "      <td>2021-06-24</td>\n",
       "      <td>07:02:04</td>\n",
       "      <td>LOG\\AMBIENT_TEMPRATURE</td>\n",
       "      <td>34.599998</td>\n",
       "    </tr>\n",
       "    <tr>\n",
       "      <th>8</th>\n",
       "      <td>2021-06-24</td>\n",
       "      <td>08:02:04</td>\n",
       "      <td>LOG\\AMBIENT_TEMPRATURE</td>\n",
       "      <td>37.400002</td>\n",
       "    </tr>\n",
       "    <tr>\n",
       "      <th>9</th>\n",
       "      <td>2021-06-24</td>\n",
       "      <td>09:02:04</td>\n",
       "      <td>LOG\\AMBIENT_TEMPRATURE</td>\n",
       "      <td>39.500000</td>\n",
       "    </tr>\n",
       "    <tr>\n",
       "      <th>10</th>\n",
       "      <td>2021-06-24</td>\n",
       "      <td>10:02:04</td>\n",
       "      <td>LOG\\AMBIENT_TEMPRATURE</td>\n",
       "      <td>41.000000</td>\n",
       "    </tr>\n",
       "    <tr>\n",
       "      <th>11</th>\n",
       "      <td>2021-06-24</td>\n",
       "      <td>11:02:04</td>\n",
       "      <td>LOG\\AMBIENT_TEMPRATURE</td>\n",
       "      <td>42.599998</td>\n",
       "    </tr>\n",
       "    <tr>\n",
       "      <th>12</th>\n",
       "      <td>2021-06-24</td>\n",
       "      <td>12:02:04</td>\n",
       "      <td>LOG\\AMBIENT_TEMPRATURE</td>\n",
       "      <td>46.000000</td>\n",
       "    </tr>\n",
       "    <tr>\n",
       "      <th>13</th>\n",
       "      <td>2021-06-24</td>\n",
       "      <td>13:02:04</td>\n",
       "      <td>LOG\\AMBIENT_TEMPRATURE</td>\n",
       "      <td>48.200001</td>\n",
       "    </tr>\n",
       "    <tr>\n",
       "      <th>14</th>\n",
       "      <td>2021-06-24</td>\n",
       "      <td>14:02:04</td>\n",
       "      <td>LOG\\AMBIENT_TEMPRATURE</td>\n",
       "      <td>45.500000</td>\n",
       "    </tr>\n",
       "    <tr>\n",
       "      <th>15</th>\n",
       "      <td>2021-06-24</td>\n",
       "      <td>15:02:04</td>\n",
       "      <td>LOG\\AMBIENT_TEMPRATURE</td>\n",
       "      <td>47.400002</td>\n",
       "    </tr>\n",
       "    <tr>\n",
       "      <th>16</th>\n",
       "      <td>2021-06-24</td>\n",
       "      <td>16:02:04</td>\n",
       "      <td>LOG\\AMBIENT_TEMPRATURE</td>\n",
       "      <td>44.000000</td>\n",
       "    </tr>\n",
       "    <tr>\n",
       "      <th>17</th>\n",
       "      <td>2021-06-24</td>\n",
       "      <td>17:02:04</td>\n",
       "      <td>LOG\\AMBIENT_TEMPRATURE</td>\n",
       "      <td>42.500000</td>\n",
       "    </tr>\n",
       "    <tr>\n",
       "      <th>18</th>\n",
       "      <td>2021-06-24</td>\n",
       "      <td>18:02:04</td>\n",
       "      <td>LOG\\AMBIENT_TEMPRATURE</td>\n",
       "      <td>39.799999</td>\n",
       "    </tr>\n",
       "    <tr>\n",
       "      <th>19</th>\n",
       "      <td>2021-06-24</td>\n",
       "      <td>19:02:04</td>\n",
       "      <td>LOG\\AMBIENT_TEMPRATURE</td>\n",
       "      <td>37.700001</td>\n",
       "    </tr>\n",
       "    <tr>\n",
       "      <th>20</th>\n",
       "      <td>2021-06-24</td>\n",
       "      <td>20:02:04</td>\n",
       "      <td>LOG\\AMBIENT_TEMPRATURE</td>\n",
       "      <td>37.400002</td>\n",
       "    </tr>\n",
       "    <tr>\n",
       "      <th>21</th>\n",
       "      <td>2021-06-24</td>\n",
       "      <td>21:02:04</td>\n",
       "      <td>LOG\\AMBIENT_TEMPRATURE</td>\n",
       "      <td>36.599998</td>\n",
       "    </tr>\n",
       "    <tr>\n",
       "      <th>22</th>\n",
       "      <td>2021-06-24</td>\n",
       "      <td>22:02:04</td>\n",
       "      <td>LOG\\AMBIENT_TEMPRATURE</td>\n",
       "      <td>34.400002</td>\n",
       "    </tr>\n",
       "    <tr>\n",
       "      <th>23</th>\n",
       "      <td>2021-06-24</td>\n",
       "      <td>23:02:04</td>\n",
       "      <td>LOG\\AMBIENT_TEMPRATURE</td>\n",
       "      <td>33.599998</td>\n",
       "    </tr>\n",
       "  </tbody>\n",
       "</table>\n",
       "</div>"
      ]
     },
     "metadata": {},
     "execution_count": 56
    }
   ],
   "metadata": {}
  },
  {
   "cell_type": "code",
   "execution_count": 57,
   "source": [
    "s = at['Time_srt']"
   ],
   "outputs": [],
   "metadata": {}
  },
  {
   "cell_type": "code",
   "execution_count": 58,
   "source": [
    "ss = s.str.slice(stop = 5)"
   ],
   "outputs": [],
   "metadata": {}
  },
  {
   "cell_type": "code",
   "execution_count": 59,
   "source": [
    "ss.head()"
   ],
   "outputs": [
    {
     "output_type": "execute_result",
     "data": {
      "text/plain": [
       "0    00:02\n",
       "1    01:02\n",
       "2    02:02\n",
       "3    03:02\n",
       "4    04:02\n",
       "Name: Time_srt, dtype: object"
      ]
     },
     "metadata": {},
     "execution_count": 59
    }
   ],
   "metadata": {}
  },
  {
   "cell_type": "code",
   "execution_count": 60,
   "source": [
    "batt = Extracting_Para(\"LOG\\SOC_BATTERY_MAIN_CLUSTER\")\n",
    "batt_st = batt.individual_df()\n",
    "# energy_con_onehr = energy_con.onehr_df()\n",
    "# LOG\\SOC_BATTERY_MAIN_CLUSTER"
   ],
   "outputs": [],
   "metadata": {}
  },
  {
   "cell_type": "code",
   "execution_count": 61,
   "source": [
    "batt_st"
   ],
   "outputs": [
    {
     "output_type": "execute_result",
     "data": {
      "text/plain": [
       "        ;Date  Time_srt                       Tagname  Value\n",
       "0  2021-06-24  00:02:04  LOG\\SOC_BATTERY_MAIN_CLUSTER   93.0\n",
       "1  2021-06-24  01:02:04  LOG\\SOC_BATTERY_MAIN_CLUSTER   92.0\n",
       "2  2021-06-24  02:02:04  LOG\\SOC_BATTERY_MAIN_CLUSTER   90.0\n",
       "3  2021-06-24  03:02:04  LOG\\SOC_BATTERY_MAIN_CLUSTER   88.0\n",
       "4  2021-06-24  04:02:04  LOG\\SOC_BATTERY_MAIN_CLUSTER   87.0\n",
       "5  2021-06-24  05:02:04  LOG\\SOC_BATTERY_MAIN_CLUSTER   85.0\n",
       "6  2021-06-24  06:02:04  LOG\\SOC_BATTERY_MAIN_CLUSTER   84.0\n",
       "7  2021-06-24  07:02:04  LOG\\SOC_BATTERY_MAIN_CLUSTER   83.0\n",
       "8  2021-06-24  08:02:04  LOG\\SOC_BATTERY_MAIN_CLUSTER   84.0\n",
       "9  2021-06-24  09:02:04  LOG\\SOC_BATTERY_MAIN_CLUSTER   87.0\n",
       "10 2021-06-24  10:02:04  LOG\\SOC_BATTERY_MAIN_CLUSTER   88.0\n",
       "11 2021-06-24  11:02:04  LOG\\SOC_BATTERY_MAIN_CLUSTER   90.0\n",
       "12 2021-06-24  12:02:04  LOG\\SOC_BATTERY_MAIN_CLUSTER   92.0\n",
       "13 2021-06-24  13:02:04  LOG\\SOC_BATTERY_MAIN_CLUSTER   94.0\n",
       "14 2021-06-24  14:02:04  LOG\\SOC_BATTERY_MAIN_CLUSTER   96.0\n",
       "15 2021-06-24  15:02:04  LOG\\SOC_BATTERY_MAIN_CLUSTER   97.0\n",
       "16 2021-06-24  16:02:04  LOG\\SOC_BATTERY_MAIN_CLUSTER  100.0\n",
       "17 2021-06-24  17:02:04  LOG\\SOC_BATTERY_MAIN_CLUSTER  100.0\n",
       "18 2021-06-24  18:02:04  LOG\\SOC_BATTERY_MAIN_CLUSTER  100.0\n",
       "19 2021-06-24  19:02:04  LOG\\SOC_BATTERY_MAIN_CLUSTER   99.0\n",
       "20 2021-06-24  20:02:04  LOG\\SOC_BATTERY_MAIN_CLUSTER   98.0\n",
       "21 2021-06-24  21:02:04  LOG\\SOC_BATTERY_MAIN_CLUSTER   97.0\n",
       "22 2021-06-24  22:02:04  LOG\\SOC_BATTERY_MAIN_CLUSTER   95.0\n",
       "23 2021-06-24  23:02:04  LOG\\SOC_BATTERY_MAIN_CLUSTER   94.0"
      ],
      "text/html": [
       "<div>\n",
       "<style scoped>\n",
       "    .dataframe tbody tr th:only-of-type {\n",
       "        vertical-align: middle;\n",
       "    }\n",
       "\n",
       "    .dataframe tbody tr th {\n",
       "        vertical-align: top;\n",
       "    }\n",
       "\n",
       "    .dataframe thead th {\n",
       "        text-align: right;\n",
       "    }\n",
       "</style>\n",
       "<table border=\"1\" class=\"dataframe\">\n",
       "  <thead>\n",
       "    <tr style=\"text-align: right;\">\n",
       "      <th></th>\n",
       "      <th>;Date</th>\n",
       "      <th>Time_srt</th>\n",
       "      <th>Tagname</th>\n",
       "      <th>Value</th>\n",
       "    </tr>\n",
       "  </thead>\n",
       "  <tbody>\n",
       "    <tr>\n",
       "      <th>0</th>\n",
       "      <td>2021-06-24</td>\n",
       "      <td>00:02:04</td>\n",
       "      <td>LOG\\SOC_BATTERY_MAIN_CLUSTER</td>\n",
       "      <td>93.0</td>\n",
       "    </tr>\n",
       "    <tr>\n",
       "      <th>1</th>\n",
       "      <td>2021-06-24</td>\n",
       "      <td>01:02:04</td>\n",
       "      <td>LOG\\SOC_BATTERY_MAIN_CLUSTER</td>\n",
       "      <td>92.0</td>\n",
       "    </tr>\n",
       "    <tr>\n",
       "      <th>2</th>\n",
       "      <td>2021-06-24</td>\n",
       "      <td>02:02:04</td>\n",
       "      <td>LOG\\SOC_BATTERY_MAIN_CLUSTER</td>\n",
       "      <td>90.0</td>\n",
       "    </tr>\n",
       "    <tr>\n",
       "      <th>3</th>\n",
       "      <td>2021-06-24</td>\n",
       "      <td>03:02:04</td>\n",
       "      <td>LOG\\SOC_BATTERY_MAIN_CLUSTER</td>\n",
       "      <td>88.0</td>\n",
       "    </tr>\n",
       "    <tr>\n",
       "      <th>4</th>\n",
       "      <td>2021-06-24</td>\n",
       "      <td>04:02:04</td>\n",
       "      <td>LOG\\SOC_BATTERY_MAIN_CLUSTER</td>\n",
       "      <td>87.0</td>\n",
       "    </tr>\n",
       "    <tr>\n",
       "      <th>5</th>\n",
       "      <td>2021-06-24</td>\n",
       "      <td>05:02:04</td>\n",
       "      <td>LOG\\SOC_BATTERY_MAIN_CLUSTER</td>\n",
       "      <td>85.0</td>\n",
       "    </tr>\n",
       "    <tr>\n",
       "      <th>6</th>\n",
       "      <td>2021-06-24</td>\n",
       "      <td>06:02:04</td>\n",
       "      <td>LOG\\SOC_BATTERY_MAIN_CLUSTER</td>\n",
       "      <td>84.0</td>\n",
       "    </tr>\n",
       "    <tr>\n",
       "      <th>7</th>\n",
       "      <td>2021-06-24</td>\n",
       "      <td>07:02:04</td>\n",
       "      <td>LOG\\SOC_BATTERY_MAIN_CLUSTER</td>\n",
       "      <td>83.0</td>\n",
       "    </tr>\n",
       "    <tr>\n",
       "      <th>8</th>\n",
       "      <td>2021-06-24</td>\n",
       "      <td>08:02:04</td>\n",
       "      <td>LOG\\SOC_BATTERY_MAIN_CLUSTER</td>\n",
       "      <td>84.0</td>\n",
       "    </tr>\n",
       "    <tr>\n",
       "      <th>9</th>\n",
       "      <td>2021-06-24</td>\n",
       "      <td>09:02:04</td>\n",
       "      <td>LOG\\SOC_BATTERY_MAIN_CLUSTER</td>\n",
       "      <td>87.0</td>\n",
       "    </tr>\n",
       "    <tr>\n",
       "      <th>10</th>\n",
       "      <td>2021-06-24</td>\n",
       "      <td>10:02:04</td>\n",
       "      <td>LOG\\SOC_BATTERY_MAIN_CLUSTER</td>\n",
       "      <td>88.0</td>\n",
       "    </tr>\n",
       "    <tr>\n",
       "      <th>11</th>\n",
       "      <td>2021-06-24</td>\n",
       "      <td>11:02:04</td>\n",
       "      <td>LOG\\SOC_BATTERY_MAIN_CLUSTER</td>\n",
       "      <td>90.0</td>\n",
       "    </tr>\n",
       "    <tr>\n",
       "      <th>12</th>\n",
       "      <td>2021-06-24</td>\n",
       "      <td>12:02:04</td>\n",
       "      <td>LOG\\SOC_BATTERY_MAIN_CLUSTER</td>\n",
       "      <td>92.0</td>\n",
       "    </tr>\n",
       "    <tr>\n",
       "      <th>13</th>\n",
       "      <td>2021-06-24</td>\n",
       "      <td>13:02:04</td>\n",
       "      <td>LOG\\SOC_BATTERY_MAIN_CLUSTER</td>\n",
       "      <td>94.0</td>\n",
       "    </tr>\n",
       "    <tr>\n",
       "      <th>14</th>\n",
       "      <td>2021-06-24</td>\n",
       "      <td>14:02:04</td>\n",
       "      <td>LOG\\SOC_BATTERY_MAIN_CLUSTER</td>\n",
       "      <td>96.0</td>\n",
       "    </tr>\n",
       "    <tr>\n",
       "      <th>15</th>\n",
       "      <td>2021-06-24</td>\n",
       "      <td>15:02:04</td>\n",
       "      <td>LOG\\SOC_BATTERY_MAIN_CLUSTER</td>\n",
       "      <td>97.0</td>\n",
       "    </tr>\n",
       "    <tr>\n",
       "      <th>16</th>\n",
       "      <td>2021-06-24</td>\n",
       "      <td>16:02:04</td>\n",
       "      <td>LOG\\SOC_BATTERY_MAIN_CLUSTER</td>\n",
       "      <td>100.0</td>\n",
       "    </tr>\n",
       "    <tr>\n",
       "      <th>17</th>\n",
       "      <td>2021-06-24</td>\n",
       "      <td>17:02:04</td>\n",
       "      <td>LOG\\SOC_BATTERY_MAIN_CLUSTER</td>\n",
       "      <td>100.0</td>\n",
       "    </tr>\n",
       "    <tr>\n",
       "      <th>18</th>\n",
       "      <td>2021-06-24</td>\n",
       "      <td>18:02:04</td>\n",
       "      <td>LOG\\SOC_BATTERY_MAIN_CLUSTER</td>\n",
       "      <td>100.0</td>\n",
       "    </tr>\n",
       "    <tr>\n",
       "      <th>19</th>\n",
       "      <td>2021-06-24</td>\n",
       "      <td>19:02:04</td>\n",
       "      <td>LOG\\SOC_BATTERY_MAIN_CLUSTER</td>\n",
       "      <td>99.0</td>\n",
       "    </tr>\n",
       "    <tr>\n",
       "      <th>20</th>\n",
       "      <td>2021-06-24</td>\n",
       "      <td>20:02:04</td>\n",
       "      <td>LOG\\SOC_BATTERY_MAIN_CLUSTER</td>\n",
       "      <td>98.0</td>\n",
       "    </tr>\n",
       "    <tr>\n",
       "      <th>21</th>\n",
       "      <td>2021-06-24</td>\n",
       "      <td>21:02:04</td>\n",
       "      <td>LOG\\SOC_BATTERY_MAIN_CLUSTER</td>\n",
       "      <td>97.0</td>\n",
       "    </tr>\n",
       "    <tr>\n",
       "      <th>22</th>\n",
       "      <td>2021-06-24</td>\n",
       "      <td>22:02:04</td>\n",
       "      <td>LOG\\SOC_BATTERY_MAIN_CLUSTER</td>\n",
       "      <td>95.0</td>\n",
       "    </tr>\n",
       "    <tr>\n",
       "      <th>23</th>\n",
       "      <td>2021-06-24</td>\n",
       "      <td>23:02:04</td>\n",
       "      <td>LOG\\SOC_BATTERY_MAIN_CLUSTER</td>\n",
       "      <td>94.0</td>\n",
       "    </tr>\n",
       "  </tbody>\n",
       "</table>\n",
       "</div>"
      ]
     },
     "metadata": {},
     "execution_count": 61
    }
   ],
   "metadata": {}
  },
  {
   "cell_type": "code",
   "execution_count": 62,
   "source": [
    "xec = energy_con_onehr['Time_srt']\n",
    "yec = energy_con_onehr['KW/hr']\n",
    "xei = energy_imp_onehr['Time_srt']\n",
    "yei = energy_imp_onehr['KW/hr']\n",
    "xeg = eng_gen_onehr['Time_srt']\n",
    "yeg = eng_gen_onehr['KW/hr']\n",
    "xee = eng_exp_onehr['Time_srt']\n",
    "yee = eng_exp_onehr['KW/hr']\n",
    "xat = at['Time_srt']\n",
    "yat = at['Value']\n",
    "ybs = batt_st['Value']"
   ],
   "outputs": [],
   "metadata": {}
  },
  {
   "cell_type": "code",
   "execution_count": 63,
   "source": [
    "# plt.plot([0.1, 0.2, 0.3, 0.4], [1, 2, 3, 4])\n",
    "# plt.plot([0.1, 0.2, 0.3, 0.4], [1, 4, 9, 16])\n",
    "# plt.xlabel(\"Time (s)\")\n",
    "# plt.ylabel(\"Scale (Bananas)\")"
   ],
   "outputs": [],
   "metadata": {}
  },
  {
   "cell_type": "code",
   "execution_count": 64,
   "source": [
    "xec.to_numpy;\n",
    "yec.to_numpy;\n",
    "xeg.to_numpy;\n",
    "yeg.to_numpy;\n",
    "xei.to_numpy;\n",
    "yei.to_numpy;\n",
    "xee.to_numpy;\n",
    "yee.to_numpy;\n",
    "xat.to_numpy;\n",
    "yat.to_numpy;\n",
    "ybs.to_numpy;"
   ],
   "outputs": [],
   "metadata": {}
  },
  {
   "cell_type": "code",
   "execution_count": 65,
   "source": [
    "rd_df[';Date'][1]"
   ],
   "outputs": [
    {
     "output_type": "execute_result",
     "data": {
      "text/plain": [
       "Timestamp('2021-06-24 00:00:00')"
      ]
     },
     "metadata": {},
     "execution_count": 65
    }
   ],
   "metadata": {}
  },
  {
   "cell_type": "code",
   "execution_count": 66,
   "source": [
    "date = rd_df[';Date'][1].date()"
   ],
   "outputs": [],
   "metadata": {}
  },
  {
   "cell_type": "code",
   "execution_count": 67,
   "source": [
    "filedate = date.strftime(\"%Y/%m/%d\")"
   ],
   "outputs": [],
   "metadata": {}
  },
  {
   "cell_type": "code",
   "execution_count": 68,
   "source": [
    "ss.head()"
   ],
   "outputs": [
    {
     "output_type": "execute_result",
     "data": {
      "text/plain": [
       "0    00:02\n",
       "1    01:02\n",
       "2    02:02\n",
       "3    03:02\n",
       "4    04:02\n",
       "Name: Time_srt, dtype: object"
      ]
     },
     "metadata": {},
     "execution_count": 68
    }
   ],
   "metadata": {}
  },
  {
   "cell_type": "code",
   "execution_count": 69,
   "source": [
    "# ax = df.plot(x_compat=True)\n",
    "plt.plot(ss, yec, label=\"Energy Consumed\")\n",
    "plt.plot(ss, yeg, label=\"Energy Generated\")\n",
    "plt.plot(ss, yei, label=\"Energy Imported\")\n",
    "plt.plot(ss, yee, label=\"Energy Exported\")\n",
    "plt.plot(ss, yat, label=\"Ambient Temperature\")\n",
    "\n",
    "plt.plot(ss, ybs, label=\"Battery Status\")\n",
    "\n",
    "plt.xticks(np.arange(0, len(ss), 1))\n",
    "\n",
    "# plt.xticks(np.arange(0, len(xeg)+1, 4));\n",
    "# plt.yticks(np.arange(0, max (yec), 1))\n",
    "plt.legend();\n",
    "plt.grid()"
   ],
   "outputs": [
    {
     "output_type": "display_data",
     "data": {
      "text/plain": [
       "<Figure size 1080x360 with 1 Axes>"
      ],
      "image/png": "[encoded data removed]"
     },
     "metadata": {
      "needs_background": "light"
     }
    }
   ],
   "metadata": {}
  },
  {
   "cell_type": "code",
   "execution_count": 70,
   "source": [
    "# ax = df.plot(x_compat=True)\n",
    "# %matplotlib inline\n",
    "ax = plt.subplot(111)\n",
    "\n",
    "\n",
    "ax.set_xlabel(\"Time_srt\",fontsize=14)\n",
    "ax.set_ylabel(\"KW/hr\",color=\"red\",fontsize=14)\n",
    "\n",
    "\n",
    "l1 = ax.plot(ss, yeg, '-', label=\"Energy Generated\")\n",
    "l2 = ax.plot(ss, yec,'-', label=\"Energy Consumed\")\n",
    "l3 = ax.plot(ss, yee, '-', label=\"Energy Exported\")\n",
    "l4 = ax.plot(ss, yei, '-', label=\"Energy Imported\")\n",
    "# l5 = ax.plot(ss, yat, '-', label=\"Ambient Temperature\")\n",
    "\n",
    "ax2=ax.twinx()\n",
    "l6 = ax2.plot(ss, ybs, '-', label = 'Battery %', color='b');\n",
    "ax2.set_ylabel(\"Battery %\",color=\"blue\",fontsize=14)\n",
    "\n",
    "l = l1+l2+l3+l4+l6\n",
    "labs = [ll.get_label() for ll in l]\n",
    "ax.legend(l, labs, loc=2);\n",
    "# plt.xticks(np.arange(0, len(ss), 1))\n",
    "\n",
    "# plt.xticks(np.arange(0, len(xeg)+1, 4));\n",
    "# plt.yticks(np.arange(0, max (yec), 1))\n",
    "# plt.legend();\n",
    "ax.grid();\n",
    "plt.title(f'PV Energy Profile for date -{filedate}', fontdict = {'fontsize' : 15},color= 'blue', fontweight='bold')\n",
    "plt.show();"
   ],
   "outputs": [
    {
     "output_type": "display_data",
     "data": {
      "text/plain": [
       "<Figure size 1080x360 with 2 Axes>"
      ],
      "image/png": "[encoded data removed]"
     },
     "metadata": {
      "needs_background": "light"
     }
    }
   ],
   "metadata": {}
  },
  {
   "cell_type": "code",
   "execution_count": 71,
   "source": [
    "# Adding Total value in the Legend - Task completed\n",
    "\n",
    "ax = plt.subplot(111)\n",
    "\n",
    "ax.set_xlabel(\"Time_srt\",fontsize=14)\n",
    "ax.set_ylabel(\"KW/hr\",color=\"red\",fontsize=14)\n",
    "\n",
    "l1 = ax.plot(ss, yeg, '-', label=f\"Energy Generated - {Total_gen}\", color='g')\n",
    "l2 = ax.plot(ss, yec,'-', label=f\"Energy Consumed - {Total_con}\", color='lime')\n",
    "l3 = ax.plot(ss, yee, '-', label=f\"Energy Exported - {Total_exp}\", color='b')\n",
    "l4 = ax.plot(ss, yei, '-', label=f\"Energy Imported - {Total_imp}\", color='r')\n",
    "# l5 = ax.plot(ss, yat, '-', label=\"Ambient Temperature\")\n",
    "\n",
    "ax2=ax.twinx()\n",
    "l6 = ax2.plot(ss, ybs, '-', label = 'Battery %', color='darkviolet');\n",
    "ax2.set_ylabel(\"Battery %\",color=\"darkviolet\",fontsize=14)\n",
    "ax2.set_ylim([70, 105])\n",
    "\n",
    "l = l1+l2+l3+l4+l6\n",
    "labs = [ll.get_label() for ll in l]\n",
    "ax.legend(l, labs, loc=2);\n",
    "\n",
    "ax.grid();\n",
    "plt.title(f'PV Energy Profile for date -{filedate}', fontdict = {'fontsize' : 15},color= 'blue', fontweight='bold')\n",
    "plt.savefig('PV_2021.06.24.pdf')\n",
    "plt.show();"
   ],
   "outputs": [
    {
     "output_type": "display_data",
     "data": {
      "text/plain": [
       "<Figure size 1080x360 with 2 Axes>"
      ],
      "image/png": "[encoded data removed]"
     },
     "metadata": {
      "needs_background": "light"
     }
    }
   ],
   "metadata": {}
  },
  {
   "cell_type": "code",
   "execution_count": 72,
   "source": [
    "# Smooth Line\n",
    "\n",
    "ax = plt.subplot(111)\n",
    "\n",
    "ax.set_xlabel(\"Time_srt\",fontsize=14)\n",
    "ax.set_ylabel(\"KW/hr\",color=\"red\",fontsize=14)\n",
    "ax.set_ylim([-5, 90])\n",
    "l1 = ax.plot(ss, yeg, '-', label=f\"Energy Generated - {Total_gen}\", color='g')\n",
    "l2 = ax.plot(ss, yec,'-', label=f\"Energy Consumed - {Total_con}\", color='lime')\n",
    "l3 = ax.plot(ss, yee, '-', label=f\"Energy Exported - {Total_exp}\", color='b')\n",
    "l4 = ax.plot(ss, yei, '-', label=f\"Energy Imported - {Total_imp}\", color='r')\n",
    "# l5 = ax.plot(ss, yat, '-', label=\"Ambient Temperature\")\n",
    "\n",
    "ax2=ax.twinx()\n",
    "l6 = ax2.plot(ss, ybs, '-', label = 'Battery %', color='darkviolet');\n",
    "ax2.set_ylabel(\"Battery %\",color=\"darkviolet\",fontsize=14)\n",
    "ax2.set_ylim([80, 105])\n",
    "\n",
    "l = l1+l2+l3+l4+l6\n",
    "labs = [ll.get_label() for ll in l]\n",
    "ax.legend(l, labs, loc=2);\n",
    "\n",
    "ax.grid();\n",
    "plt.title(f'PV Energy Profile for date -{filedate}', fontdict = {'fontsize' : 15},color= 'blue', fontweight='bold')\n",
    "plt.show();"
   ],
   "outputs": [
    {
     "output_type": "display_data",
     "data": {
      "text/plain": [
       "<Figure size 1080x360 with 2 Axes>"
      ],
      "image/png": "[encoded data removed]"
     },
     "metadata": {
      "needs_background": "light"
     }
    }
   ],
   "metadata": {}
  },
  {
   "cell_type": "code",
   "execution_count": 73,
   "source": [
    "# ax = df.plot(x_compat=True)\n",
    "plt.plot(xec, yec, label=\"Energy Consumed\")\n",
    "plt.plot(xec, yeg, label=\"Energy Generated\")\n",
    "plt.plot(xec, yei, label=\"Energy Imported\")\n",
    "plt.plot(xec, yee, label=\"Energy Exported\")\n",
    "plt.plot(xec, yat, label=\"Ambient Temperature\")\n",
    "\n",
    "plt.xticks(np.arange(0, len(xec)+1, 2))\n",
    "\n",
    "# plt.xticks(np.arange(0, len(xeg)+1, 4));\n",
    "# plt.yticks(np.arange(0, max (yec), 1))\n",
    "plt.legend();\n",
    "plt.grid()"
   ],
   "outputs": [
    {
     "output_type": "display_data",
     "data": {
      "text/plain": [
       "<Figure size 1080x360 with 1 Axes>"
      ],
      "image/png": "[encoded data removed]"
     },
     "metadata": {
      "needs_background": "light"
     }
    }
   ],
   "metadata": {}
  },
  {
   "cell_type": "code",
   "execution_count": null,
   "source": [],
   "outputs": [],
   "metadata": {}
  }
 ],
 "metadata": {
  "kernelspec": {
   "display_name": "Python 3 (ipykernel)",
   "language": "python",
   "name": "python3"
  },
  "language_info": {
   "codemirror_mode": {
    "name": "ipython",
    "version": 3
   },
   "file_extension": ".py",
   "mimetype": "text/x-python",
   "name": "python",
   "nbconvert_exporter": "python",
   "pygments_lexer": "ipython3",
   "version": "3.8.2"
  }
 },
 "nbformat": 4,
 "nbformat_minor": 5
}
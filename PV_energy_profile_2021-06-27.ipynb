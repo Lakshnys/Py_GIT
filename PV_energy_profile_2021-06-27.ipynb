{
 "cells": [
  {
   "cell_type": "code",
   "execution_count": 1,
   "id": "30c46655",
   "metadata": {},
   "outputs": [],
   "source": [
    "import pandas as pd"
   ]
  },
  {
   "cell_type": "code",
   "execution_count": 2,
   "id": "3b7bc69a",
   "metadata": {},
   "outputs": [],
   "source": [
    "import numpy as np"
   ]
  },
  {
   "cell_type": "code",
   "execution_count": 3,
   "id": "419b7202",
   "metadata": {},
   "outputs": [],
   "source": [
    "from datetime import datetime"
   ]
  },
  {
   "cell_type": "code",
   "execution_count": 4,
   "id": "f77c12ab",
   "metadata": {},
   "outputs": [],
   "source": [
    "import matplotlib.pyplot as plt\n",
    "plt.rcParams[\"figure.figsize\"] = [15, 5]"
   ]
  },
  {
   "cell_type": "code",
   "execution_count": 5,
   "id": "a5c6a795",
   "metadata": {
    "scrolled": false
   },
   "outputs": [
    {
     "data": {
      "text/html": [
       "<div>\n",
       "<style scoped>\n",
       "    .dataframe tbody tr th:only-of-type {\n",
       "        vertical-align: middle;\n",
       "    }\n",
       "\n",
       "    .dataframe tbody tr th {\n",
       "        vertical-align: top;\n",
       "    }\n",
       "\n",
       "    .dataframe thead th {\n",
       "        text-align: right;\n",
       "    }\n",
       "</style>\n",
       "<table border=\"1\" class=\"dataframe\">\n",
       "  <thead>\n",
       "    <tr style=\"text-align: right;\">\n",
       "      <th></th>\n",
       "      <th>;Date</th>\n",
       "      <th>Time</th>\n",
       "      <th>Millitm</th>\n",
       "      <th>Tagname</th>\n",
       "      <th>Value</th>\n",
       "      <th>Status</th>\n",
       "      <th>Marker</th>\n",
       "      <th>Internal</th>\n",
       "    </tr>\n",
       "  </thead>\n",
       "  <tbody>\n",
       "    <tr>\n",
       "      <th>12</th>\n",
       "      <td>2021-06-27</td>\n",
       "      <td>00:00:00</td>\n",
       "      <td>141</td>\n",
       "      <td>LOG\\INVERTER_2_DC_POWER                       ...</td>\n",
       "      <td>0.000000</td>\n",
       "      <td></td>\n",
       "      <td>B</td>\n",
       "      <td>-1</td>\n",
       "    </tr>\n",
       "    <tr>\n",
       "      <th>13</th>\n",
       "      <td>2021-06-27</td>\n",
       "      <td>00:00:00</td>\n",
       "      <td>141</td>\n",
       "      <td>LOG\\INVERTER_3_DC_POWER                       ...</td>\n",
       "      <td>0.000000</td>\n",
       "      <td></td>\n",
       "      <td>B</td>\n",
       "      <td>-1</td>\n",
       "    </tr>\n",
       "    <tr>\n",
       "      <th>14</th>\n",
       "      <td>2021-06-27</td>\n",
       "      <td>00:00:00</td>\n",
       "      <td>141</td>\n",
       "      <td>LOG\\INVERTER_4_AC_POWER                       ...</td>\n",
       "      <td>0.000000</td>\n",
       "      <td></td>\n",
       "      <td>B</td>\n",
       "      <td>-1</td>\n",
       "    </tr>\n",
       "    <tr>\n",
       "      <th>15</th>\n",
       "      <td>2021-06-27</td>\n",
       "      <td>00:00:00</td>\n",
       "      <td>141</td>\n",
       "      <td>LOG\\INVERTER_4_DC_POWER                       ...</td>\n",
       "      <td>0.000000</td>\n",
       "      <td></td>\n",
       "      <td>B</td>\n",
       "      <td>-1</td>\n",
       "    </tr>\n",
       "    <tr>\n",
       "      <th>16</th>\n",
       "      <td>2021-06-27</td>\n",
       "      <td>00:00:00</td>\n",
       "      <td>141</td>\n",
       "      <td>LOG\\INVERTER_5_AC_POWER                       ...</td>\n",
       "      <td>0.000000</td>\n",
       "      <td></td>\n",
       "      <td>B</td>\n",
       "      <td>-1</td>\n",
       "    </tr>\n",
       "    <tr>\n",
       "      <th>17</th>\n",
       "      <td>2021-06-27</td>\n",
       "      <td>00:00:00</td>\n",
       "      <td>141</td>\n",
       "      <td>LOG\\INVERTER_5_DC_POWER                       ...</td>\n",
       "      <td>0.000000</td>\n",
       "      <td></td>\n",
       "      <td>B</td>\n",
       "      <td>-1</td>\n",
       "    </tr>\n",
       "    <tr>\n",
       "      <th>18</th>\n",
       "      <td>2021-06-27</td>\n",
       "      <td>00:00:00</td>\n",
       "      <td>141</td>\n",
       "      <td>LOG\\PRODUCTTRANSFERTRIP                       ...</td>\n",
       "      <td>0.000000</td>\n",
       "      <td></td>\n",
       "      <td>B</td>\n",
       "      <td>-1</td>\n",
       "    </tr>\n",
       "    <tr>\n",
       "      <th>19</th>\n",
       "      <td>2021-06-27</td>\n",
       "      <td>00:00:00</td>\n",
       "      <td>141</td>\n",
       "      <td>LOG\\PV_MODULE_TEMPERATURE                     ...</td>\n",
       "      <td>28.400000</td>\n",
       "      <td></td>\n",
       "      <td>B</td>\n",
       "      <td>-1</td>\n",
       "    </tr>\n",
       "    <tr>\n",
       "      <th>20</th>\n",
       "      <td>2021-06-27</td>\n",
       "      <td>00:00:00</td>\n",
       "      <td>141</td>\n",
       "      <td>LOG\\SOC_BATTERY_CLUSTER_1                     ...</td>\n",
       "      <td>92.000000</td>\n",
       "      <td></td>\n",
       "      <td>B</td>\n",
       "      <td>-1</td>\n",
       "    </tr>\n",
       "    <tr>\n",
       "      <th>21</th>\n",
       "      <td>2021-06-27</td>\n",
       "      <td>00:00:00</td>\n",
       "      <td>141</td>\n",
       "      <td>LOG\\SOC_BATTERY_CLUSTER_2                     ...</td>\n",
       "      <td>92.000000</td>\n",
       "      <td></td>\n",
       "      <td>B</td>\n",
       "      <td>-1</td>\n",
       "    </tr>\n",
       "    <tr>\n",
       "      <th>22</th>\n",
       "      <td>2021-06-27</td>\n",
       "      <td>00:00:00</td>\n",
       "      <td>141</td>\n",
       "      <td>LOG\\SOC_BATTERY_MAIN_CLUSTER                  ...</td>\n",
       "      <td>93.000000</td>\n",
       "      <td></td>\n",
       "      <td>B</td>\n",
       "      <td>-1</td>\n",
       "    </tr>\n",
       "    <tr>\n",
       "      <th>23</th>\n",
       "      <td>2021-06-27</td>\n",
       "      <td>00:00:00</td>\n",
       "      <td>141</td>\n",
       "      <td>LOG\\SOLAR_IRRADIATION                         ...</td>\n",
       "      <td>0.000000</td>\n",
       "      <td></td>\n",
       "      <td>B</td>\n",
       "      <td>-1</td>\n",
       "    </tr>\n",
       "    <tr>\n",
       "      <th>24</th>\n",
       "      <td>2021-06-27</td>\n",
       "      <td>00:00:00</td>\n",
       "      <td>141</td>\n",
       "      <td>LOG\\TOTAL_POWER                               ...</td>\n",
       "      <td>0.000000</td>\n",
       "      <td></td>\n",
       "      <td>B</td>\n",
       "      <td>-1</td>\n",
       "    </tr>\n",
       "    <tr>\n",
       "      <th>25</th>\n",
       "      <td>2021-06-27</td>\n",
       "      <td>00:00:00</td>\n",
       "      <td>141</td>\n",
       "      <td>LOG\\VOLTAGE_OF_GRID_PHASE_1                   ...</td>\n",
       "      <td>229.627121</td>\n",
       "      <td></td>\n",
       "      <td>B</td>\n",
       "      <td>-1</td>\n",
       "    </tr>\n",
       "    <tr>\n",
       "      <th>26</th>\n",
       "      <td>2021-06-27</td>\n",
       "      <td>00:00:00</td>\n",
       "      <td>141</td>\n",
       "      <td>LOG\\VOLTAGE_OF_GRID_PHASE_2                   ...</td>\n",
       "      <td>229.688583</td>\n",
       "      <td></td>\n",
       "      <td>B</td>\n",
       "      <td>-1</td>\n",
       "    </tr>\n",
       "    <tr>\n",
       "      <th>27</th>\n",
       "      <td>2021-06-27</td>\n",
       "      <td>00:00:00</td>\n",
       "      <td>141</td>\n",
       "      <td>LOG\\VOLTAGE_OF_GRID_PHASE_3                   ...</td>\n",
       "      <td>229.719467</td>\n",
       "      <td></td>\n",
       "      <td>B</td>\n",
       "      <td>-1</td>\n",
       "    </tr>\n",
       "    <tr>\n",
       "      <th>28</th>\n",
       "      <td>2021-06-27</td>\n",
       "      <td>00:00:00</td>\n",
       "      <td>141</td>\n",
       "      <td>LOG\\WIND_SPEED                                ...</td>\n",
       "      <td>0.000000</td>\n",
       "      <td></td>\n",
       "      <td>B</td>\n",
       "      <td>-1</td>\n",
       "    </tr>\n",
       "    <tr>\n",
       "      <th>29</th>\n",
       "      <td>2021-06-27</td>\n",
       "      <td>00:00:00</td>\n",
       "      <td>141</td>\n",
       "      <td>LOG\\INVERTER_3_AC_POWER                       ...</td>\n",
       "      <td>55.304024</td>\n",
       "      <td></td>\n",
       "      <td>B</td>\n",
       "      <td>-1</td>\n",
       "    </tr>\n",
       "    <tr>\n",
       "      <th>30</th>\n",
       "      <td>2021-06-27</td>\n",
       "      <td>00:00:00</td>\n",
       "      <td>141</td>\n",
       "      <td>LOG\\ENERGY_GENERATED                          ...</td>\n",
       "      <td>706.885498</td>\n",
       "      <td></td>\n",
       "      <td>B</td>\n",
       "      <td>-1</td>\n",
       "    </tr>\n",
       "    <tr>\n",
       "      <th>31</th>\n",
       "      <td>2021-06-27</td>\n",
       "      <td>00:02:04</td>\n",
       "      <td>691</td>\n",
       "      <td>LOG\\AMBIENT_TEMPRATURE                        ...</td>\n",
       "      <td>31.299999</td>\n",
       "      <td></td>\n",
       "      <td></td>\n",
       "      <td>0</td>\n",
       "    </tr>\n",
       "  </tbody>\n",
       "</table>\n",
       "</div>"
      ],
      "text/plain": [
       "        ;Date      Time  Millitm  \\\n",
       "12 2021-06-27  00:00:00      141   \n",
       "13 2021-06-27  00:00:00      141   \n",
       "14 2021-06-27  00:00:00      141   \n",
       "15 2021-06-27  00:00:00      141   \n",
       "16 2021-06-27  00:00:00      141   \n",
       "17 2021-06-27  00:00:00      141   \n",
       "18 2021-06-27  00:00:00      141   \n",
       "19 2021-06-27  00:00:00      141   \n",
       "20 2021-06-27  00:00:00      141   \n",
       "21 2021-06-27  00:00:00      141   \n",
       "22 2021-06-27  00:00:00      141   \n",
       "23 2021-06-27  00:00:00      141   \n",
       "24 2021-06-27  00:00:00      141   \n",
       "25 2021-06-27  00:00:00      141   \n",
       "26 2021-06-27  00:00:00      141   \n",
       "27 2021-06-27  00:00:00      141   \n",
       "28 2021-06-27  00:00:00      141   \n",
       "29 2021-06-27  00:00:00      141   \n",
       "30 2021-06-27  00:00:00      141   \n",
       "31 2021-06-27  00:02:04      691   \n",
       "\n",
       "                                              Tagname       Value Status  \\\n",
       "12  LOG\\INVERTER_2_DC_POWER                       ...    0.000000          \n",
       "13  LOG\\INVERTER_3_DC_POWER                       ...    0.000000          \n",
       "14  LOG\\INVERTER_4_AC_POWER                       ...    0.000000          \n",
       "15  LOG\\INVERTER_4_DC_POWER                       ...    0.000000          \n",
       "16  LOG\\INVERTER_5_AC_POWER                       ...    0.000000          \n",
       "17  LOG\\INVERTER_5_DC_POWER                       ...    0.000000          \n",
       "18  LOG\\PRODUCTTRANSFERTRIP                       ...    0.000000          \n",
       "19  LOG\\PV_MODULE_TEMPERATURE                     ...   28.400000          \n",
       "20  LOG\\SOC_BATTERY_CLUSTER_1                     ...   92.000000          \n",
       "21  LOG\\SOC_BATTERY_CLUSTER_2                     ...   92.000000          \n",
       "22  LOG\\SOC_BATTERY_MAIN_CLUSTER                  ...   93.000000          \n",
       "23  LOG\\SOLAR_IRRADIATION                         ...    0.000000          \n",
       "24  LOG\\TOTAL_POWER                               ...    0.000000          \n",
       "25  LOG\\VOLTAGE_OF_GRID_PHASE_1                   ...  229.627121          \n",
       "26  LOG\\VOLTAGE_OF_GRID_PHASE_2                   ...  229.688583          \n",
       "27  LOG\\VOLTAGE_OF_GRID_PHASE_3                   ...  229.719467          \n",
       "28  LOG\\WIND_SPEED                                ...    0.000000          \n",
       "29  LOG\\INVERTER_3_AC_POWER                       ...   55.304024          \n",
       "30  LOG\\ENERGY_GENERATED                          ...  706.885498          \n",
       "31  LOG\\AMBIENT_TEMPRATURE                        ...   31.299999          \n",
       "\n",
       "   Marker  Internal  \n",
       "12      B        -1  \n",
       "13      B        -1  \n",
       "14      B        -1  \n",
       "15      B        -1  \n",
       "16      B        -1  \n",
       "17      B        -1  \n",
       "18      B        -1  \n",
       "19      B        -1  \n",
       "20      B        -1  \n",
       "21      B        -1  \n",
       "22      B        -1  \n",
       "23      B        -1  \n",
       "24      B        -1  \n",
       "25      B        -1  \n",
       "26      B        -1  \n",
       "27      B        -1  \n",
       "28      B        -1  \n",
       "29      B        -1  \n",
       "30      B        -1  \n",
       "31                0  "
      ]
     },
     "execution_count": 5,
     "metadata": {},
     "output_type": "execute_result"
    }
   ],
   "source": [
    "raw_data = pd.read_excel(\"H://Python_Projects_001//Test_PV//2021 06 27 0000 (Float).xlsx\")\n",
    "raw_data[12:32]"
   ]
  },
  {
   "cell_type": "code",
   "execution_count": 6,
   "id": "55972e23",
   "metadata": {},
   "outputs": [],
   "source": [
    "# Important ----Remove whitspace befor and after string --- here Tagname----\n",
    "raw_data['Tagname'] = raw_data['Tagname'].str.strip()"
   ]
  },
  {
   "cell_type": "code",
   "execution_count": 7,
   "id": "6c3e5338",
   "metadata": {},
   "outputs": [
    {
     "data": {
      "text/plain": [
       "datetime.time(0, 0)"
      ]
     },
     "execution_count": 7,
     "metadata": {},
     "output_type": "execute_result"
    }
   ],
   "source": [
    "# Time column is in datetime formate to extract one hour time, Time column to be converted to string\n",
    "raw_data['Time'][1]"
   ]
  },
  {
   "cell_type": "code",
   "execution_count": 8,
   "id": "f38a16d8",
   "metadata": {},
   "outputs": [
    {
     "data": {
      "text/plain": [
       "'01:02:04'"
      ]
     },
     "execution_count": 8,
     "metadata": {},
     "output_type": "execute_result"
    }
   ],
   "source": [
    "# Converting datetime to string, use strftime('%H:%M:%S')\n",
    "# ff - In datetime format\n",
    "# ff1 - Converted to String format\n",
    "ff = raw_data['Time'][425]\n",
    "ff1 = ff.strftime('%H:%M:%S')\n",
    "ff1"
   ]
  },
  {
   "cell_type": "code",
   "execution_count": 9,
   "id": "31a445b8",
   "metadata": {},
   "outputs": [
    {
     "data": {
      "text/plain": [
       "0       00:00:00\n",
       "1       00:00:00\n",
       "2       00:00:00\n",
       "3       00:00:00\n",
       "4       00:00:00\n",
       "          ...   \n",
       "9016    00:00:00\n",
       "9017    00:00:00\n",
       "9018    00:00:00\n",
       "9019    00:00:00\n",
       "9020    00:00:00\n",
       "Name: Time, Length: 9021, dtype: object"
      ]
     },
     "execution_count": 9,
     "metadata": {},
     "output_type": "execute_result"
    }
   ],
   "source": [
    "ff3 = raw_data['Time']\n",
    "ff3"
   ]
  },
  {
   "cell_type": "code",
   "execution_count": 10,
   "id": "4af9ffa3",
   "metadata": {},
   "outputs": [
    {
     "data": {
      "text/plain": [
       "0      1900-01-01\n",
       "1      1900-01-01\n",
       "2      1900-01-01\n",
       "3      1900-01-01\n",
       "4      1900-01-01\n",
       "          ...    \n",
       "9016   1900-01-01\n",
       "9017   1900-01-01\n",
       "9018   1900-01-01\n",
       "9019   1900-01-01\n",
       "9020   1900-01-01\n",
       "Name: Time, Length: 9021, dtype: datetime64[ns]"
      ]
     },
     "execution_count": 10,
     "metadata": {},
     "output_type": "execute_result"
    }
   ],
   "source": [
    "ff4 = pd.to_datetime(ff3,format= '%H:%M:%S')\n",
    "ff4"
   ]
  },
  {
   "cell_type": "code",
   "execution_count": 11,
   "id": "0b47d0e0",
   "metadata": {},
   "outputs": [
    {
     "data": {
      "text/plain": [
       "0       00:00:00\n",
       "1       00:00:00\n",
       "2       00:00:00\n",
       "3       00:00:00\n",
       "4       00:00:00\n",
       "          ...   \n",
       "9016    00:00:00\n",
       "9017    00:00:00\n",
       "9018    00:00:00\n",
       "9019    00:00:00\n",
       "9020    00:00:00\n",
       "Name: Time, Length: 9021, dtype: object"
      ]
     },
     "execution_count": 11,
     "metadata": {},
     "output_type": "execute_result"
    }
   ],
   "source": [
    "Time_hr = ff4.dt.time\n",
    "Time_hr"
   ]
  },
  {
   "cell_type": "code",
   "execution_count": 12,
   "id": "70d0f3f6",
   "metadata": {},
   "outputs": [
    {
     "data": {
      "text/plain": [
       "0       00:00:00\n",
       "1       00:00:00\n",
       "2       00:00:00\n",
       "3       00:00:00\n",
       "4       00:00:00\n",
       "          ...   \n",
       "9016    00:00:00\n",
       "9017    00:00:00\n",
       "9018    00:00:00\n",
       "9019    00:00:00\n",
       "9020    00:00:00\n",
       "Name: Time, Length: 9021, dtype: object"
      ]
     },
     "execution_count": 12,
     "metadata": {},
     "output_type": "execute_result"
    }
   ],
   "source": [
    "Time_hr_str = ff4.dt.strftime('%H:%M:%S')\n",
    "Time_hr_str"
   ]
  },
  {
   "cell_type": "code",
   "execution_count": 13,
   "id": "1af6e685",
   "metadata": {},
   "outputs": [],
   "source": [
    "rd_df = raw_data.copy()"
   ]
  },
  {
   "cell_type": "code",
   "execution_count": 14,
   "id": "6935dfa3",
   "metadata": {},
   "outputs": [
    {
     "data": {
      "text/html": [
       "<div>\n",
       "<style scoped>\n",
       "    .dataframe tbody tr th:only-of-type {\n",
       "        vertical-align: middle;\n",
       "    }\n",
       "\n",
       "    .dataframe tbody tr th {\n",
       "        vertical-align: top;\n",
       "    }\n",
       "\n",
       "    .dataframe thead th {\n",
       "        text-align: right;\n",
       "    }\n",
       "</style>\n",
       "<table border=\"1\" class=\"dataframe\">\n",
       "  <thead>\n",
       "    <tr style=\"text-align: right;\">\n",
       "      <th></th>\n",
       "      <th>;Date</th>\n",
       "      <th>Time</th>\n",
       "      <th>Millitm</th>\n",
       "      <th>Tagname</th>\n",
       "      <th>Value</th>\n",
       "      <th>Status</th>\n",
       "      <th>Marker</th>\n",
       "      <th>Internal</th>\n",
       "    </tr>\n",
       "  </thead>\n",
       "  <tbody>\n",
       "    <tr>\n",
       "      <th>0</th>\n",
       "      <td>2021-06-27</td>\n",
       "      <td>00:00:00</td>\n",
       "      <td>141</td>\n",
       "      <td>LOG\\AMBIENT_TEMPRATURE</td>\n",
       "      <td>31.299999</td>\n",
       "      <td></td>\n",
       "      <td>B</td>\n",
       "      <td>-1</td>\n",
       "    </tr>\n",
       "    <tr>\n",
       "      <th>1</th>\n",
       "      <td>2021-06-27</td>\n",
       "      <td>00:00:00</td>\n",
       "      <td>141</td>\n",
       "      <td>LOG\\ENERGY_CONSUMED_BY_LOAD</td>\n",
       "      <td>119.959244</td>\n",
       "      <td></td>\n",
       "      <td>B</td>\n",
       "      <td>-1</td>\n",
       "    </tr>\n",
       "    <tr>\n",
       "      <th>2</th>\n",
       "      <td>2021-06-27</td>\n",
       "      <td>00:00:00</td>\n",
       "      <td>141</td>\n",
       "      <td>LOG\\EVENT_FAULT_INVERTER_1</td>\n",
       "      <td>10863.000000</td>\n",
       "      <td></td>\n",
       "      <td>B</td>\n",
       "      <td>-1</td>\n",
       "    </tr>\n",
       "    <tr>\n",
       "      <th>3</th>\n",
       "      <td>2021-06-27</td>\n",
       "      <td>00:00:00</td>\n",
       "      <td>141</td>\n",
       "      <td>LOG\\EVENT_FAULT_INVERTER_2</td>\n",
       "      <td>0.000000</td>\n",
       "      <td></td>\n",
       "      <td>B</td>\n",
       "      <td>-1</td>\n",
       "    </tr>\n",
       "    <tr>\n",
       "      <th>4</th>\n",
       "      <td>2021-06-27</td>\n",
       "      <td>00:00:00</td>\n",
       "      <td>141</td>\n",
       "      <td>LOG\\EVENT_FAULT_INVERTER_3</td>\n",
       "      <td>13007.000000</td>\n",
       "      <td></td>\n",
       "      <td>B</td>\n",
       "      <td>-1</td>\n",
       "    </tr>\n",
       "    <tr>\n",
       "      <th>...</th>\n",
       "      <td>...</td>\n",
       "      <td>...</td>\n",
       "      <td>...</td>\n",
       "      <td>...</td>\n",
       "      <td>...</td>\n",
       "      <td>...</td>\n",
       "      <td>...</td>\n",
       "      <td>...</td>\n",
       "    </tr>\n",
       "    <tr>\n",
       "      <th>9016</th>\n",
       "      <td>2021-06-28</td>\n",
       "      <td>00:00:00</td>\n",
       "      <td>212</td>\n",
       "      <td>LOG\\VOLTAGE_OF_GRID_PHASE_2</td>\n",
       "      <td>230.278519</td>\n",
       "      <td></td>\n",
       "      <td>E</td>\n",
       "      <td>8985</td>\n",
       "    </tr>\n",
       "    <tr>\n",
       "      <th>9017</th>\n",
       "      <td>2021-06-28</td>\n",
       "      <td>00:00:00</td>\n",
       "      <td>212</td>\n",
       "      <td>LOG\\VOLTAGE_OF_GRID_PHASE_3</td>\n",
       "      <td>229.789902</td>\n",
       "      <td></td>\n",
       "      <td>E</td>\n",
       "      <td>8986</td>\n",
       "    </tr>\n",
       "    <tr>\n",
       "      <th>9018</th>\n",
       "      <td>2021-06-28</td>\n",
       "      <td>00:00:00</td>\n",
       "      <td>212</td>\n",
       "      <td>LOG\\WIND_SPEED</td>\n",
       "      <td>0.600000</td>\n",
       "      <td></td>\n",
       "      <td>E</td>\n",
       "      <td>8987</td>\n",
       "    </tr>\n",
       "    <tr>\n",
       "      <th>9019</th>\n",
       "      <td>2021-06-28</td>\n",
       "      <td>00:00:00</td>\n",
       "      <td>212</td>\n",
       "      <td>LOG\\INVERTER_3_AC_POWER</td>\n",
       "      <td>55.343498</td>\n",
       "      <td></td>\n",
       "      <td>E</td>\n",
       "      <td>8988</td>\n",
       "    </tr>\n",
       "    <tr>\n",
       "      <th>9020</th>\n",
       "      <td>2021-06-28</td>\n",
       "      <td>00:00:00</td>\n",
       "      <td>212</td>\n",
       "      <td>LOG\\ENERGY_GENERATED</td>\n",
       "      <td>707.384583</td>\n",
       "      <td></td>\n",
       "      <td>E</td>\n",
       "      <td>8989</td>\n",
       "    </tr>\n",
       "  </tbody>\n",
       "</table>\n",
       "<p>9021 rows × 8 columns</p>\n",
       "</div>"
      ],
      "text/plain": [
       "          ;Date      Time  Millitm                      Tagname         Value  \\\n",
       "0    2021-06-27  00:00:00      141       LOG\\AMBIENT_TEMPRATURE     31.299999   \n",
       "1    2021-06-27  00:00:00      141  LOG\\ENERGY_CONSUMED_BY_LOAD    119.959244   \n",
       "2    2021-06-27  00:00:00      141   LOG\\EVENT_FAULT_INVERTER_1  10863.000000   \n",
       "3    2021-06-27  00:00:00      141   LOG\\EVENT_FAULT_INVERTER_2      0.000000   \n",
       "4    2021-06-27  00:00:00      141   LOG\\EVENT_FAULT_INVERTER_3  13007.000000   \n",
       "...         ...       ...      ...                          ...           ...   \n",
       "9016 2021-06-28  00:00:00      212  LOG\\VOLTAGE_OF_GRID_PHASE_2    230.278519   \n",
       "9017 2021-06-28  00:00:00      212  LOG\\VOLTAGE_OF_GRID_PHASE_3    229.789902   \n",
       "9018 2021-06-28  00:00:00      212               LOG\\WIND_SPEED      0.600000   \n",
       "9019 2021-06-28  00:00:00      212      LOG\\INVERTER_3_AC_POWER     55.343498   \n",
       "9020 2021-06-28  00:00:00      212         LOG\\ENERGY_GENERATED    707.384583   \n",
       "\n",
       "     Status Marker  Internal  \n",
       "0                B        -1  \n",
       "1                B        -1  \n",
       "2                B        -1  \n",
       "3                B        -1  \n",
       "4                B        -1  \n",
       "...     ...    ...       ...  \n",
       "9016             E      8985  \n",
       "9017             E      8986  \n",
       "9018             E      8987  \n",
       "9019             E      8988  \n",
       "9020             E      8989  \n",
       "\n",
       "[9021 rows x 8 columns]"
      ]
     },
     "execution_count": 14,
     "metadata": {},
     "output_type": "execute_result"
    }
   ],
   "source": [
    "rd_df"
   ]
  },
  {
   "cell_type": "code",
   "execution_count": 15,
   "id": "f20c84bb",
   "metadata": {},
   "outputs": [],
   "source": [
    "rd_df.insert(2, \"Time_srt\",Time_hr_str )"
   ]
  },
  {
   "cell_type": "code",
   "execution_count": 16,
   "id": "e676a5f7",
   "metadata": {},
   "outputs": [
    {
     "data": {
      "text/html": [
       "<div>\n",
       "<style scoped>\n",
       "    .dataframe tbody tr th:only-of-type {\n",
       "        vertical-align: middle;\n",
       "    }\n",
       "\n",
       "    .dataframe tbody tr th {\n",
       "        vertical-align: top;\n",
       "    }\n",
       "\n",
       "    .dataframe thead th {\n",
       "        text-align: right;\n",
       "    }\n",
       "</style>\n",
       "<table border=\"1\" class=\"dataframe\">\n",
       "  <thead>\n",
       "    <tr style=\"text-align: right;\">\n",
       "      <th></th>\n",
       "      <th>;Date</th>\n",
       "      <th>Time</th>\n",
       "      <th>Time_srt</th>\n",
       "      <th>Millitm</th>\n",
       "      <th>Tagname</th>\n",
       "      <th>Value</th>\n",
       "      <th>Status</th>\n",
       "      <th>Marker</th>\n",
       "      <th>Internal</th>\n",
       "    </tr>\n",
       "  </thead>\n",
       "  <tbody>\n",
       "    <tr>\n",
       "      <th>0</th>\n",
       "      <td>2021-06-27</td>\n",
       "      <td>00:00:00</td>\n",
       "      <td>00:00:00</td>\n",
       "      <td>141</td>\n",
       "      <td>LOG\\AMBIENT_TEMPRATURE</td>\n",
       "      <td>31.299999</td>\n",
       "      <td></td>\n",
       "      <td>B</td>\n",
       "      <td>-1</td>\n",
       "    </tr>\n",
       "    <tr>\n",
       "      <th>1</th>\n",
       "      <td>2021-06-27</td>\n",
       "      <td>00:00:00</td>\n",
       "      <td>00:00:00</td>\n",
       "      <td>141</td>\n",
       "      <td>LOG\\ENERGY_CONSUMED_BY_LOAD</td>\n",
       "      <td>119.959244</td>\n",
       "      <td></td>\n",
       "      <td>B</td>\n",
       "      <td>-1</td>\n",
       "    </tr>\n",
       "    <tr>\n",
       "      <th>2</th>\n",
       "      <td>2021-06-27</td>\n",
       "      <td>00:00:00</td>\n",
       "      <td>00:00:00</td>\n",
       "      <td>141</td>\n",
       "      <td>LOG\\EVENT_FAULT_INVERTER_1</td>\n",
       "      <td>10863.000000</td>\n",
       "      <td></td>\n",
       "      <td>B</td>\n",
       "      <td>-1</td>\n",
       "    </tr>\n",
       "    <tr>\n",
       "      <th>3</th>\n",
       "      <td>2021-06-27</td>\n",
       "      <td>00:00:00</td>\n",
       "      <td>00:00:00</td>\n",
       "      <td>141</td>\n",
       "      <td>LOG\\EVENT_FAULT_INVERTER_2</td>\n",
       "      <td>0.000000</td>\n",
       "      <td></td>\n",
       "      <td>B</td>\n",
       "      <td>-1</td>\n",
       "    </tr>\n",
       "    <tr>\n",
       "      <th>4</th>\n",
       "      <td>2021-06-27</td>\n",
       "      <td>00:00:00</td>\n",
       "      <td>00:00:00</td>\n",
       "      <td>141</td>\n",
       "      <td>LOG\\EVENT_FAULT_INVERTER_3</td>\n",
       "      <td>13007.000000</td>\n",
       "      <td></td>\n",
       "      <td>B</td>\n",
       "      <td>-1</td>\n",
       "    </tr>\n",
       "    <tr>\n",
       "      <th>...</th>\n",
       "      <td>...</td>\n",
       "      <td>...</td>\n",
       "      <td>...</td>\n",
       "      <td>...</td>\n",
       "      <td>...</td>\n",
       "      <td>...</td>\n",
       "      <td>...</td>\n",
       "      <td>...</td>\n",
       "      <td>...</td>\n",
       "    </tr>\n",
       "    <tr>\n",
       "      <th>9016</th>\n",
       "      <td>2021-06-28</td>\n",
       "      <td>00:00:00</td>\n",
       "      <td>00:00:00</td>\n",
       "      <td>212</td>\n",
       "      <td>LOG\\VOLTAGE_OF_GRID_PHASE_2</td>\n",
       "      <td>230.278519</td>\n",
       "      <td></td>\n",
       "      <td>E</td>\n",
       "      <td>8985</td>\n",
       "    </tr>\n",
       "    <tr>\n",
       "      <th>9017</th>\n",
       "      <td>2021-06-28</td>\n",
       "      <td>00:00:00</td>\n",
       "      <td>00:00:00</td>\n",
       "      <td>212</td>\n",
       "      <td>LOG\\VOLTAGE_OF_GRID_PHASE_3</td>\n",
       "      <td>229.789902</td>\n",
       "      <td></td>\n",
       "      <td>E</td>\n",
       "      <td>8986</td>\n",
       "    </tr>\n",
       "    <tr>\n",
       "      <th>9018</th>\n",
       "      <td>2021-06-28</td>\n",
       "      <td>00:00:00</td>\n",
       "      <td>00:00:00</td>\n",
       "      <td>212</td>\n",
       "      <td>LOG\\WIND_SPEED</td>\n",
       "      <td>0.600000</td>\n",
       "      <td></td>\n",
       "      <td>E</td>\n",
       "      <td>8987</td>\n",
       "    </tr>\n",
       "    <tr>\n",
       "      <th>9019</th>\n",
       "      <td>2021-06-28</td>\n",
       "      <td>00:00:00</td>\n",
       "      <td>00:00:00</td>\n",
       "      <td>212</td>\n",
       "      <td>LOG\\INVERTER_3_AC_POWER</td>\n",
       "      <td>55.343498</td>\n",
       "      <td></td>\n",
       "      <td>E</td>\n",
       "      <td>8988</td>\n",
       "    </tr>\n",
       "    <tr>\n",
       "      <th>9020</th>\n",
       "      <td>2021-06-28</td>\n",
       "      <td>00:00:00</td>\n",
       "      <td>00:00:00</td>\n",
       "      <td>212</td>\n",
       "      <td>LOG\\ENERGY_GENERATED</td>\n",
       "      <td>707.384583</td>\n",
       "      <td></td>\n",
       "      <td>E</td>\n",
       "      <td>8989</td>\n",
       "    </tr>\n",
       "  </tbody>\n",
       "</table>\n",
       "<p>9021 rows × 9 columns</p>\n",
       "</div>"
      ],
      "text/plain": [
       "          ;Date      Time  Time_srt  Millitm                      Tagname  \\\n",
       "0    2021-06-27  00:00:00  00:00:00      141       LOG\\AMBIENT_TEMPRATURE   \n",
       "1    2021-06-27  00:00:00  00:00:00      141  LOG\\ENERGY_CONSUMED_BY_LOAD   \n",
       "2    2021-06-27  00:00:00  00:00:00      141   LOG\\EVENT_FAULT_INVERTER_1   \n",
       "3    2021-06-27  00:00:00  00:00:00      141   LOG\\EVENT_FAULT_INVERTER_2   \n",
       "4    2021-06-27  00:00:00  00:00:00      141   LOG\\EVENT_FAULT_INVERTER_3   \n",
       "...         ...       ...       ...      ...                          ...   \n",
       "9016 2021-06-28  00:00:00  00:00:00      212  LOG\\VOLTAGE_OF_GRID_PHASE_2   \n",
       "9017 2021-06-28  00:00:00  00:00:00      212  LOG\\VOLTAGE_OF_GRID_PHASE_3   \n",
       "9018 2021-06-28  00:00:00  00:00:00      212               LOG\\WIND_SPEED   \n",
       "9019 2021-06-28  00:00:00  00:00:00      212      LOG\\INVERTER_3_AC_POWER   \n",
       "9020 2021-06-28  00:00:00  00:00:00      212         LOG\\ENERGY_GENERATED   \n",
       "\n",
       "             Value Status Marker  Internal  \n",
       "0        31.299999             B        -1  \n",
       "1       119.959244             B        -1  \n",
       "2     10863.000000             B        -1  \n",
       "3         0.000000             B        -1  \n",
       "4     13007.000000             B        -1  \n",
       "...            ...    ...    ...       ...  \n",
       "9016    230.278519             E      8985  \n",
       "9017    229.789902             E      8986  \n",
       "9018      0.600000             E      8987  \n",
       "9019     55.343498             E      8988  \n",
       "9020    707.384583             E      8989  \n",
       "\n",
       "[9021 rows x 9 columns]"
      ]
     },
     "execution_count": 16,
     "metadata": {},
     "output_type": "execute_result"
    }
   ],
   "source": [
    "rd_df"
   ]
  },
  {
   "cell_type": "code",
   "execution_count": 17,
   "id": "2525b7ef",
   "metadata": {},
   "outputs": [],
   "source": [
    "# Time_hr_str[]"
   ]
  },
  {
   "cell_type": "code",
   "execution_count": 18,
   "id": "fc9ac86a",
   "metadata": {},
   "outputs": [],
   "source": [
    "# raw_data.shape"
   ]
  },
  {
   "cell_type": "code",
   "execution_count": 19,
   "id": "83fa7953",
   "metadata": {},
   "outputs": [],
   "source": [
    "# raw_data.index"
   ]
  },
  {
   "cell_type": "code",
   "execution_count": 20,
   "id": "0c3ec9ce",
   "metadata": {},
   "outputs": [],
   "source": [
    "# raw_data['Tagname'] == 'LOG\\ENERGY_GENERATED'"
   ]
  },
  {
   "cell_type": "code",
   "execution_count": 21,
   "id": "01d1fb2d",
   "metadata": {},
   "outputs": [],
   "source": [
    "# raw_data[raw_data['Tagname'] == 'LOG\\ENERGY_GENERATED']"
   ]
  },
  {
   "cell_type": "code",
   "execution_count": 22,
   "id": "239d0505",
   "metadata": {},
   "outputs": [],
   "source": [
    "# raw_data.tail(5)"
   ]
  },
  {
   "cell_type": "code",
   "execution_count": 23,
   "id": "0dd9455b",
   "metadata": {
    "scrolled": true
   },
   "outputs": [],
   "source": [
    "# raw_data['Value']"
   ]
  },
  {
   "cell_type": "code",
   "execution_count": 24,
   "id": "2c32d574",
   "metadata": {},
   "outputs": [],
   "source": [
    "# filtData = raw_data[raw_data[\"Tagname\"] == 'LOG\\ENERGY_GENERATED']  "
   ]
  },
  {
   "cell_type": "code",
   "execution_count": 25,
   "id": "de99239c",
   "metadata": {},
   "outputs": [],
   "source": [
    "# filtData"
   ]
  },
  {
   "cell_type": "code",
   "execution_count": 26,
   "id": "869c33ca",
   "metadata": {},
   "outputs": [],
   "source": [
    "#  filtData.reset_index(drop=True, inplace=True)"
   ]
  },
  {
   "cell_type": "code",
   "execution_count": 27,
   "id": "4018781d",
   "metadata": {},
   "outputs": [],
   "source": [
    "# filtData"
   ]
  },
  {
   "cell_type": "code",
   "execution_count": 28,
   "id": "01e5b3be",
   "metadata": {},
   "outputs": [],
   "source": [
    "# time_ts = pd.to_datetime(filtData[\"Time\"].iloc[3], format='%H:%M:%S')"
   ]
  },
  {
   "cell_type": "code",
   "execution_count": 29,
   "id": "aebae3f2",
   "metadata": {},
   "outputs": [],
   "source": [
    "# time_ts"
   ]
  },
  {
   "cell_type": "code",
   "execution_count": 30,
   "id": "d197249d",
   "metadata": {},
   "outputs": [],
   "source": [
    "\n",
    "# onehr_ts = pd.date_range(time_ts, periods=24, freq='1h')\n",
    "# onehr1 = onehr_ts.strftime('%H:%M:%S')"
   ]
  },
  {
   "cell_type": "code",
   "execution_count": null,
   "id": "e63892b7",
   "metadata": {},
   "outputs": [],
   "source": []
  },
  {
   "cell_type": "code",
   "execution_count": 31,
   "id": "bb962ae3",
   "metadata": {},
   "outputs": [],
   "source": [
    "# rd_df[rd_df['Time_srt'] == onehr1[1]]"
   ]
  },
  {
   "cell_type": "code",
   "execution_count": 32,
   "id": "d8fa2899",
   "metadata": {
    "scrolled": true
   },
   "outputs": [],
   "source": [
    "# raw_data['Time'][1]."
   ]
  },
  {
   "cell_type": "code",
   "execution_count": 33,
   "id": "b25efe76",
   "metadata": {},
   "outputs": [],
   "source": [
    "# ff = raw_data['Time'][425]\n",
    "# ff1 = ff.strftime('%H:%M:%S')"
   ]
  },
  {
   "cell_type": "code",
   "execution_count": 34,
   "id": "f865c9ea",
   "metadata": {},
   "outputs": [],
   "source": [
    "# ff1"
   ]
  },
  {
   "cell_type": "code",
   "execution_count": 35,
   "id": "1943bc01",
   "metadata": {},
   "outputs": [],
   "source": [
    "# onehr1[1]"
   ]
  },
  {
   "cell_type": "code",
   "execution_count": 36,
   "id": "e6d7c014",
   "metadata": {},
   "outputs": [],
   "source": [
    "# ff1 == onehr1[1]"
   ]
  },
  {
   "cell_type": "code",
   "execution_count": 37,
   "id": "b467382e",
   "metadata": {},
   "outputs": [],
   "source": [
    "class Extracting_Para ():\n",
    "\n",
    "    def __init__(self, Tagname):\n",
    "        self.Tagname = Tagname\n",
    "        \n",
    "    def individual_df(self):\n",
    "        ind_df = pd.DataFrame()\n",
    "        filtData = rd_df[rd_df[\"Tagname\"] == self.Tagname]\n",
    "        filtData.reset_index(drop=True, inplace=True)\n",
    "        time_ts = pd.to_datetime(filtData[\"Time\"].iloc[1], format='%H:%M:%S')\n",
    "        onehr_ts = pd.date_range(time_ts, periods=24, freq='1h')\n",
    "        onehr1 = onehr_ts.strftime('%H:%M:%S')\n",
    "        for x in range(0, len(filtData)):\n",
    "            for y in onehr1:\n",
    "                if(filtData[\"Time_srt\"].iloc[x] == y):\n",
    "                    c1 = filtData[\"Time_srt\"] == y\n",
    "                    Extract = filtData.loc[c1, [';Date', 'Time_srt', 'Tagname', 'Value']]\n",
    "                    ind_df = ind_df.append(Extract)\n",
    "        ind_df.reset_index(drop=True, inplace=True)\n",
    "        ind_df1 = ind_df.copy()\n",
    "        self.ind_df1 = ind_df1\n",
    "        return ind_df\n",
    "\n",
    "#     def onehr_df(self):\n",
    "#         val = self.ind_df1\n",
    "#         val1 = val[\"Value\"]\n",
    "#         onehr_val = np.diff(val1)*1000\n",
    "#         onehr_val=np.insert(onehr_val,0,0)\n",
    "#         val.insert(4, \"KW/hr\",  onehr_val)\n",
    "#         return val\n",
    "\n",
    "    def onehr_df(self):\n",
    "        val = self.ind_df1\n",
    "        val1 = val[\"Value\"]\n",
    "        onehr_val = np.diff(val1)*1000\n",
    "        cpVal = onehr_val[1]\n",
    "        onehr_val=np.insert(onehr_val,0,cpVal)\n",
    "        val.insert(4, \"KW/hr\",  onehr_val)\n",
    "        return val\n",
    "    \n",
    "    def total(self):\n",
    "        onedf = self.ind_df1\n",
    "        totalEg = (onedf.iloc[-1]['Value'] - onedf.iloc[0]['Value'])*1000\n",
    "        totalVal = f'TOTAL_{self.Tagname[4:]} = {\"{:.2f}\".format(totalEg)} KW ' \n",
    "        return totalVal\n",
    "#     def stri(self):\n",
    "#         return self.Tagname[4:]\n",
    "#     >>> print(\"{:.2f}\".format(a))"
   ]
  },
  {
   "cell_type": "code",
   "execution_count": 38,
   "id": "988e9030",
   "metadata": {},
   "outputs": [],
   "source": [
    "energy_gen = Extracting_Para(\"LOG\\ENERGY_GENERATED\")\n",
    "df_energy_gen = energy_gen.individual_df()\n",
    "eng_gen_onehr = energy_gen.onehr_df()\n",
    "Total_gen = energy_gen.total()\n",
    "# sss = energy_gen.stri()"
   ]
  },
  {
   "cell_type": "code",
   "execution_count": 39,
   "id": "df5a2ba6",
   "metadata": {},
   "outputs": [
    {
     "data": {
      "text/plain": [
       "'TOTAL_ENERGY_GENERATED = 16.42 KW '"
      ]
     },
     "execution_count": 39,
     "metadata": {},
     "output_type": "execute_result"
    }
   ],
   "source": [
    "Total_gen"
   ]
  },
  {
   "cell_type": "code",
   "execution_count": 40,
   "id": "f5906863",
   "metadata": {
    "scrolled": false
   },
   "outputs": [
    {
     "data": {
      "text/html": [
       "<div>\n",
       "<style scoped>\n",
       "    .dataframe tbody tr th:only-of-type {\n",
       "        vertical-align: middle;\n",
       "    }\n",
       "\n",
       "    .dataframe tbody tr th {\n",
       "        vertical-align: top;\n",
       "    }\n",
       "\n",
       "    .dataframe thead th {\n",
       "        text-align: right;\n",
       "    }\n",
       "</style>\n",
       "<table border=\"1\" class=\"dataframe\">\n",
       "  <thead>\n",
       "    <tr style=\"text-align: right;\">\n",
       "      <th></th>\n",
       "      <th>;Date</th>\n",
       "      <th>Time_srt</th>\n",
       "      <th>Tagname</th>\n",
       "      <th>Value</th>\n",
       "    </tr>\n",
       "  </thead>\n",
       "  <tbody>\n",
       "    <tr>\n",
       "      <th>0</th>\n",
       "      <td>2021-06-27</td>\n",
       "      <td>00:02:04</td>\n",
       "      <td>LOG\\ENERGY_GENERATED</td>\n",
       "      <td>706.885498</td>\n",
       "    </tr>\n",
       "    <tr>\n",
       "      <th>1</th>\n",
       "      <td>2021-06-27</td>\n",
       "      <td>01:02:04</td>\n",
       "      <td>LOG\\ENERGY_GENERATED</td>\n",
       "      <td>706.885498</td>\n",
       "    </tr>\n",
       "    <tr>\n",
       "      <th>2</th>\n",
       "      <td>2021-06-27</td>\n",
       "      <td>02:02:04</td>\n",
       "      <td>LOG\\ENERGY_GENERATED</td>\n",
       "      <td>706.885498</td>\n",
       "    </tr>\n",
       "    <tr>\n",
       "      <th>3</th>\n",
       "      <td>2021-06-27</td>\n",
       "      <td>03:02:04</td>\n",
       "      <td>LOG\\ENERGY_GENERATED</td>\n",
       "      <td>706.885498</td>\n",
       "    </tr>\n",
       "    <tr>\n",
       "      <th>4</th>\n",
       "      <td>2021-06-27</td>\n",
       "      <td>04:02:04</td>\n",
       "      <td>LOG\\ENERGY_GENERATED</td>\n",
       "      <td>706.885498</td>\n",
       "    </tr>\n",
       "    <tr>\n",
       "      <th>5</th>\n",
       "      <td>2021-06-27</td>\n",
       "      <td>05:02:04</td>\n",
       "      <td>LOG\\ENERGY_GENERATED</td>\n",
       "      <td>706.885498</td>\n",
       "    </tr>\n",
       "    <tr>\n",
       "      <th>6</th>\n",
       "      <td>2021-06-27</td>\n",
       "      <td>06:02:04</td>\n",
       "      <td>LOG\\ENERGY_GENERATED</td>\n",
       "      <td>706.885620</td>\n",
       "    </tr>\n",
       "    <tr>\n",
       "      <th>7</th>\n",
       "      <td>2021-06-27</td>\n",
       "      <td>07:02:04</td>\n",
       "      <td>LOG\\ENERGY_GENERATED</td>\n",
       "      <td>706.888611</td>\n",
       "    </tr>\n",
       "    <tr>\n",
       "      <th>8</th>\n",
       "      <td>2021-06-27</td>\n",
       "      <td>08:02:04</td>\n",
       "      <td>LOG\\ENERGY_GENERATED</td>\n",
       "      <td>706.901916</td>\n",
       "    </tr>\n",
       "  </tbody>\n",
       "</table>\n",
       "</div>"
      ],
      "text/plain": [
       "       ;Date  Time_srt               Tagname       Value\n",
       "0 2021-06-27  00:02:04  LOG\\ENERGY_GENERATED  706.885498\n",
       "1 2021-06-27  01:02:04  LOG\\ENERGY_GENERATED  706.885498\n",
       "2 2021-06-27  02:02:04  LOG\\ENERGY_GENERATED  706.885498\n",
       "3 2021-06-27  03:02:04  LOG\\ENERGY_GENERATED  706.885498\n",
       "4 2021-06-27  04:02:04  LOG\\ENERGY_GENERATED  706.885498\n",
       "5 2021-06-27  05:02:04  LOG\\ENERGY_GENERATED  706.885498\n",
       "6 2021-06-27  06:02:04  LOG\\ENERGY_GENERATED  706.885620\n",
       "7 2021-06-27  07:02:04  LOG\\ENERGY_GENERATED  706.888611\n",
       "8 2021-06-27  08:02:04  LOG\\ENERGY_GENERATED  706.901916"
      ]
     },
     "execution_count": 40,
     "metadata": {},
     "output_type": "execute_result"
    }
   ],
   "source": [
    "df_energy_gen"
   ]
  },
  {
   "cell_type": "code",
   "execution_count": 41,
   "id": "28d3739b",
   "metadata": {},
   "outputs": [
    {
     "data": {
      "text/html": [
       "<div>\n",
       "<style scoped>\n",
       "    .dataframe tbody tr th:only-of-type {\n",
       "        vertical-align: middle;\n",
       "    }\n",
       "\n",
       "    .dataframe tbody tr th {\n",
       "        vertical-align: top;\n",
       "    }\n",
       "\n",
       "    .dataframe thead th {\n",
       "        text-align: right;\n",
       "    }\n",
       "</style>\n",
       "<table border=\"1\" class=\"dataframe\">\n",
       "  <thead>\n",
       "    <tr style=\"text-align: right;\">\n",
       "      <th></th>\n",
       "      <th>;Date</th>\n",
       "      <th>Time_srt</th>\n",
       "      <th>Tagname</th>\n",
       "      <th>Value</th>\n",
       "      <th>KW/hr</th>\n",
       "    </tr>\n",
       "  </thead>\n",
       "  <tbody>\n",
       "    <tr>\n",
       "      <th>0</th>\n",
       "      <td>2021-06-27</td>\n",
       "      <td>00:02:04</td>\n",
       "      <td>LOG\\ENERGY_GENERATED</td>\n",
       "      <td>706.885498</td>\n",
       "      <td>0.0</td>\n",
       "    </tr>\n",
       "    <tr>\n",
       "      <th>1</th>\n",
       "      <td>2021-06-27</td>\n",
       "      <td>01:02:04</td>\n",
       "      <td>LOG\\ENERGY_GENERATED</td>\n",
       "      <td>706.885498</td>\n",
       "      <td>0.0</td>\n",
       "    </tr>\n",
       "    <tr>\n",
       "      <th>2</th>\n",
       "      <td>2021-06-27</td>\n",
       "      <td>02:02:04</td>\n",
       "      <td>LOG\\ENERGY_GENERATED</td>\n",
       "      <td>706.885498</td>\n",
       "      <td>0.0</td>\n",
       "    </tr>\n",
       "    <tr>\n",
       "      <th>3</th>\n",
       "      <td>2021-06-27</td>\n",
       "      <td>03:02:04</td>\n",
       "      <td>LOG\\ENERGY_GENERATED</td>\n",
       "      <td>706.885498</td>\n",
       "      <td>0.0</td>\n",
       "    </tr>\n",
       "    <tr>\n",
       "      <th>4</th>\n",
       "      <td>2021-06-27</td>\n",
       "      <td>04:02:04</td>\n",
       "      <td>LOG\\ENERGY_GENERATED</td>\n",
       "      <td>706.885498</td>\n",
       "      <td>0.0</td>\n",
       "    </tr>\n",
       "  </tbody>\n",
       "</table>\n",
       "</div>"
      ],
      "text/plain": [
       "       ;Date  Time_srt               Tagname       Value  KW/hr\n",
       "0 2021-06-27  00:02:04  LOG\\ENERGY_GENERATED  706.885498    0.0\n",
       "1 2021-06-27  01:02:04  LOG\\ENERGY_GENERATED  706.885498    0.0\n",
       "2 2021-06-27  02:02:04  LOG\\ENERGY_GENERATED  706.885498    0.0\n",
       "3 2021-06-27  03:02:04  LOG\\ENERGY_GENERATED  706.885498    0.0\n",
       "4 2021-06-27  04:02:04  LOG\\ENERGY_GENERATED  706.885498    0.0"
      ]
     },
     "execution_count": 41,
     "metadata": {},
     "output_type": "execute_result"
    }
   ],
   "source": [
    "eng_gen_onehr.head()"
   ]
  },
  {
   "cell_type": "code",
   "execution_count": 42,
   "id": "d32d5ffe",
   "metadata": {},
   "outputs": [
    {
     "data": {
      "text/plain": [
       "16.41844999994646"
      ]
     },
     "execution_count": 42,
     "metadata": {},
     "output_type": "execute_result"
    }
   ],
   "source": [
    "(eng_gen_onehr.iloc[-1]['Value'] - eng_gen_onehr.iloc[-0]['Value'])*1000"
   ]
  },
  {
   "cell_type": "code",
   "execution_count": 43,
   "id": "68455cd9",
   "metadata": {},
   "outputs": [
    {
     "data": {
      "text/plain": [
       "16.41844999994646"
      ]
     },
     "execution_count": 43,
     "metadata": {},
     "output_type": "execute_result"
    }
   ],
   "source": [
    "sum(eng_gen_onehr[\"KW/hr\"])"
   ]
  },
  {
   "cell_type": "code",
   "execution_count": 44,
   "id": "aadb01b5",
   "metadata": {},
   "outputs": [
    {
     "data": {
      "text/plain": [
       "9"
      ]
     },
     "execution_count": 44,
     "metadata": {},
     "output_type": "execute_result"
    }
   ],
   "source": [
    "len(eng_gen_onehr)"
   ]
  },
  {
   "cell_type": "code",
   "execution_count": 45,
   "id": "6250900c",
   "metadata": {},
   "outputs": [],
   "source": [
    "energy_exp = Extracting_Para(\"LOG\\EXPORTED_ENERGY_TO_GRID\")\n",
    "df_energy_exp = energy_exp.individual_df()\n",
    "eng_exp_onehr = energy_exp.onehr_df()\n",
    "Total_exp = energy_exp.total()"
   ]
  },
  {
   "cell_type": "code",
   "execution_count": 46,
   "id": "02a7254f",
   "metadata": {},
   "outputs": [
    {
     "data": {
      "text/html": [
       "<div>\n",
       "<style scoped>\n",
       "    .dataframe tbody tr th:only-of-type {\n",
       "        vertical-align: middle;\n",
       "    }\n",
       "\n",
       "    .dataframe tbody tr th {\n",
       "        vertical-align: top;\n",
       "    }\n",
       "\n",
       "    .dataframe thead th {\n",
       "        text-align: right;\n",
       "    }\n",
       "</style>\n",
       "<table border=\"1\" class=\"dataframe\">\n",
       "  <thead>\n",
       "    <tr style=\"text-align: right;\">\n",
       "      <th></th>\n",
       "      <th>;Date</th>\n",
       "      <th>Time_srt</th>\n",
       "      <th>Tagname</th>\n",
       "      <th>Value</th>\n",
       "      <th>KW/hr</th>\n",
       "    </tr>\n",
       "  </thead>\n",
       "  <tbody>\n",
       "    <tr>\n",
       "      <th>0</th>\n",
       "      <td>2021-06-27</td>\n",
       "      <td>00:02:04</td>\n",
       "      <td>LOG\\EXPORTED_ENERGY_TO_GRID</td>\n",
       "      <td>526.705688</td>\n",
       "      <td>0.0</td>\n",
       "    </tr>\n",
       "    <tr>\n",
       "      <th>1</th>\n",
       "      <td>2021-06-27</td>\n",
       "      <td>01:02:04</td>\n",
       "      <td>LOG\\EXPORTED_ENERGY_TO_GRID</td>\n",
       "      <td>526.705688</td>\n",
       "      <td>0.0</td>\n",
       "    </tr>\n",
       "    <tr>\n",
       "      <th>2</th>\n",
       "      <td>2021-06-27</td>\n",
       "      <td>02:02:04</td>\n",
       "      <td>LOG\\EXPORTED_ENERGY_TO_GRID</td>\n",
       "      <td>526.705688</td>\n",
       "      <td>0.0</td>\n",
       "    </tr>\n",
       "    <tr>\n",
       "      <th>3</th>\n",
       "      <td>2021-06-27</td>\n",
       "      <td>03:02:04</td>\n",
       "      <td>LOG\\EXPORTED_ENERGY_TO_GRID</td>\n",
       "      <td>526.705688</td>\n",
       "      <td>0.0</td>\n",
       "    </tr>\n",
       "    <tr>\n",
       "      <th>4</th>\n",
       "      <td>2021-06-27</td>\n",
       "      <td>04:02:04</td>\n",
       "      <td>LOG\\EXPORTED_ENERGY_TO_GRID</td>\n",
       "      <td>526.705688</td>\n",
       "      <td>0.0</td>\n",
       "    </tr>\n",
       "  </tbody>\n",
       "</table>\n",
       "</div>"
      ],
      "text/plain": [
       "       ;Date  Time_srt                      Tagname       Value  KW/hr\n",
       "0 2021-06-27  00:02:04  LOG\\EXPORTED_ENERGY_TO_GRID  526.705688    0.0\n",
       "1 2021-06-27  01:02:04  LOG\\EXPORTED_ENERGY_TO_GRID  526.705688    0.0\n",
       "2 2021-06-27  02:02:04  LOG\\EXPORTED_ENERGY_TO_GRID  526.705688    0.0\n",
       "3 2021-06-27  03:02:04  LOG\\EXPORTED_ENERGY_TO_GRID  526.705688    0.0\n",
       "4 2021-06-27  04:02:04  LOG\\EXPORTED_ENERGY_TO_GRID  526.705688    0.0"
      ]
     },
     "execution_count": 46,
     "metadata": {},
     "output_type": "execute_result"
    }
   ],
   "source": [
    "eng_exp_onehr.head()"
   ]
  },
  {
   "cell_type": "code",
   "execution_count": 47,
   "id": "fc61b5cc",
   "metadata": {},
   "outputs": [
    {
     "data": {
      "text/plain": [
       "'TOTAL_EXPORTED_ENERGY_TO_GRID = 0.00 KW '"
      ]
     },
     "execution_count": 47,
     "metadata": {},
     "output_type": "execute_result"
    }
   ],
   "source": [
    "Total_exp"
   ]
  },
  {
   "cell_type": "code",
   "execution_count": 48,
   "id": "1ef203ed",
   "metadata": {},
   "outputs": [],
   "source": [
    "energy_imp = Extracting_Para(\"LOG\\IMPORTED_ENERGY_TO_GRID\")\n",
    "df_energy_imp = energy_imp.individual_df()\n",
    "energy_imp_onehr = energy_imp.onehr_df()\n",
    "Total_imp = energy_imp.total()"
   ]
  },
  {
   "cell_type": "code",
   "execution_count": 49,
   "id": "b9ad2c4f",
   "metadata": {},
   "outputs": [
    {
     "data": {
      "text/html": [
       "<div>\n",
       "<style scoped>\n",
       "    .dataframe tbody tr th:only-of-type {\n",
       "        vertical-align: middle;\n",
       "    }\n",
       "\n",
       "    .dataframe tbody tr th {\n",
       "        vertical-align: top;\n",
       "    }\n",
       "\n",
       "    .dataframe thead th {\n",
       "        text-align: right;\n",
       "    }\n",
       "</style>\n",
       "<table border=\"1\" class=\"dataframe\">\n",
       "  <thead>\n",
       "    <tr style=\"text-align: right;\">\n",
       "      <th></th>\n",
       "      <th>;Date</th>\n",
       "      <th>Time_srt</th>\n",
       "      <th>Tagname</th>\n",
       "      <th>Value</th>\n",
       "      <th>KW/hr</th>\n",
       "    </tr>\n",
       "  </thead>\n",
       "  <tbody>\n",
       "    <tr>\n",
       "      <th>0</th>\n",
       "      <td>2021-06-27</td>\n",
       "      <td>00:02:04</td>\n",
       "      <td>LOG\\IMPORTED_ENERGY_TO_GRID</td>\n",
       "      <td>7.232587</td>\n",
       "      <td>0.05483</td>\n",
       "    </tr>\n",
       "    <tr>\n",
       "      <th>1</th>\n",
       "      <td>2021-06-27</td>\n",
       "      <td>01:02:04</td>\n",
       "      <td>LOG\\IMPORTED_ENERGY_TO_GRID</td>\n",
       "      <td>7.232656</td>\n",
       "      <td>0.06819</td>\n",
       "    </tr>\n",
       "    <tr>\n",
       "      <th>2</th>\n",
       "      <td>2021-06-27</td>\n",
       "      <td>02:02:04</td>\n",
       "      <td>LOG\\IMPORTED_ENERGY_TO_GRID</td>\n",
       "      <td>7.232710</td>\n",
       "      <td>0.05483</td>\n",
       "    </tr>\n",
       "    <tr>\n",
       "      <th>3</th>\n",
       "      <td>2021-06-27</td>\n",
       "      <td>03:02:04</td>\n",
       "      <td>LOG\\IMPORTED_ENERGY_TO_GRID</td>\n",
       "      <td>7.232757</td>\n",
       "      <td>0.04673</td>\n",
       "    </tr>\n",
       "    <tr>\n",
       "      <th>4</th>\n",
       "      <td>2021-06-27</td>\n",
       "      <td>04:02:04</td>\n",
       "      <td>LOG\\IMPORTED_ENERGY_TO_GRID</td>\n",
       "      <td>7.232796</td>\n",
       "      <td>0.03863</td>\n",
       "    </tr>\n",
       "  </tbody>\n",
       "</table>\n",
       "</div>"
      ],
      "text/plain": [
       "       ;Date  Time_srt                      Tagname     Value    KW/hr\n",
       "0 2021-06-27  00:02:04  LOG\\IMPORTED_ENERGY_TO_GRID  7.232587  0.05483\n",
       "1 2021-06-27  01:02:04  LOG\\IMPORTED_ENERGY_TO_GRID  7.232656  0.06819\n",
       "2 2021-06-27  02:02:04  LOG\\IMPORTED_ENERGY_TO_GRID  7.232710  0.05483\n",
       "3 2021-06-27  03:02:04  LOG\\IMPORTED_ENERGY_TO_GRID  7.232757  0.04673\n",
       "4 2021-06-27  04:02:04  LOG\\IMPORTED_ENERGY_TO_GRID  7.232796  0.03863"
      ]
     },
     "execution_count": 49,
     "metadata": {},
     "output_type": "execute_result"
    }
   ],
   "source": [
    "energy_imp_onehr.head()"
   ]
  },
  {
   "cell_type": "code",
   "execution_count": 50,
   "id": "a578e6a4",
   "metadata": {},
   "outputs": [
    {
     "data": {
      "text/plain": [
       "'TOTAL_IMPORTED_ENERGY_TO_GRID = 0.71 KW '"
      ]
     },
     "execution_count": 50,
     "metadata": {},
     "output_type": "execute_result"
    }
   ],
   "source": [
    "Total_imp"
   ]
  },
  {
   "cell_type": "code",
   "execution_count": 51,
   "id": "48bf9943",
   "metadata": {},
   "outputs": [],
   "source": [
    "energy_con = Extracting_Para(\"LOG\\ENERGY_CONSUMED_BY_LOAD\")\n",
    "df_energy_con = energy_con.individual_df()\n",
    "energy_con_onehr = energy_con.onehr_df()\n",
    "Total_con = energy_con.total()"
   ]
  },
  {
   "cell_type": "code",
   "execution_count": 52,
   "id": "28aa0274",
   "metadata": {},
   "outputs": [
    {
     "data": {
      "text/html": [
       "<div>\n",
       "<style scoped>\n",
       "    .dataframe tbody tr th:only-of-type {\n",
       "        vertical-align: middle;\n",
       "    }\n",
       "\n",
       "    .dataframe tbody tr th {\n",
       "        vertical-align: top;\n",
       "    }\n",
       "\n",
       "    .dataframe thead th {\n",
       "        text-align: right;\n",
       "    }\n",
       "</style>\n",
       "<table border=\"1\" class=\"dataframe\">\n",
       "  <thead>\n",
       "    <tr style=\"text-align: right;\">\n",
       "      <th></th>\n",
       "      <th>;Date</th>\n",
       "      <th>Time_srt</th>\n",
       "      <th>Tagname</th>\n",
       "      <th>Value</th>\n",
       "      <th>KW/hr</th>\n",
       "    </tr>\n",
       "  </thead>\n",
       "  <tbody>\n",
       "    <tr>\n",
       "      <th>0</th>\n",
       "      <td>2021-06-27</td>\n",
       "      <td>00:02:04</td>\n",
       "      <td>LOG\\ENERGY_CONSUMED_BY_LOAD</td>\n",
       "      <td>119.959244</td>\n",
       "      <td>7.46918</td>\n",
       "    </tr>\n",
       "    <tr>\n",
       "      <th>1</th>\n",
       "      <td>2021-06-27</td>\n",
       "      <td>01:02:04</td>\n",
       "      <td>LOG\\ENERGY_CONSUMED_BY_LOAD</td>\n",
       "      <td>119.966721</td>\n",
       "      <td>7.47681</td>\n",
       "    </tr>\n",
       "    <tr>\n",
       "      <th>2</th>\n",
       "      <td>2021-06-27</td>\n",
       "      <td>02:02:04</td>\n",
       "      <td>LOG\\ENERGY_CONSUMED_BY_LOAD</td>\n",
       "      <td>119.974190</td>\n",
       "      <td>7.46918</td>\n",
       "    </tr>\n",
       "    <tr>\n",
       "      <th>3</th>\n",
       "      <td>2021-06-27</td>\n",
       "      <td>03:02:04</td>\n",
       "      <td>LOG\\ENERGY_CONSUMED_BY_LOAD</td>\n",
       "      <td>119.981651</td>\n",
       "      <td>7.46155</td>\n",
       "    </tr>\n",
       "    <tr>\n",
       "      <th>4</th>\n",
       "      <td>2021-06-27</td>\n",
       "      <td>04:02:04</td>\n",
       "      <td>LOG\\ENERGY_CONSUMED_BY_LOAD</td>\n",
       "      <td>119.989082</td>\n",
       "      <td>7.43103</td>\n",
       "    </tr>\n",
       "  </tbody>\n",
       "</table>\n",
       "</div>"
      ],
      "text/plain": [
       "       ;Date  Time_srt                      Tagname       Value    KW/hr\n",
       "0 2021-06-27  00:02:04  LOG\\ENERGY_CONSUMED_BY_LOAD  119.959244  7.46918\n",
       "1 2021-06-27  01:02:04  LOG\\ENERGY_CONSUMED_BY_LOAD  119.966721  7.47681\n",
       "2 2021-06-27  02:02:04  LOG\\ENERGY_CONSUMED_BY_LOAD  119.974190  7.46918\n",
       "3 2021-06-27  03:02:04  LOG\\ENERGY_CONSUMED_BY_LOAD  119.981651  7.46155\n",
       "4 2021-06-27  04:02:04  LOG\\ENERGY_CONSUMED_BY_LOAD  119.989082  7.43103"
      ]
     },
     "execution_count": 52,
     "metadata": {},
     "output_type": "execute_result"
    }
   ],
   "source": [
    "energy_con_onehr.head()"
   ]
  },
  {
   "cell_type": "code",
   "execution_count": 53,
   "id": "8dd4fd5c",
   "metadata": {},
   "outputs": [
    {
     "data": {
      "text/plain": [
       "'TOTAL_ENERGY_CONSUMED_BY_LOAD = 59.79 KW '"
      ]
     },
     "execution_count": 53,
     "metadata": {},
     "output_type": "execute_result"
    }
   ],
   "source": [
    "Total_con"
   ]
  },
  {
   "cell_type": "code",
   "execution_count": 54,
   "id": "36b9dd85",
   "metadata": {},
   "outputs": [
    {
     "data": {
      "text/plain": [
       "0    00:02:04\n",
       "1    01:02:04\n",
       "2    02:02:04\n",
       "3    03:02:04\n",
       "4    04:02:04\n",
       "Name: Time_srt, dtype: object"
      ]
     },
     "execution_count": 54,
     "metadata": {},
     "output_type": "execute_result"
    }
   ],
   "source": [
    "energy_con_onehr['Time_srt'].head()"
   ]
  },
  {
   "cell_type": "code",
   "execution_count": 55,
   "id": "1f2762e4",
   "metadata": {},
   "outputs": [],
   "source": [
    "amp_temp = Extracting_Para(\"LOG\\AMBIENT_TEMPRATURE\")\n",
    "at = amp_temp.individual_df()\n",
    "# energy_con_onehr = energy_con.onehr_df()"
   ]
  },
  {
   "cell_type": "code",
   "execution_count": 56,
   "id": "21a3f2e2",
   "metadata": {},
   "outputs": [
    {
     "data": {
      "text/html": [
       "<div>\n",
       "<style scoped>\n",
       "    .dataframe tbody tr th:only-of-type {\n",
       "        vertical-align: middle;\n",
       "    }\n",
       "\n",
       "    .dataframe tbody tr th {\n",
       "        vertical-align: top;\n",
       "    }\n",
       "\n",
       "    .dataframe thead th {\n",
       "        text-align: right;\n",
       "    }\n",
       "</style>\n",
       "<table border=\"1\" class=\"dataframe\">\n",
       "  <thead>\n",
       "    <tr style=\"text-align: right;\">\n",
       "      <th></th>\n",
       "      <th>;Date</th>\n",
       "      <th>Time_srt</th>\n",
       "      <th>Tagname</th>\n",
       "      <th>Value</th>\n",
       "    </tr>\n",
       "  </thead>\n",
       "  <tbody>\n",
       "    <tr>\n",
       "      <th>0</th>\n",
       "      <td>2021-06-27</td>\n",
       "      <td>00:02:04</td>\n",
       "      <td>LOG\\AMBIENT_TEMPRATURE</td>\n",
       "      <td>31.299999</td>\n",
       "    </tr>\n",
       "    <tr>\n",
       "      <th>1</th>\n",
       "      <td>2021-06-27</td>\n",
       "      <td>01:02:04</td>\n",
       "      <td>LOG\\AMBIENT_TEMPRATURE</td>\n",
       "      <td>30.000000</td>\n",
       "    </tr>\n",
       "    <tr>\n",
       "      <th>2</th>\n",
       "      <td>2021-06-27</td>\n",
       "      <td>02:02:04</td>\n",
       "      <td>LOG\\AMBIENT_TEMPRATURE</td>\n",
       "      <td>32.400002</td>\n",
       "    </tr>\n",
       "    <tr>\n",
       "      <th>3</th>\n",
       "      <td>2021-06-27</td>\n",
       "      <td>03:02:04</td>\n",
       "      <td>LOG\\AMBIENT_TEMPRATURE</td>\n",
       "      <td>32.099998</td>\n",
       "    </tr>\n",
       "    <tr>\n",
       "      <th>4</th>\n",
       "      <td>2021-06-27</td>\n",
       "      <td>04:02:04</td>\n",
       "      <td>LOG\\AMBIENT_TEMPRATURE</td>\n",
       "      <td>32.099998</td>\n",
       "    </tr>\n",
       "    <tr>\n",
       "      <th>5</th>\n",
       "      <td>2021-06-27</td>\n",
       "      <td>05:02:04</td>\n",
       "      <td>LOG\\AMBIENT_TEMPRATURE</td>\n",
       "      <td>32.599998</td>\n",
       "    </tr>\n",
       "    <tr>\n",
       "      <th>6</th>\n",
       "      <td>2021-06-27</td>\n",
       "      <td>06:02:04</td>\n",
       "      <td>LOG\\AMBIENT_TEMPRATURE</td>\n",
       "      <td>32.500000</td>\n",
       "    </tr>\n",
       "    <tr>\n",
       "      <th>7</th>\n",
       "      <td>2021-06-27</td>\n",
       "      <td>07:02:04</td>\n",
       "      <td>LOG\\AMBIENT_TEMPRATURE</td>\n",
       "      <td>33.200001</td>\n",
       "    </tr>\n",
       "    <tr>\n",
       "      <th>8</th>\n",
       "      <td>2021-06-27</td>\n",
       "      <td>08:02:04</td>\n",
       "      <td>LOG\\AMBIENT_TEMPRATURE</td>\n",
       "      <td>34.799999</td>\n",
       "    </tr>\n",
       "  </tbody>\n",
       "</table>\n",
       "</div>"
      ],
      "text/plain": [
       "       ;Date  Time_srt                 Tagname      Value\n",
       "0 2021-06-27  00:02:04  LOG\\AMBIENT_TEMPRATURE  31.299999\n",
       "1 2021-06-27  01:02:04  LOG\\AMBIENT_TEMPRATURE  30.000000\n",
       "2 2021-06-27  02:02:04  LOG\\AMBIENT_TEMPRATURE  32.400002\n",
       "3 2021-06-27  03:02:04  LOG\\AMBIENT_TEMPRATURE  32.099998\n",
       "4 2021-06-27  04:02:04  LOG\\AMBIENT_TEMPRATURE  32.099998\n",
       "5 2021-06-27  05:02:04  LOG\\AMBIENT_TEMPRATURE  32.599998\n",
       "6 2021-06-27  06:02:04  LOG\\AMBIENT_TEMPRATURE  32.500000\n",
       "7 2021-06-27  07:02:04  LOG\\AMBIENT_TEMPRATURE  33.200001\n",
       "8 2021-06-27  08:02:04  LOG\\AMBIENT_TEMPRATURE  34.799999"
      ]
     },
     "execution_count": 56,
     "metadata": {},
     "output_type": "execute_result"
    }
   ],
   "source": [
    "at"
   ]
  },
  {
   "cell_type": "code",
   "execution_count": 57,
   "id": "6665fce1",
   "metadata": {},
   "outputs": [],
   "source": [
    "s = at['Time_srt']"
   ]
  },
  {
   "cell_type": "code",
   "execution_count": 58,
   "id": "97edc717",
   "metadata": {},
   "outputs": [],
   "source": [
    "ss = s.str.slice(stop = 5)"
   ]
  },
  {
   "cell_type": "code",
   "execution_count": 59,
   "id": "647f856c",
   "metadata": {},
   "outputs": [
    {
     "data": {
      "text/plain": [
       "0    00:02\n",
       "1    01:02\n",
       "2    02:02\n",
       "3    03:02\n",
       "4    04:02\n",
       "Name: Time_srt, dtype: object"
      ]
     },
     "execution_count": 59,
     "metadata": {},
     "output_type": "execute_result"
    }
   ],
   "source": [
    "ss.head()"
   ]
  },
  {
   "cell_type": "code",
   "execution_count": 60,
   "id": "550f19c8",
   "metadata": {},
   "outputs": [],
   "source": [
    "batt = Extracting_Para(\"LOG\\SOC_BATTERY_MAIN_CLUSTER\")\n",
    "batt_st = batt.individual_df()\n",
    "# energy_con_onehr = energy_con.onehr_df()\n",
    "# LOG\\SOC_BATTERY_MAIN_CLUSTER"
   ]
  },
  {
   "cell_type": "code",
   "execution_count": 61,
   "id": "8179ca7c",
   "metadata": {},
   "outputs": [
    {
     "data": {
      "text/html": [
       "<div>\n",
       "<style scoped>\n",
       "    .dataframe tbody tr th:only-of-type {\n",
       "        vertical-align: middle;\n",
       "    }\n",
       "\n",
       "    .dataframe tbody tr th {\n",
       "        vertical-align: top;\n",
       "    }\n",
       "\n",
       "    .dataframe thead th {\n",
       "        text-align: right;\n",
       "    }\n",
       "</style>\n",
       "<table border=\"1\" class=\"dataframe\">\n",
       "  <thead>\n",
       "    <tr style=\"text-align: right;\">\n",
       "      <th></th>\n",
       "      <th>;Date</th>\n",
       "      <th>Time_srt</th>\n",
       "      <th>Tagname</th>\n",
       "      <th>Value</th>\n",
       "    </tr>\n",
       "  </thead>\n",
       "  <tbody>\n",
       "    <tr>\n",
       "      <th>0</th>\n",
       "      <td>2021-06-27</td>\n",
       "      <td>00:02:04</td>\n",
       "      <td>LOG\\SOC_BATTERY_MAIN_CLUSTER</td>\n",
       "      <td>93.0</td>\n",
       "    </tr>\n",
       "    <tr>\n",
       "      <th>1</th>\n",
       "      <td>2021-06-27</td>\n",
       "      <td>01:02:04</td>\n",
       "      <td>LOG\\SOC_BATTERY_MAIN_CLUSTER</td>\n",
       "      <td>91.0</td>\n",
       "    </tr>\n",
       "    <tr>\n",
       "      <th>2</th>\n",
       "      <td>2021-06-27</td>\n",
       "      <td>02:02:04</td>\n",
       "      <td>LOG\\SOC_BATTERY_MAIN_CLUSTER</td>\n",
       "      <td>90.0</td>\n",
       "    </tr>\n",
       "    <tr>\n",
       "      <th>3</th>\n",
       "      <td>2021-06-27</td>\n",
       "      <td>03:02:04</td>\n",
       "      <td>LOG\\SOC_BATTERY_MAIN_CLUSTER</td>\n",
       "      <td>88.0</td>\n",
       "    </tr>\n",
       "    <tr>\n",
       "      <th>4</th>\n",
       "      <td>2021-06-27</td>\n",
       "      <td>04:02:04</td>\n",
       "      <td>LOG\\SOC_BATTERY_MAIN_CLUSTER</td>\n",
       "      <td>87.0</td>\n",
       "    </tr>\n",
       "    <tr>\n",
       "      <th>5</th>\n",
       "      <td>2021-06-27</td>\n",
       "      <td>05:02:04</td>\n",
       "      <td>LOG\\SOC_BATTERY_MAIN_CLUSTER</td>\n",
       "      <td>85.0</td>\n",
       "    </tr>\n",
       "    <tr>\n",
       "      <th>6</th>\n",
       "      <td>2021-06-27</td>\n",
       "      <td>06:02:04</td>\n",
       "      <td>LOG\\SOC_BATTERY_MAIN_CLUSTER</td>\n",
       "      <td>84.0</td>\n",
       "    </tr>\n",
       "    <tr>\n",
       "      <th>7</th>\n",
       "      <td>2021-06-27</td>\n",
       "      <td>07:02:04</td>\n",
       "      <td>LOG\\SOC_BATTERY_MAIN_CLUSTER</td>\n",
       "      <td>84.0</td>\n",
       "    </tr>\n",
       "    <tr>\n",
       "      <th>8</th>\n",
       "      <td>2021-06-27</td>\n",
       "      <td>08:02:04</td>\n",
       "      <td>LOG\\SOC_BATTERY_MAIN_CLUSTER</td>\n",
       "      <td>85.0</td>\n",
       "    </tr>\n",
       "  </tbody>\n",
       "</table>\n",
       "</div>"
      ],
      "text/plain": [
       "       ;Date  Time_srt                       Tagname  Value\n",
       "0 2021-06-27  00:02:04  LOG\\SOC_BATTERY_MAIN_CLUSTER   93.0\n",
       "1 2021-06-27  01:02:04  LOG\\SOC_BATTERY_MAIN_CLUSTER   91.0\n",
       "2 2021-06-27  02:02:04  LOG\\SOC_BATTERY_MAIN_CLUSTER   90.0\n",
       "3 2021-06-27  03:02:04  LOG\\SOC_BATTERY_MAIN_CLUSTER   88.0\n",
       "4 2021-06-27  04:02:04  LOG\\SOC_BATTERY_MAIN_CLUSTER   87.0\n",
       "5 2021-06-27  05:02:04  LOG\\SOC_BATTERY_MAIN_CLUSTER   85.0\n",
       "6 2021-06-27  06:02:04  LOG\\SOC_BATTERY_MAIN_CLUSTER   84.0\n",
       "7 2021-06-27  07:02:04  LOG\\SOC_BATTERY_MAIN_CLUSTER   84.0\n",
       "8 2021-06-27  08:02:04  LOG\\SOC_BATTERY_MAIN_CLUSTER   85.0"
      ]
     },
     "execution_count": 61,
     "metadata": {},
     "output_type": "execute_result"
    }
   ],
   "source": [
    "batt_st"
   ]
  },
  {
   "cell_type": "code",
   "execution_count": 62,
   "id": "69a68310",
   "metadata": {},
   "outputs": [],
   "source": [
    "xec = energy_con_onehr['Time_srt']\n",
    "yec = energy_con_onehr['KW/hr']\n",
    "xei = energy_imp_onehr['Time_srt']\n",
    "yei = energy_imp_onehr['KW/hr']\n",
    "xeg = eng_gen_onehr['Time_srt']\n",
    "yeg = eng_gen_onehr['KW/hr']\n",
    "xee = eng_exp_onehr['Time_srt']\n",
    "yee = eng_exp_onehr['KW/hr']\n",
    "xat = at['Time_srt']\n",
    "yat = at['Value']\n",
    "ybs = batt_st['Value']"
   ]
  },
  {
   "cell_type": "code",
   "execution_count": 63,
   "id": "6683044c",
   "metadata": {},
   "outputs": [],
   "source": [
    "# plt.plot([0.1, 0.2, 0.3, 0.4], [1, 2, 3, 4])\n",
    "# plt.plot([0.1, 0.2, 0.3, 0.4], [1, 4, 9, 16])\n",
    "# plt.xlabel(\"Time (s)\")\n",
    "# plt.ylabel(\"Scale (Bananas)\")"
   ]
  },
  {
   "cell_type": "code",
   "execution_count": 64,
   "id": "fdc82714",
   "metadata": {},
   "outputs": [],
   "source": [
    "xec.to_numpy;\n",
    "yec.to_numpy;\n",
    "xeg.to_numpy;\n",
    "yeg.to_numpy;\n",
    "xei.to_numpy;\n",
    "yei.to_numpy;\n",
    "xee.to_numpy;\n",
    "yee.to_numpy;\n",
    "xat.to_numpy;\n",
    "yat.to_numpy;\n",
    "ybs.to_numpy;"
   ]
  },
  {
   "cell_type": "code",
   "execution_count": 65,
   "id": "cce7c483",
   "metadata": {},
   "outputs": [
    {
     "data": {
      "text/plain": [
       "Timestamp('2021-06-27 00:00:00')"
      ]
     },
     "execution_count": 65,
     "metadata": {},
     "output_type": "execute_result"
    }
   ],
   "source": [
    "rd_df[';Date'][1]"
   ]
  },
  {
   "cell_type": "code",
   "execution_count": 66,
   "id": "a0424411",
   "metadata": {},
   "outputs": [],
   "source": [
    "date = rd_df[';Date'][1].date()"
   ]
  },
  {
   "cell_type": "code",
   "execution_count": 67,
   "id": "945be5e0",
   "metadata": {},
   "outputs": [],
   "source": [
    "filedate = date.strftime(\"%Y/%m/%d\")"
   ]
  },
  {
   "cell_type": "code",
   "execution_count": 68,
   "id": "fe133b58",
   "metadata": {},
   "outputs": [
    {
     "data": {
      "text/plain": [
       "0    00:02\n",
       "1    01:02\n",
       "2    02:02\n",
       "3    03:02\n",
       "4    04:02\n",
       "Name: Time_srt, dtype: object"
      ]
     },
     "execution_count": 68,
     "metadata": {},
     "output_type": "execute_result"
    }
   ],
   "source": [
    "ss.head()"
   ]
  },
  {
   "cell_type": "code",
   "execution_count": 69,
   "id": "ae1eb1b2",
   "metadata": {},
   "outputs": [
    {
     "data": {
      "image/png": "[encoded data removed]",
      "text/plain": [
       "<Figure size 1080x360 with 1 Axes>"
      ]
     },
     "metadata": {
      "needs_background": "light"
     },
     "output_type": "display_data"
    }
   ],
   "source": [
    "# ax = df.plot(x_compat=True)\n",
    "plt.plot(ss, yec, label=\"Energy Consumed\")\n",
    "plt.plot(ss, yeg, label=\"Energy Generated\")\n",
    "plt.plot(ss, yei, label=\"Energy Imported\")\n",
    "plt.plot(ss, yee, label=\"Energy Exported\")\n",
    "plt.plot(ss, yat, label=\"Ambient Temperature\")\n",
    "\n",
    "plt.plot(ss, ybs, label=\"Battery Status\")\n",
    "\n",
    "plt.xticks(np.arange(0, len(ss), 1))\n",
    "\n",
    "# plt.xticks(np.arange(0, len(xeg)+1, 4));\n",
    "# plt.yticks(np.arange(0, max (yec), 1))\n",
    "plt.legend();\n",
    "plt.grid()"
   ]
  },
  {
   "cell_type": "code",
   "execution_count": 70,
   "id": "2c7c1d16",
   "metadata": {},
   "outputs": [
    {
     "data": {
      "image/png": "[encoded data removed]",
      "text/plain": [
       "<Figure size 1080x360 with 2 Axes>"
      ]
     },
     "metadata": {
      "needs_background": "light"
     },
     "output_type": "display_data"
    }
   ],
   "source": [
    "# ax = df.plot(x_compat=True)\n",
    "# %matplotlib inline\n",
    "ax = plt.subplot(111)\n",
    "\n",
    "\n",
    "ax.set_xlabel(\"Time_srt\",fontsize=14)\n",
    "ax.set_ylabel(\"KW/hr\",color=\"red\",fontsize=14)\n",
    "\n",
    "\n",
    "l1 = ax.plot(ss, yeg, '-', label=\"Energy Generated\")\n",
    "l2 = ax.plot(ss, yec,'-', label=\"Energy Consumed\")\n",
    "l3 = ax.plot(ss, yee, '-', label=\"Energy Exported\")\n",
    "l4 = ax.plot(ss, yei, '-', label=\"Energy Imported\")\n",
    "# l5 = ax.plot(ss, yat, '-', label=\"Ambient Temperature\")\n",
    "\n",
    "ax2=ax.twinx()\n",
    "l6 = ax2.plot(ss, ybs, '-', label = 'Battery %', color='b');\n",
    "ax2.set_ylabel(\"Battery %\",color=\"blue\",fontsize=14)\n",
    "\n",
    "l = l1+l2+l3+l4+l6\n",
    "labs = [ll.get_label() for ll in l]\n",
    "ax.legend(l, labs, loc=2);\n",
    "# plt.xticks(np.arange(0, len(ss), 1))\n",
    "\n",
    "# plt.xticks(np.arange(0, len(xeg)+1, 4));\n",
    "# plt.yticks(np.arange(0, max (yec), 1))\n",
    "# plt.legend();\n",
    "ax.grid();\n",
    "plt.title(f'PV Energy Profile for date -{filedate}', fontdict = {'fontsize' : 15},color= 'blue', fontweight='bold')\n",
    "plt.show();"
   ]
  },
  {
   "cell_type": "code",
   "execution_count": 71,
   "id": "b8e2fb63",
   "metadata": {},
   "outputs": [
    {
     "data": {
      "image/png": "[encoded data removed]",
      "text/plain": [
       "<Figure size 1080x360 with 2 Axes>"
      ]
     },
     "metadata": {
      "needs_background": "light"
     },
     "output_type": "display_data"
    }
   ],
   "source": [
    "# Adding Total value in the Legend - Task completed\n",
    "\n",
    "ax = plt.subplot(111)\n",
    "\n",
    "ax.set_xlabel(\"Time_srt\",fontsize=14)\n",
    "ax.set_ylabel(\"KW/hr\",color=\"red\",fontsize=14)\n",
    "\n",
    "l1 = ax.plot(ss, yeg, '-', label=f\"Energy Generated - {Total_gen}\", color='g')\n",
    "l2 = ax.plot(ss, yec,'-', label=f\"Energy Consumed - {Total_con}\", color='lime')\n",
    "l3 = ax.plot(ss, yee, '-', label=f\"Energy Exported - {Total_exp}\", color='b')\n",
    "l4 = ax.plot(ss, yei, '-', label=f\"Energy Imported - {Total_imp}\", color='r')\n",
    "# l5 = ax.plot(ss, yat, '-', label=\"Ambient Temperature\")\n",
    "\n",
    "ax2=ax.twinx()\n",
    "l6 = ax2.plot(ss, ybs, '-', label = 'Battery %', color='brown');\n",
    "ax2.set_ylabel(\"Battery %\",color=\"brown\",fontsize=14)\n",
    "ax2.set_ylim([70, 105])\n",
    "\n",
    "l = l1+l2+l3+l4+l6\n",
    "labs = [ll.get_label() for ll in l]\n",
    "ax.legend(l, labs, loc=2);\n",
    "\n",
    "ax.grid();\n",
    "plt.title(f'PV Energy Profile for date -{filedate}', fontdict = {'fontsize' : 15},color= 'blue', fontweight='bold')\n",
    "plt.show();"
   ]
  },
  {
   "cell_type": "code",
   "execution_count": 72,
   "id": "9f8739b9",
   "metadata": {},
   "outputs": [
    {
     "data": {
      "image/png": "[encoded data removed]",
      "text/plain": [
       "<Figure size 1080x360 with 2 Axes>"
      ]
     },
     "metadata": {
      "needs_background": "light"
     },
     "output_type": "display_data"
    }
   ],
   "source": [
    "# Smooth Line\n",
    "\n",
    "ax = plt.subplot(111)\n",
    "\n",
    "ax.set_xlabel(\"Time_srt\",fontsize=14)\n",
    "ax.set_ylabel(\"KW/hr\",color=\"red\",fontsize=14)\n",
    "ax.set_ylim([-5, 90])\n",
    "l1 = ax.plot(ss, yeg, '-', label=f\"Energy Generated - {Total_gen}\", color='g')\n",
    "l2 = ax.plot(ss, yec,'-', label=f\"Energy Consumed - {Total_con}\", color='lime')\n",
    "l3 = ax.plot(ss, yee, '-', label=f\"Energy Exported - {Total_exp}\", color='b')\n",
    "l4 = ax.plot(ss, yei, '-', label=f\"Energy Imported - {Total_imp}\", color='r')\n",
    "# l5 = ax.plot(ss, yat, '-', label=\"Ambient Temperature\")\n",
    "\n",
    "ax2=ax.twinx()\n",
    "l6 = ax2.plot(ss, ybs, '-', label = 'Battery %', color='darkviolet');\n",
    "ax2.set_ylabel(\"Battery %\",color=\"darkviolet\",fontsize=14)\n",
    "ax2.set_ylim([80, 105])\n",
    "\n",
    "l = l1+l2+l3+l4+l6\n",
    "labs = [ll.get_label() for ll in l]\n",
    "ax.legend(l, labs, loc=2);\n",
    "\n",
    "ax.grid();\n",
    "plt.title(f'PV Energy Profile for date -{filedate}', fontdict = {'fontsize' : 15},color= 'blue', fontweight='bold')\n",
    "plt.show();"
   ]
  },
  {
   "cell_type": "code",
   "execution_count": 73,
   "id": "04f9a5b7",
   "metadata": {},
   "outputs": [
    {
     "data": {
      "image/png": "[encoded data removed]",
      "text/plain": [
       "<Figure size 1080x360 with 1 Axes>"
      ]
     },
     "metadata": {
      "needs_background": "light"
     },
     "output_type": "display_data"
    }
   ],
   "source": [
    "# ax = df.plot(x_compat=True)\n",
    "plt.plot(xec, yec, label=\"Energy Consumed\")\n",
    "plt.plot(xec, yeg, label=\"Energy Generated\")\n",
    "plt.plot(xec, yei, label=\"Energy Imported\")\n",
    "plt.plot(xec, yee, label=\"Energy Exported\")\n",
    "plt.plot(xec, yat, label=\"Ambient Temperature\")\n",
    "\n",
    "plt.xticks(np.arange(0, len(xec)+1, 2))\n",
    "\n",
    "# plt.xticks(np.arange(0, len(xeg)+1, 4));\n",
    "# plt.yticks(np.arange(0, max (yec), 1))\n",
    "plt.legend();\n",
    "plt.grid()"
   ]
  },
  {
   "cell_type": "code",
   "execution_count": null,
   "id": "37eee878",
   "metadata": {},
   "outputs": [],
   "source": []
  }
 ],
 "metadata": {
  "kernelspec": {
   "display_name": "Python 3 (ipykernel)",
   "language": "python",
   "name": "python3"
  },
  "language_info": {
   "codemirror_mode": {
    "name": "ipython",
    "version": 3
   },
   "file_extension": ".py",
   "mimetype": "text/x-python",
   "name": "python",
   "nbconvert_exporter": "python",
   "pygments_lexer": "ipython3",
   "version": "3.8.2"
  }
 },
 "nbformat": 4,
 "nbformat_minor": 5
}
